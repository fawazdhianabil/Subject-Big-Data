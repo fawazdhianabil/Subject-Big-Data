{
  "nbformat": 4,
  "nbformat_minor": 0,
  "metadata": {
    "colab": {
      "name": "Function&Lambda.ipynb",
      "provenance": [],
      "collapsed_sections": [],
      "include_colab_link": true
    },
    "kernelspec": {
      "name": "python3",
      "display_name": "Python 3"
    },
    "language_info": {
      "name": "python"
    }
  },
  "cells": [
    {
      "cell_type": "markdown",
      "metadata": {
        "id": "view-in-github",
        "colab_type": "text"
      },
      "source": [
        "<a href=\"https://colab.research.google.com/github/fawazdhianabil/Subject-Big-Data/blob/main/Function%26Lambda.ipynb\" target=\"_parent\"><img src=\"https://colab.research.google.com/assets/colab-badge.svg\" alt=\"Open In Colab\"/></a>"
      ]
    },
    {
      "cell_type": "markdown",
      "metadata": {
        "id": "xF03cXiN_Tn5"
      },
      "source": [
        "\n",
        "\n",
        "#Topic Materi: Function & Lambda Pada Python \n",
        "\n"
      ]
    },
    {
      "cell_type": "markdown",
      "metadata": {
        "id": "gPMB9hh-AK3M"
      },
      "source": [
        "##Function in Python"
      ]
    },
    {
      "cell_type": "markdown",
      "metadata": {
        "id": "LazYMxHZBBym"
      },
      "source": [
        "###Apa itu Function pada Python?\n",
        "\n"
      ]
    },
    {
      "cell_type": "markdown",
      "metadata": {
        "id": "Ojb-stZNK3kw"
      },
      "source": [
        "\n",
        "\n",
        "*   Pengertian Fungsi (def) pada Phyton.\n",
        "\n",
        "\n",
        "fungsi pada phyton adalah kumpulan perintah atau baris code yang dikelompokkan menjadi satu kesatuan untuk kemudian bisa dipanggil atau digunakan berkali-kali. sebuah fungsi bisa menerima parameter, bisa mengembalikkan suatu nilai, dan bisa dipanggil  berkali-kali secara independen. fungsi akan membuat kode program menjadi lebih “reusable” dan lebih terstruktur.\n",
        "\n",
        "\n",
        "\n"
      ]
    },
    {
      "cell_type": "markdown",
      "metadata": {
        "id": "e4XPf8VILh8M"
      },
      "source": [
        "\n",
        "\n",
        "*   Sintaks Fungsi.\n",
        "\n",
        "di dalam python, sintaks pembuatan fungsi terlihat sebagai berikut :\n",
        "\n",
        "\n",
        "\n"
      ]
    },
    {
      "cell_type": "code",
      "metadata": {
        "id": "L90UthFSL-z8"
      },
      "source": [
        "def<nama_fungsi>(parameters):\n",
        "  statements"
      ],
      "execution_count": null,
      "outputs": []
    },
    {
      "cell_type": "markdown",
      "metadata": {
        "id": "WeWtsp6WMJ2e"
      },
      "source": [
        "sintaks di atas secara umum terbagi menjadi 4 bagian :\n",
        " \n",
        "1.  Kata kunci def yang menjadi pertanda bahwa blok kode program adalah sebuah fungsi\n",
        "2.   Nama fungsi yang kita buat\n",
        "3. Parameters yang akan diterima oleh fungsi yang kita buat(tidak wajib)\n",
        "4. Dan blok kode fungsi yang di sana akan kita tulis perintah-perintah yang harus dilakukan oleh sebuah fungsi\n",
        "\n",
        "Contoh sebuah fungsi sederhana dengan nama halo_dunia():\n"
      ]
    },
    {
      "cell_type": "code",
      "metadata": {
        "id": "EfkKuwPRMxif"
      },
      "source": [
        "def hallo_dunia():\n",
        "  print('Hallo Phyton! Hallo Dunia')\n",
        "hallo_dunia()"
      ],
      "execution_count": null,
      "outputs": []
    },
    {
      "cell_type": "markdown",
      "metadata": {
        "id": "PVv47vwqBFg8"
      },
      "source": [
        "###Contoh Function Bawaan pada Python\n"
      ]
    },
    {
      "cell_type": "markdown",
      "metadata": {
        "id": "nT1LocWoNmpw"
      },
      "source": [
        "Pada phyton fungsi bawaan terdapat sekitar 69 fungsi bawaan, disini akan di ambil beberapa contohnya, sebagai berikut :\n",
        "\n",
        "\n",
        "*   abs() yang memiliki kegunaan mengubah suatu bilangan ke bentuk absolut\n",
        "\n"
      ]
    },
    {
      "cell_type": "code",
      "metadata": {
        "id": "0qFKKe4eN9Lh"
      },
      "source": [
        "abs(-100)"
      ],
      "execution_count": null,
      "outputs": []
    },
    {
      "cell_type": "markdown",
      "metadata": {
        "id": "Bk_S89BjOSiQ"
      },
      "source": [
        "\n",
        "\n",
        "*   bin() yang memiliki kegunaan mengubah integer ke biner\n",
        "\n"
      ]
    },
    {
      "cell_type": "code",
      "metadata": {
        "id": "GZY2KlzTOgou"
      },
      "source": [
        "bin(2500)"
      ],
      "execution_count": null,
      "outputs": []
    },
    {
      "cell_type": "markdown",
      "metadata": {
        "id": "fg5HaGtGO2EP"
      },
      "source": [
        "\n",
        "\n",
        "*   float() yang memiliki kegunaan menghasilkan nilai float dari bilangan atau string bilangan\n",
        "\n"
      ]
    },
    {
      "cell_type": "code",
      "metadata": {
        "id": "-XKtBJxOPW9m"
      },
      "source": [
        "float('1e-3')"
      ],
      "execution_count": null,
      "outputs": []
    },
    {
      "cell_type": "markdown",
      "metadata": {
        "id": "S7DIcpdhKwAu"
      },
      "source": [
        "\n",
        "*   help() yang memiliki kegunaan memanggil sistem bantuan bawaan python\n",
        "\n",
        "\n"
      ]
    },
    {
      "cell_type": "code",
      "metadata": {
        "id": "THCtWYGNT6JF"
      },
      "source": [
        "help(print)"
      ],
      "execution_count": null,
      "outputs": []
    },
    {
      "cell_type": "markdown",
      "metadata": {
        "id": "VR-XF4wKUC5s"
      },
      "source": [
        "\n",
        "*   input() yang memiliki kegunaan membaca masukan dan mengembalikannya\n",
        "\n"
      ]
    },
    {
      "cell_type": "code",
      "metadata": {
        "id": "USh02ZcNUr0s"
      },
      "source": [
        "input_string = input('Masukkan string: ')\n",
        "print('String yang dimasukkan adalah:', input_string) "
      ],
      "execution_count": null,
      "outputs": []
    },
    {
      "cell_type": "markdown",
      "metadata": {
        "id": "yrhSvJN1VBqN"
      },
      "source": [
        "\n",
        "*   print() yang memilki kegunaan mencetak atau menampilkan objek yang diberikan\n",
        "\n",
        "\n",
        "\n",
        "\n"
      ]
    },
    {
      "cell_type": "code",
      "metadata": {
        "id": "WtVHGSmIJiqf"
      },
      "source": [
        "print('Belajar Phyton')"
      ],
      "execution_count": null,
      "outputs": []
    },
    {
      "cell_type": "markdown",
      "metadata": {
        "id": "sgPnZp5pBIq5"
      },
      "source": [
        "###User Defined Function\n"
      ]
    },
    {
      "cell_type": "markdown",
      "metadata": {
        "id": "eewgXAQJIPSp"
      },
      "source": [
        "User defined function adalah fungsi yang dibuat sendiri oleh programmer.\n",
        "\n",
        "Berikut format dasar cara pendefinisian fungsi dalam bahasa Python:"
      ]
    },
    {
      "cell_type": "code",
      "metadata": {
        "id": "2k9gUz66OdTm"
      },
      "source": [
        "def nama_function():\n",
        "  #isi function disini....\n",
        "  #isi function disini....\n",
        "  return nilai"
      ],
      "execution_count": null,
      "outputs": []
    },
    {
      "cell_type": "markdown",
      "metadata": {
        "id": "h7P78gPvO14d"
      },
      "source": [
        "Untuk membuat fungsi, awali dengan keyword def lalu diikuti dengan nama fungsinya. Penulisan namaFunction sebenarnya boleh bebas, selama mengikuti aturan penulisan identifier yakni tidak boleh di awali angka dan tidak boleh mengandung spasi.\n",
        "Nama fungsi sebaiknya ditulis dengan huruf kecil semua dan menggunakan spasi / underscore sebagai pemisah kata. Aturan penamaan ini sering disebut sebagai snake_case.\n",
        "\n",
        "Setelah penulisan nama_function, terdapat tanda kurung ” () “. Nantinya tanda kurung ini bisa diisi dengan parameter atau argumen. Baris pertama diakhir dengan tanda titik dua ” : ” untuk memulai kode program isi function.\n",
        "\n",
        "Isi function berada dalam blok kode program Python yang di-indent atau di jorokkan beberapa spasi atau tab ke arah dalam. Jika fungsi tersebut mengembalikan nilai, maka jalankan perintah return seperti di baris 4.\n",
        "\n",
        "Ketika sebuah function di definisikan, function tersebut belum berjalan. Agar bisa berjalan, sebuah function harus “dipanggil” dengan cara menulis nama fungsi tersebut.\n",
        "\n",
        "Contoh format dasarnya:"
      ]
    },
    {
      "cell_type": "code",
      "metadata": {
        "id": "T54TW4YnP3dU"
      },
      "source": [
        "def nama_function():\n",
        "  #isi function disini....\n",
        "  #isi function disini....\n",
        "  return nilai\n",
        "\n",
        "nama_function()"
      ],
      "execution_count": null,
      "outputs": []
    },
    {
      "cell_type": "markdown",
      "metadata": {
        "id": "doVg1QB1E3pX"
      },
      "source": [
        "Contoh :"
      ]
    },
    {
      "cell_type": "code",
      "metadata": {
        "id": "GbYfdmBFQI3B"
      },
      "source": [
        "def sapa_Indonesia():\n",
        "  print('Halo Indonesia')\n",
        "\n",
        "sapa_Indonesia()"
      ],
      "execution_count": null,
      "outputs": []
    },
    {
      "cell_type": "markdown",
      "metadata": {
        "id": "KPO64CghBL12"
      },
      "source": [
        "###Keyword/Parameter & Argument\n"
      ]
    },
    {
      "cell_type": "markdown",
      "metadata": {
        "id": "g1rNXvvLQa96"
      },
      "source": [
        "Sebuah fungsi juga bisa menerima parameter ataupun argumen. Ia merupakan suatu nilai/variabel yang dilemparkan ke dalam fungsi untuk diproses lebih lanjut.\n",
        "\n"
      ]
    },
    {
      "cell_type": "code",
      "metadata": {
        "id": "Mh0G3bYkQlrQ"
      },
      "source": [
        "Halo Nurul, selamat datang!\n",
        "Halo Lendis, selamat datang!\n",
        "Halo Fabri, selamat datang!\n",
        "Halo Isa, selamat datang!"
      ],
      "execution_count": null,
      "outputs": []
    },
    {
      "cell_type": "markdown",
      "metadata": {
        "id": "55oKRcI9Q92v"
      },
      "source": [
        "Untuk melakukan 4kali print seperti di atas sekaligus, kita dapat memanfaatkan fungsi dan parameter pada Python.\n",
        "\n",
        "Sehingga kode programnya akan terlihat sebagai berikut:\n"
      ]
    },
    {
      "cell_type": "code",
      "metadata": {
        "id": "Xq9FJE2HRC7F"
      },
      "source": [
        "def selamat_datang (nama):\n",
        "  print(f'Halo {nama}, selamat datang!')\n",
        "\n",
        "selamat_datang('Nurul')\n",
        "selamat_datang('Lendis')\n",
        "selamat_datang('Fabri')\n",
        "selamat_datang('Isa')"
      ],
      "execution_count": null,
      "outputs": []
    },
    {
      "cell_type": "markdown",
      "metadata": {
        "id": "9AenlqTqRnHT"
      },
      "source": [
        "####PARAMETER WAJIB\n",
        "\n",
        "Parameter di dalam Python bisa lebih dari satu, bisa wajib (harus diisi), atau bersifat opsional.\n",
        "\n",
        "Perhatikan contoh fungsi berikut:\n"
      ]
    },
    {
      "cell_type": "code",
      "metadata": {
        "id": "wCcUM054R1yj"
      },
      "source": [
        "def perkenalan(nama, asal):\n",
        "  print(f'Perkenalkan saya {nama} dari {asal}')\n",
        "\n",
        "perkenalan('Tiara', 'Yogyakarta')"
      ],
      "execution_count": null,
      "outputs": []
    },
    {
      "cell_type": "markdown",
      "metadata": {
        "id": "KzTmMeSkSdda"
      },
      "source": [
        "####PARAMETER OPSIONAL (Default)\n",
        "\n",
        "Parameter opsional adalah parameter yang seandainya tidak diisi, dia sudah memiliki nilai default.\n",
        "\n",
        "Contoh:\n"
      ]
    },
    {
      "cell_type": "code",
      "metadata": {
        "id": "zQFc3YpiSyP7"
      },
      "source": [
        "def suhu_udara (daerah, derajat, satuan = 'celcius'):\n",
        "  print(f'Suhu di {daerah} adalah {derajat} {satuan}')"
      ],
      "execution_count": null,
      "outputs": []
    },
    {
      "cell_type": "markdown",
      "metadata": {
        "id": "GrUxOXL6TUwT"
      },
      "source": [
        "Dua parameter di atas adalah wajib diisi, sedangkan parameter ke-3 tidak wajib, jika tidak diisi, maka nilai default-nya adalah ‘celcius’.\n"
      ]
    },
    {
      "cell_type": "markdown",
      "metadata": {
        "id": "j8Ze3w9hTXGO"
      },
      "source": [
        "####FUNGSI DENGAN PARAMETER TIDAK BERURUT\n",
        "\n",
        "Jika parameter opsional-nya lebih dari satu:\n"
      ]
    },
    {
      "cell_type": "code",
      "metadata": {
        "id": "TkaGR4nvTmI-"
      },
      "source": [
        "def suhu_udara (daerah, derajat = 30, satuan = 'celcius'):\n",
        "  print(f'Suhu di {daerah} adalah {derajat} {satuan}')"
      ],
      "execution_count": null,
      "outputs": []
    },
    {
      "cell_type": "markdown",
      "metadata": {
        "id": "MLotpC0iT5Uh"
      },
      "source": [
        "ketika dicoba memanggil dengan 2 parameter, yang diinginkan adalah parameter daerah dan satuan:\n"
      ]
    },
    {
      "cell_type": "code",
      "metadata": {
        "id": "DcyAhG6gT-gZ"
      },
      "source": [
        "def suhu_udara (daerah, derajat = 30, satuan = 'celcius'):\n",
        "  print(f'Suhu di {daerah} adalah {derajat} {satuan}')\n",
        "\n",
        "suhu_udara('Jakarta', 'fahrenheit')\n"
      ],
      "execution_count": null,
      "outputs": []
    },
    {
      "cell_type": "markdown",
      "metadata": {
        "id": "rtxKGBcsUS2I"
      },
      "source": [
        "Output tersebut terdapat parameter derajat, maka tidak sesuai dengan yang diinginkan. \n",
        "\n",
        "Cara untuk mengatasinya adalah dengan mendefinisikan nama argumen/parameter yang akan diisi.\n",
        "\n",
        "Contoh:\n"
      ]
    },
    {
      "cell_type": "code",
      "metadata": {
        "id": "fvlrcyoGUVlU"
      },
      "source": [
        "def suhu_udara (daerah, derajat = 30, satuan = 'celcius'):\n",
        "  print(f'Suhu di {daerah} adalah {derajat} {satuan}')\n",
        "\n",
        "suhu_udara('Jakarta', satuan = 'fahrenheit')"
      ],
      "execution_count": null,
      "outputs": []
    },
    {
      "cell_type": "markdown",
      "metadata": {
        "id": "1y1Vaz9eUt_L"
      },
      "source": [
        "Dengan mendefinisikan nama argumen yang di passing, maka akan dapat dipanggil bahkan secara tidak berurutan sekalipun:\n"
      ]
    },
    {
      "cell_type": "code",
      "metadata": {
        "id": "1qkDLno_Uvah"
      },
      "source": [
        "def suhu_udara (daerah, derajat = 30, satuan = 'celcius'):\n",
        "  print(f'Suhu di {daerah} adalah {derajat} {satuan}')\n",
        "\n",
        "suhu_udara(satuan = 'fahrenheit', daerah = 'Jakarta', derajat = '30')"
      ],
      "execution_count": null,
      "outputs": []
    },
    {
      "cell_type": "markdown",
      "metadata": {
        "id": "vq_GMWfoBO3H"
      },
      "source": [
        "###Positional Argument & Keyword\n"
      ]
    },
    {
      "cell_type": "markdown",
      "metadata": {
        "id": "dSTYoaOxY1FY"
      },
      "source": [
        "Fungsi Python dapat berisi dua jenis argumen\n",
        "Argumen posisional dan argumen kata kunci. Argumen posisi harus dimasukkan dalam urutan yang benar. Dan Argumen kata kunci disertakan dengan kata kunci dan tanda sama dengan.\n"
      ]
    },
    {
      "cell_type": "markdown",
      "metadata": {
        "id": "_bUp39LFZMc0"
      },
      "source": [
        "####a.\tArgumen posisi\n",
        "\n",
        "Sebelumnya kita harus mengetahui apa itu argumen.  Argumen adalah variabel, nilai, atau objek yang diteruskan ke fungsi atau metode sebagai input. Jadi Argumen posisional adalah argumen yang perlu dimasukkan dalam posisi atau urutan yang tepat. \n",
        "Argumen posisi pertama selalu perlu dicantumkan terlebih dahulu saat fungsi dipanggil. Argumen posisi kedua perlu dicantumkan kedua dan argumen posisi ketiga dicantumkan ketiga, dst."
      ]
    },
    {
      "cell_type": "markdown",
      "metadata": {
        "id": "zApk92ejZftP"
      },
      "source": [
        "Contoh argumen posisi dapat dilihat di fungsi Python complex(). Fungsi ini mengembalikan bilangan kompleks dengan suku nyata dan suku imajiner.\n",
        "Contohnya :\n",
        "Jika bilangan kompleks 3 + 5j dibuat, dua argumen posisi adalah angka 3 dan 5. Sebagai argumen posisi 3 harus dicantumkan terlebih dahulu, dan 5 harus dicantumkan kedua.\n"
      ]
    },
    {
      "cell_type": "code",
      "metadata": {
        "id": "JWMoP3KxZnVv"
      },
      "source": [
        "complex(3, 5)"
      ],
      "execution_count": null,
      "outputs": []
    },
    {
      "cell_type": "markdown",
      "metadata": {
        "id": "aBPEwzFZZxNH"
      },
      "source": [
        "apabila ingin membuat 5+3j maka 5 dicantumkan terlebih dahulu dan 3 dicantumkan kedua. dan apabila menulis argumen yang sama dalam urutan yang berbeda menghasilkan hasil yang berbeda."
      ]
    },
    {
      "cell_type": "code",
      "metadata": {
        "id": "3HlrMd4ZaEwL"
      },
      "source": [
        "complex(5, 3)"
      ],
      "execution_count": null,
      "outputs": []
    },
    {
      "cell_type": "markdown",
      "metadata": {
        "id": "ASpRgkF_aUjX"
      },
      "source": [
        "Argumen Posisi yang Ditentukan oleh list dan tupel\n",
        "\n",
        "Argumen posisi juga dapat diteruskan ke fungsi menggunakan objek yang dapat diubah. Contoh objek yang dapat diubah dalam Python termasuk daftar dan tupel. Sintaks umum yang digunakan adalah:\n"
      ]
    },
    {
      "cell_type": "code",
      "metadata": {
        "id": "Do3poa5WalIx"
      },
      "source": [
        "function(*iterable)"
      ],
      "execution_count": null,
      "outputs": []
    },
    {
      "cell_type": "markdown",
      "metadata": {
        "id": "gleZKFDgaowj"
      },
      "source": [
        "Dimana function adalah nama dari function dan iterable adalah nama dari iterable yang didahului dengan karakter * asterisk.\n",
        "\n",
        "Contoh penggunaan daftar untuk meneruskan argumen posisi ke fungsi complex() adalah sb :"
      ]
    },
    {
      "cell_type": "code",
      "metadata": {
        "id": "GsAh_91caz6T"
      },
      "source": [
        "term_list = [3, 5]\n",
        "complex(*term_list)"
      ],
      "execution_count": null,
      "outputs": []
    },
    {
      "cell_type": "markdown",
      "metadata": {
        "id": "1jLwXRJrbBe7"
      },
      "source": [
        "Terlihat bahwa karakter asterisk * disertakan sebelum argumen term_list.\n",
        "\n"
      ]
    },
    {
      "cell_type": "markdown",
      "metadata": {
        "id": "CQGZkQ0lbFPt"
      },
      "source": [
        "####b.\tArgumen kata kunci\n",
        "\n",
        "Argumen kata kunci adalah argumen yang diteruskan ke fungsi atau metode yang didahului oleh kata kunci dan tanda sama dengan. Bentuk umumnya adalah:\n"
      ]
    },
    {
      "cell_type": "code",
      "metadata": {
        "id": "FqznUtWQbHsr"
      },
      "source": [
        "function(keyword=value)"
      ],
      "execution_count": null,
      "outputs": []
    },
    {
      "cell_type": "markdown",
      "metadata": {
        "id": "AZL7BHjgbQhc"
      },
      "source": [
        "Di mana function adalah nama fungsi, keyword adalah argumen kata kunci dan nilai adalah nilai atau objek yang dilewatkan sebagai kata kunci itu.\n",
        "Fungsi kompleks python juga dapat menerima dua argumen kata kunci. Dua argumen kata kunci adalah real= and imag= . \n"
      ]
    },
    {
      "cell_type": "markdown",
      "metadata": {
        "id": "OamZx2YpbZj5"
      },
      "source": [
        "Untuk membuat bilangan kompleks 3 + 5j , 3 dan 5 dapat diteruskan ke fungsi sebagai nilai yang ditetapkan ke argumen kata kunci real= dan imag=. \n",
        "Contohnya :\n"
      ]
    },
    {
      "cell_type": "code",
      "metadata": {
        "id": "VF2jVC0AbeMw"
      },
      "source": [
        "complex(real=3, imag=5)"
      ],
      "execution_count": null,
      "outputs": []
    },
    {
      "cell_type": "markdown",
      "metadata": {
        "id": "_yNdSGnsb0Se"
      },
      "source": [
        "sehingga dapat dilihat bahwa urutan satu argumen kata kunci dibandingkan dengan argumen kata kunci lainnya tidak masalah."
      ]
    },
    {
      "cell_type": "markdown",
      "metadata": {
        "id": "CNEz7bjob5hB"
      },
      "source": [
        "####Argumen Kata Kunci yang Ditentukan oleh Kamus\n",
        "\n",
        "Argumen kata kunci juga dapat diteruskan ke fungsi menggunakan kamus Python. Kamus harus berisi kata kunci sebagai kunci dan nilai sebagai nilai. \n",
        "Bentuk umumnya adalah sb :\n"
      ]
    },
    {
      "cell_type": "code",
      "metadata": {
        "id": "SDhdzWhqcCrI"
      },
      "source": [
        "\n",
        "keyword_dict = {'keyword1': value1, 'keyword2': value2}\n",
        "function(**keyword_dict)\n"
      ],
      "execution_count": null,
      "outputs": []
    },
    {
      "cell_type": "markdown",
      "metadata": {
        "id": "Gf3li3fVcI4M"
      },
      "source": [
        "Dimana function adalah nama fungsi dan keyword_dict adalah nama kamus yang berisi kata kunci dan nilai yang didahului oleh karakter tanda bintang ganda **. Perhatikan bahwa kata kunci yang ditetapkan sebagai kunci dalam kamus harus diapit oleh tanda kutip ' '. "
      ]
    },
    {
      "cell_type": "markdown",
      "metadata": {
        "id": "TTovPC-ccNmC"
      },
      "source": [
        "Contoh penggunaan kamus untuk meneruskan argumen kata kunci ke fungsi complex() di bawah ini:"
      ]
    },
    {
      "cell_type": "code",
      "metadata": {
        "id": "LPYEw7fMcQ22"
      },
      "source": [
        "keyword_dict = {'real': 3, 'imag': 5}\n",
        "complex(**keyword_dict)"
      ],
      "execution_count": null,
      "outputs": []
    },
    {
      "cell_type": "markdown",
      "metadata": {
        "id": "xMwLLETCBRp8"
      },
      "source": [
        "###Default Argument"
      ]
    },
    {
      "cell_type": "markdown",
      "metadata": {
        "id": "klLsBEvKcQRG"
      },
      "source": [
        "Python memungkinkan argumen fungsi memiliki nilai default. Jika fungsi dipanggil tanpa argumen, argumen mendapatkan nilai defaultnya."
      ]
    },
    {
      "cell_type": "markdown",
      "metadata": {
        "id": "fkt8UDdWclG2"
      },
      "source": [
        "Argumen Bawaan:\n",
        "\n",
        "Nilai default menunjukkan bahwa argumen fungsi akan mengambil nilai itu jika tidak ada nilai argumen yang diteruskan selama pemanggilan fungsi. Nilai default ditetapkan dengan menggunakan operator assignment(=) dari form keywordname=value.\n"
      ]
    },
    {
      "cell_type": "markdown",
      "metadata": {
        "id": "Qh8fiy89c-Z1"
      },
      "source": [
        "misalnya Siswa fungsi berisi 3-argumen di mana 2 argumen ditetapkan dengan nilai default. Jadi, fungsi siswa menerima satu argumen yang diperlukan (nama depan), dan sisanya dua argumen opsional."
      ]
    },
    {
      "cell_type": "code",
      "metadata": {
        "id": "hcmCr8SzdB-E"
      },
      "source": [
        "def student(firstname, lastname ='Mark', standard ='Fifth'):\n",
        " print(firstname, lastname, 'studies in', standard, 'Standard')\n"
      ],
      "execution_count": null,
      "outputs": []
    },
    {
      "cell_type": "markdown",
      "metadata": {
        "id": "BgX8t0eUdDxJ"
      },
      "source": [
        "saat memangil fungsi kita perlu mengingat poin-poin berikut :\n",
        "1.\tDalam hal melewati argumen kata kunci, urutan argumen penting.\n",
        "2.\tSeharusnya hanya ada satu nilai untuk satu parameter.\n",
        "3.\tNama kata kunci yang diteruskan harus sesuai dengan nama kata kunci yang sebenarnya.\n",
        "4.\tDalam kasus pemanggilan fungsi yang berisi argumen non-kata kunci, urutannya penting.\n",
        "\n"
      ]
    },
    {
      "cell_type": "markdown",
      "metadata": {
        "id": "3Fy1taApdN3I"
      },
      "source": [
        "Contoh 1\n",
        "(Memanggil fungsi tanpa argumen kata kunci)"
      ]
    },
    {
      "cell_type": "code",
      "metadata": {
        "id": "t4E9yJbtdV1y"
      },
      "source": [
        "def student(firstname, lastname ='Mark', standard ='Fifth'):\n",
        "\tprint(firstname, lastname, 'studies in', standard, 'Standard')\n",
        "\n",
        "# 1 positional argument\n",
        "student('John')\n",
        "\n",
        "# 3 positional arguments\t\t\t\t\t\t\n",
        "student('John', 'Gates', 'Seventh')\t\n",
        "\n",
        "# 2 positional arguments\n",
        "student('John', 'Gates')\t\t\t\t\n",
        "student('John', 'Seventh')"
      ],
      "execution_count": null,
      "outputs": []
    },
    {
      "cell_type": "markdown",
      "metadata": {
        "id": "FpvQznLudgXO"
      },
      "source": [
        "Kita dapat melihat urutan argumen penting dari panggilan ke-2, ke-3, dan ke-4 dari fungsi tersebut.\n",
        "Pada panggilan pertama, hanya ada satu argumen yang diperlukan dan argumen lainnya menggunakan nilai default. Dalam panggilan kedua, nama belakang dan nilai argumen standar diganti dari nilai default ke nilai kelulusan baru"
      ]
    },
    {
      "cell_type": "markdown",
      "metadata": {
        "id": "_UiGy3rmdmXq"
      },
      "source": [
        "Contoh 2 (Memanggil fungsi dengan argumen kata kunci)"
      ]
    },
    {
      "cell_type": "code",
      "metadata": {
        "id": "hPm8qS0sd2M2"
      },
      "source": [
        "def student(firstname, lastname ='Mark', standard ='Fifth'):\n",
        "\tprint(firstname, lastname, 'studies in', standard, 'Standard')\n",
        "\n",
        "# 1 keyword argument\n",
        "student(firstname ='John')\t\n",
        "\n",
        "# 2 keyword arguments\t\t\t\t\n",
        "student(firstname ='John', standard ='Seventh')\n",
        "\n",
        "# 2 keyword arguments\n",
        "student(lastname ='Gates', firstname ='John')\t\n"
      ],
      "execution_count": null,
      "outputs": []
    },
    {
      "cell_type": "markdown",
      "metadata": {
        "id": "sC8lKkVRd_Fi"
      },
      "source": [
        "Pada panggilan pertama, hanya ada satu argumen kata kunci yang diperlukan. Dalam panggilan kedua, satu adalah argumen yang diperlukan dan satu adalah opsional (standar), yang nilainya diganti dari default ke nilai kelulusan baru. Pada pemanggilan ketiga, kita dapat melihat bahwa urutan dalam argumen kata kunci tidak penting."
      ]
    },
    {
      "cell_type": "markdown",
      "metadata": {
        "id": "_n1gwO9xeBo7"
      },
      "source": [
        "Contoh 3 (Beberapa panggilan fungsi tidak valid)"
      ]
    },
    {
      "cell_type": "code",
      "metadata": {
        "id": "suDLf6EjeGOO"
      },
      "source": [
        "def student(firstname, lastname ='Mark', standard ='Fifth'):\n",
        "\tprint(firstname, lastname, 'studies in', standard, 'Standard')\n",
        "\n",
        "# required argument missing\n",
        "student()\t\t\t\n",
        "\n",
        "# non keyword argument after a keyword argument\t\t\t\n",
        "student(firstname ='John', 'Seventh')\n",
        "\n",
        "# unknown keyword argument\n",
        "student(subject ='Maths')\t"
      ],
      "execution_count": null,
      "outputs": []
    },
    {
      "cell_type": "markdown",
      "metadata": {
        "id": "YCy7E9RHeNIU"
      },
      "source": [
        "Kode di atas akan menimbulkan kesalahan karena:\n",
        "\n",
        "•\tPada panggilan pertama, nilai tidak diteruskan untuk nama depan parameter yang merupakan parameter yang diperlukan\n",
        "\n",
        "•\tDalam panggilan kedua, ada argumen non-kata kunci setelah argumen kata kunci.\n",
        "\n",
        "•\tDalam panggilan ketiga, argumen kata kunci yang lewat tidak cocok dengan argumen nama kata kunci yang sebenarnya.\n",
        "\n"
      ]
    },
    {
      "cell_type": "markdown",
      "metadata": {
        "id": "TFt3jyXyBkyP"
      },
      "source": [
        "##Lambda in Python\n",
        "\n"
      ]
    },
    {
      "cell_type": "markdown",
      "metadata": {
        "id": "4UAWVT9yBs3g"
      },
      "source": [
        "###Apa itu lambda?\n",
        "lambda berasal dari teori kalkulus yang dikenalkan oleh Alonzo Church di tahun 1930. dimana lambda calculus merupakan sistem formal dalam logika matematika untuk mengekspresikan komputasi mengggunakan pengikatan dan subtitusi variabel. lambda calculus terdiri dari membangun istilah lambda dan melakukan operasi reduksi. \n",
        "istilah yang dibangun mengggunakan aturan berikut :\n",
        "![2021-10-22 (2).png](data:image/png;base64,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)\n"
      ]
    },
    {
      "cell_type": "markdown",
      "metadata": {
        "id": "e9sUPAmAV1S1"
      },
      "source": [
        "dengan lambda , dapat dibuat fungsi tanpa nama \n",
        "misal kita mempunyai fungsi penjumlahan kuadrat seperti dibawah ini :\n"
      ]
    },
    {
      "cell_type": "code",
      "metadata": {
        "id": "lPExt6AtV3nn"
      },
      "source": [
        "def suqare_sum(x,y):\n",
        "  return x**2+y**2"
      ],
      "execution_count": null,
      "outputs": []
    },
    {
      "cell_type": "markdown",
      "metadata": {
        "id": "7CPzLZRdV_8j"
      },
      "source": [
        "sedangkan dengan lambda :"
      ]
    },
    {
      "cell_type": "code",
      "metadata": {
        "id": "iOKeMDK_WDJn"
      },
      "source": [
        "(lambda x,y : x**2+y**2)(5,2)"
      ],
      "execution_count": null,
      "outputs": []
    },
    {
      "cell_type": "markdown",
      "metadata": {
        "id": "t8IgtHIUBv25"
      },
      "source": [
        "###Lambda Expression\n",
        "lambda expression di python adalah sebuah ekspresi untuk membuat fungsi. \n",
        "cara memanggilnya membuat format fungsi lambda :\n",
        "lambda args : expression"
      ]
    },
    {
      "cell_type": "markdown",
      "metadata": {
        "id": "m1veTI7ekZEf"
      },
      "source": [
        "lambda bisa memiliki lebih dari satu argumen atau parameter tapi hanya bisa memiliki satu ekspresi atau isi."
      ]
    },
    {
      "cell_type": "markdown",
      "metadata": {
        "id": "OkvCgfWDXgBw"
      },
      "source": [
        "contoh :"
      ]
    },
    {
      "cell_type": "code",
      "metadata": {
        "id": "L5UoKu14Xh3v"
      },
      "source": [
        "greeting = lambda name :print(f\"hello,{name}\")\n",
        "greeting (\"Nida Hasna\")"
      ],
      "execution_count": null,
      "outputs": []
    },
    {
      "cell_type": "markdown",
      "metadata": {
        "id": "hC1QVHw9YZWh"
      },
      "source": [
        "perbedaan lambda dengan fungsi def yaitu lambda khusus untuk fungsi yang berisi satu ekspresi dan sifat fungsinya akan anonymous.\n"
      ]
    },
    {
      "cell_type": "markdown",
      "metadata": {
        "id": "8q0hxScMBzEr"
      },
      "source": [
        "###Anonymous Function\n"
      ]
    },
    {
      "cell_type": "markdown",
      "metadata": {
        "id": "eNM6AvTGBQjx"
      },
      "source": [
        "Karena lambda adalah anonymous function, ia akan bebas menggunakan nama apa saja.\n",
        "\n",
        "Dengan kata lain, fungsi lambda bisa disimpan di variabel mana pun.\n",
        "\n",
        "Ini tentunya tidak bisa dilakukan oleh fungsi yang dibuat dengan def.\n",
        "\n",
        "\n",
        "contoh \n"
      ]
    },
    {
      "cell_type": "code",
      "metadata": {
        "id": "HkF1ZVNiBt0I"
      },
      "source": [
        "def ucapkan_hai(nama):\n",
        "  print(f\"hai {nama}, selamat pagi\")\n",
        "\n",
        "ucapan = ucapkan_hai(nama)"
      ],
      "execution_count": null,
      "outputs": []
    },
    {
      "cell_type": "markdown",
      "metadata": {
        "id": "D7SqzCBUCxqA"
      },
      "source": [
        "saat mencoba membuat fungsi ucapkan_hai() dengan def, kemudian menyimpannya ke dalam variabel ucapan.\n",
        "\n",
        "kenapa error???\n",
        "\n",
        "Ini karena fungsi tersebut bukanlah fungsi anonymous yang boleh dibah-ubah namanya.\n",
        "\n"
      ]
    },
    {
      "cell_type": "code",
      "metadata": {
        "id": "tvmTVBYdC-UG"
      },
      "source": [
        "salam = lambda nama: print(f\"hai, {nama}\")\n",
        "sapa = salam\n",
        "salam (\"safira\")\n",
        "sapa (\"cahya\")"
      ],
      "execution_count": null,
      "outputs": []
    },
    {
      "cell_type": "markdown",
      "metadata": {
        "id": "Fl_23GdTDUdH"
      },
      "source": [
        "Hasilnya nggak akan error, karena ini adalah fungsi anonymous atau lambda."
      ]
    },
    {
      "cell_type": "markdown",
      "metadata": {
        "id": "3VGSpL8RB7zK"
      },
      "source": [
        "###Eksekusi Lambda secara langsung\n",
        "\n"
      ]
    },
    {
      "cell_type": "markdown",
      "metadata": {
        "id": "-wHmFyFEDxtC"
      },
      "source": [
        "Kelebihan fungsi lambda dibandingkan def adalah bisa kita eksekusi langsung.\n",
        "\n",
        "Maksudnya?\n",
        "\n",
        "Ya bisa kita pakai langsung, tanpa harus memanggil namanya.\n",
        "\n",
        "Contohnya:"
      ]
    },
    {
      "cell_type": "code",
      "metadata": {
        "id": "5YlejNtFDpaH"
      },
      "source": [
        "(lambda x,y: x*2 + y**3)(9,0)"
      ],
      "execution_count": null,
      "outputs": []
    },
    {
      "cell_type": "markdown",
      "metadata": {
        "id": "5Q4aLOaGD8Rw"
      },
      "source": [
        "Tanda kurung yang mengapit fungsi lambda artinya kita akan langsung mengeksekusi fungsi tersebut.\n",
        "\n",
        "Lalu kurung berikutnya akan berisi parameter.\n",
        "\n",
        "\n",
        "\n",
        "Hasil dari eksekusi ini bisa juga kita simpan ke dalam variabel."
      ]
    },
    {
      "cell_type": "code",
      "metadata": {
        "id": "i03oOr2BEFau"
      },
      "source": [
        "hasil = (lambda x,y: x*2 + y**3)(9,0)\n",
        "hasil"
      ],
      "execution_count": null,
      "outputs": []
    },
    {
      "cell_type": "markdown",
      "metadata": {
        "id": "pSB384VkCBhc"
      },
      "source": [
        "###Mengapa pakai Lambda?\n"
      ]
    },
    {
      "cell_type": "markdown",
      "metadata": {
        "id": "ilzAculaEBaT"
      },
      "source": [
        "Karena, kita akan membutuhkannya saat menggunakan fungsi tertentu.\n",
        " lambda digunakan untuk membuat fungsi dalam satu baris dan ia bersifat anonymous.\n",
        "Lambda dapat simpan di dalam variabel dan dijadikan sebagai parameter.\n",
        "Kita memang tidak harus selalu menggunakan Lambda, tapi dalam kasus tertentu lambda lebih baik dibandingkan fungsi biasa.\n",
        "Biasanya saat menggunakan fungsi-fungsi seperti filter(), map(), dan reduce() kita akan membutuhkan lambda.\n",
        "Mengapa?\n",
        "Karena di fungsi-fungsi tersebut membutuhkan parameter fungsi.\n"
      ]
    },
    {
      "cell_type": "markdown",
      "metadata": {
        "id": "9clNQjgTCD_R"
      },
      "source": [
        "###Contoh pemakaian lambda"
      ]
    },
    {
      "cell_type": "markdown",
      "metadata": {
        "id": "ck3aVcbVEqky"
      },
      "source": [
        "Contoh:"
      ]
    },
    {
      "cell_type": "code",
      "metadata": {
        "id": "_dt2P-8bEsSi"
      },
      "source": [
        "bilangan = [10,2,8,7,5,4,3,11,0, 1]\n",
        "filtered_result = map (lambda x: x*x, bilangan) \n",
        "print(list(filtered_result))"
      ],
      "execution_count": null,
      "outputs": []
    },
    {
      "cell_type": "markdown",
      "metadata": {
        "id": "SZh_NTO5FFBo"
      },
      "source": [
        "ada fungsi map() kita memberikan parameter dengan fungsi lambda.\n",
        "Mengapa bisa begitu?\n",
        "Karena lambda bisa disimpan ke dalam variabel, otmatis dia akan bisa juga jadi parameter.\n",
        "Satu lagi contoh dengan fungsi filter():\n"
      ]
    },
    {
      "cell_type": "code",
      "metadata": {
        "id": "cgbz85hoFMft"
      },
      "source": [
        ">>> # menentukan bilangan genap\n",
        ">>> genap = lambda x: x%2 == 0\n",
        ">>> list(filter(genap, range(11)))"
      ],
      "execution_count": null,
      "outputs": []
    },
    {
      "cell_type": "markdown",
      "metadata": {
        "id": "W0FRHypAFfPQ"
      },
      "source": [
        "Atau bisa dibuat dalam satu baris seperti ini:"
      ]
    },
    {
      "cell_type": "code",
      "metadata": {
        "id": "T9nPavbOFiIL"
      },
      "source": [
        ">>> list(filter(lambda x: x%2 == 0, range(11)))"
      ],
      "execution_count": null,
      "outputs": []
    }
  ]
}