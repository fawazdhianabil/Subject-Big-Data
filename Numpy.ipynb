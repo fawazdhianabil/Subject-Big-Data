{
  "nbformat": 4,
  "nbformat_minor": 0,
  "metadata": {
    "colab": {
      "name": "Numpy.ipynb",
      "provenance": [],
      "collapsed_sections": [],
      "toc_visible": true,
      "include_colab_link": true
    },
    "kernelspec": {
      "name": "python3",
      "display_name": "Python 3"
    },
    "language_info": {
      "name": "python"
    }
  },
  "cells": [
    {
      "cell_type": "markdown",
      "metadata": {
        "id": "view-in-github",
        "colab_type": "text"
      },
      "source": [
        "<a href=\"https://colab.research.google.com/github/fawazdhianabil/Subject-Big-Data/blob/main/Numpy.ipynb\" target=\"_parent\"><img src=\"https://colab.research.google.com/assets/colab-badge.svg\" alt=\"Open In Colab\"/></a>"
      ]
    },
    {
      "cell_type": "markdown",
      "metadata": {
        "id": "_QknVFGVBXxm"
      },
      "source": [
        "##**Apa itu Numpy?** "
      ]
    },
    {
      "cell_type": "markdown",
      "metadata": {
        "id": "YzDm4dDnBeJk"
      },
      "source": [
        "NumPy (Numerical Python) adalah library Python yang fokus pada scientific computing. NumPy memiliki kemampuan untuk membentuk objek N-dimensional array, yang mirip dengan list pada Python. Keunggulan NumPy array dibandingkan dengan list pada Python adalah konsumsi memory yang lebih kecil serta runtime yang lebih cepat. NumPy juga memudahkan kita pada Aljabar Linear, terutama operasi pada Vector dan Matrix."
      ]
    },
    {
      "cell_type": "markdown",
      "metadata": {
        "id": "NUt7QDpGO9HT"
      },
      "source": [
        "Mengimpor library numpy"
      ]
    },
    {
      "cell_type": "code",
      "metadata": {
        "id": "68-wSyK5PHIo"
      },
      "source": [
        "import numpy as np"
      ],
      "execution_count": null,
      "outputs": []
    },
    {
      "cell_type": "markdown",
      "metadata": {
        "id": "1O8PMOFYNAvp"
      },
      "source": [
        "## **Array**"
      ]
    },
    {
      "cell_type": "markdown",
      "metadata": {
        "id": "unJK8lWPNvtT"
      },
      "source": [
        "Array adalah sebuah struktur data yang terdiri atas banyak variabel dengan tipe data sama, dimana masing-masing elemen variabel mempunyai nilai indeks"
      ]
    },
    {
      "cell_type": "markdown",
      "metadata": {
        "id": "HtGPl2cCU1pe"
      },
      "source": [
        "Contoh Array"
      ]
    },
    {
      "cell_type": "code",
      "metadata": {
        "colab": {
          "base_uri": "https://localhost:8080/"
        },
        "id": "KLxWMlN2VHjW",
        "outputId": "7c518b55-7d97-4386-f596-83919a6633cd"
      },
      "source": [
        "# Array\n",
        "a = np.array([1,2,3,4,5])\n",
        "print(a)\n",
        "print(a.shape) # ukuran array\n",
        "print(a.dtype) # tipe data elemen array\n",
        "\n",
        "print(a.ndim)\n",
        "print(a.size) # jumlah elemen\n",
        "print(a.itemsize) # ukuran bit untuk masing-masing elemen"
      ],
      "execution_count": null,
      "outputs": [
        {
          "output_type": "stream",
          "name": "stdout",
          "text": [
            "[1 2 3 4 5]\n",
            "(5,)\n",
            "int64\n",
            "1\n",
            "5\n",
            "8\n"
          ]
        }
      ]
    },
    {
      "cell_type": "markdown",
      "metadata": {
        "id": "oXZIYfz0Vd89"
      },
      "source": [
        "Membuat Array"
      ]
    },
    {
      "cell_type": "code",
      "metadata": {
        "colab": {
          "base_uri": "https://localhost:8080/"
        },
        "id": "gKlbZNOUj7se",
        "outputId": "6f4474d2-5a67-4189-df23-f4411548d3f6"
      },
      "source": [
        "# Metode Dasar Array\n",
        "a = np.array([1,2,3])\n",
        "print(a)"
      ],
      "execution_count": null,
      "outputs": [
        {
          "output_type": "stream",
          "name": "stdout",
          "text": [
            "[1 2 3]\n"
          ]
        }
      ]
    },
    {
      "cell_type": "code",
      "metadata": {
        "colab": {
          "base_uri": "https://localhost:8080/"
        },
        "id": "_EuHOsWikE3f",
        "outputId": "7b1a83f1-c586-4c5a-962f-6ac9d61363eb"
      },
      "source": [
        "# membuat vector\n",
        "a = np.array([1,2,3,4,5])\n",
        "b = np.array([1.5 , 2.5, 5, 6, 7])\n",
        "print(a)\n",
        "print(b)"
      ],
      "execution_count": null,
      "outputs": [
        {
          "output_type": "stream",
          "name": "stdout",
          "text": [
            "[1 2 3 4 5]\n",
            "[1.5 2.5 5.  6.  7. ]\n"
          ]
        }
      ]
    },
    {
      "cell_type": "code",
      "metadata": {
        "colab": {
          "base_uri": "https://localhost:8080/"
        },
        "id": "ZJ6wCpQTkzpt",
        "outputId": "b2b59f31-f480-4e7f-a252-e6bc8ac6ecc2"
      },
      "source": [
        "# membuat vector dengan range\n",
        "c = np.arange(1,10,2)\n",
        "print(c)"
      ],
      "execution_count": null,
      "outputs": [
        {
          "output_type": "stream",
          "name": "stdout",
          "text": [
            "[1 3 5 7 9]\n"
          ]
        }
      ]
    },
    {
      "cell_type": "code",
      "metadata": {
        "colab": {
          "base_uri": "https://localhost:8080/"
        },
        "id": "VUgFpFnpk-S8",
        "outputId": "32ff41b0-a123-49e7-8412-968d8e17e797"
      },
      "source": [
        "# membuat linspace\n",
        "d = np.linspace(1,10,4)\n",
        "print(d)"
      ],
      "execution_count": null,
      "outputs": [
        {
          "output_type": "stream",
          "name": "stdout",
          "text": [
            "[ 1.  4.  7. 10.]\n"
          ]
        }
      ]
    },
    {
      "cell_type": "code",
      "metadata": {
        "colab": {
          "base_uri": "https://localhost:8080/"
        },
        "id": "dcT3u_XQlPOi",
        "outputId": "d3288c20-fba6-4b22-c607-a981af5919f5"
      },
      "source": [
        "# array multidimensi / matrix\n",
        "e = np.array( [ (1,2,3) , (4,5,6)] )\n",
        "print(e)"
      ],
      "execution_count": null,
      "outputs": [
        {
          "output_type": "stream",
          "name": "stdout",
          "text": [
            "[[1 2 3]\n",
            " [4 5 6]]\n"
          ]
        }
      ]
    },
    {
      "cell_type": "code",
      "metadata": {
        "colab": {
          "base_uri": "https://localhost:8080/"
        },
        "id": "w6Za9U92lYQ0",
        "outputId": "c8096697-a7eb-48f6-9f0b-81aabc8502a6"
      },
      "source": [
        "# matrix dengan nilai nol\n",
        "f = np.zeros((5,5))\n",
        "print(f)"
      ],
      "execution_count": null,
      "outputs": [
        {
          "output_type": "stream",
          "name": "stdout",
          "text": [
            "[[0. 0. 0. 0. 0.]\n",
            " [0. 0. 0. 0. 0.]\n",
            " [0. 0. 0. 0. 0.]\n",
            " [0. 0. 0. 0. 0.]\n",
            " [0. 0. 0. 0. 0.]]\n"
          ]
        }
      ]
    },
    {
      "cell_type": "code",
      "metadata": {
        "colab": {
          "base_uri": "https://localhost:8080/"
        },
        "id": "rtWq4gYjlfU7",
        "outputId": "070ddd8a-86b6-4906-f0fd-137bef63cbb2"
      },
      "source": [
        "# matrix dengan nilai satu\n",
        "g = np.ones((5,5))\n",
        "print(g)"
      ],
      "execution_count": null,
      "outputs": [
        {
          "output_type": "stream",
          "name": "stdout",
          "text": [
            "[[1. 1. 1. 1. 1.]\n",
            " [1. 1. 1. 1. 1.]\n",
            " [1. 1. 1. 1. 1.]\n",
            " [1. 1. 1. 1. 1.]\n",
            " [1. 1. 1. 1. 1.]]\n"
          ]
        }
      ]
    },
    {
      "cell_type": "code",
      "metadata": {
        "colab": {
          "base_uri": "https://localhost:8080/"
        },
        "id": "zWiDa3bylnLy",
        "outputId": "5faedc11-4667-4252-fd63-cafae31757d9"
      },
      "source": [
        "# matrix identitas\n",
        "h1 = np.identity(5)\n",
        "h2 = np.eye(5)\n",
        "print(h1)\n",
        "print(h2)"
      ],
      "execution_count": null,
      "outputs": [
        {
          "output_type": "stream",
          "name": "stdout",
          "text": [
            "[[1. 0. 0. 0. 0.]\n",
            " [0. 1. 0. 0. 0.]\n",
            " [0. 0. 1. 0. 0.]\n",
            " [0. 0. 0. 1. 0.]\n",
            " [0. 0. 0. 0. 1.]]\n",
            "[[1. 0. 0. 0. 0.]\n",
            " [0. 1. 0. 0. 0.]\n",
            " [0. 0. 1. 0. 0.]\n",
            " [0. 0. 0. 1. 0.]\n",
            " [0. 0. 0. 0. 1.]]\n"
          ]
        }
      ]
    },
    {
      "cell_type": "markdown",
      "metadata": {
        "id": "EBBgiqrhpF31"
      },
      "source": [
        "## **Indexing, Slicing, dan Iterasi Numpy Array**"
      ]
    },
    {
      "cell_type": "markdown",
      "metadata": {
        "id": "c3tMmm02pOdW"
      },
      "source": [
        "### **1. Indexing**"
      ]
    },
    {
      "cell_type": "markdown",
      "metadata": {
        "id": "folUr67CpT2r"
      },
      "source": [
        "Dalam array satu dimensi dapat mengakses nilai ke-i (menghitung dari nol) dengan menentukan indeks yang diinginkan dalam tanda kurung siku ([ ]). Untuk indeks negatif pada array numpy seperti -1, -2, dan seterusnya dalam praktiknya elemen terakhir bergerak secara bertahap menuju elemen awal.\n",
        "\n",
        "Array1 adalah contoh array 1 dimensi dan array2 adalah contoh array 2 dimensi. Hakikatnya indexing adalah proses mengambil elemen atau nilai yang terkandung di dalam suatu array dengan melihat indeks dari elemen tersebut. Pada Array 1 dimensi, caranya sangat mudah hanya perlu menuliskan nama array diikuti oleh kurung kotak dan diisi dengan index yang diinginkan. \n",
        "\n",
        "Pada Array 2 dimensi, harus memberikan dua nilai [indeks baris, indeks kolom] dengan menggunakan tanda kurung siku yang menunjukkan lokasi/posisi dari nilai yang ingin diambil. Nilai di dalam kurung kotak mewakili baris dan kolom. Jadi apabila menuliskan array2[1, 2] maka memerintahkan program untuk mengambil value baris indeks ke-1 dan kolom indeks ke-2. "
      ]
    },
    {
      "cell_type": "code",
      "metadata": {
        "id": "GsBQRx9lpVZw"
      },
      "source": [
        "import numpy as np"
      ],
      "execution_count": null,
      "outputs": []
    },
    {
      "cell_type": "code",
      "metadata": {
        "id": "CsOAyoU_pZBk",
        "colab": {
          "base_uri": "https://localhost:8080/"
        },
        "outputId": "ab071f0a-9e3a-4e69-fc20-04bb9477d57b"
      },
      "source": [
        "# Indexing from One-Dimensional Array\n",
        "array1 = np.array([5, 0, 3, 3, 7, 9])\n",
        "print(array1)\n",
        "print(array1[0])\n",
        "print(array1[2:5])\n",
        "print(array1[:-2])\n",
        "print(array1[:])"
      ],
      "execution_count": null,
      "outputs": [
        {
          "output_type": "stream",
          "name": "stdout",
          "text": [
            "[5 0 3 3 7 9]\n",
            "5\n",
            "[3 3 7]\n",
            "[5 0 3 3]\n",
            "[5 0 3 3 7 9]\n"
          ]
        }
      ]
    },
    {
      "cell_type": "code",
      "metadata": {
        "id": "u_mF1kPepbpo",
        "colab": {
          "base_uri": "https://localhost:8080/"
        },
        "outputId": "245c86c3-7dd1-470a-9c63-1d0b4ca482ec"
      },
      "source": [
        "# Indexing from Multi-Dimensional Array\n",
        "array2 = np.array([[3, 5, 2, 4], [7, 6, 8, 8], [1, 6, 7, 7]])\n",
        "print(array2)\n",
        "print(array2[1,2])\n",
        "print(array2[0:2, 1:])"
      ],
      "execution_count": null,
      "outputs": [
        {
          "output_type": "stream",
          "name": "stdout",
          "text": [
            "[[3 5 2 4]\n",
            " [7 6 8 8]\n",
            " [1 6 7 7]]\n",
            "8\n",
            "[[5 2 4]\n",
            " [6 8 8]]\n"
          ]
        }
      ]
    },
    {
      "cell_type": "markdown",
      "metadata": {
        "id": "StD9f7tjpd1g"
      },
      "source": [
        "### **2. Slicing**"
      ]
    },
    {
      "cell_type": "markdown",
      "metadata": {
        "id": "nRmBtGxephv9"
      },
      "source": [
        "Penggunaan tanda kurung siku selain dapat digunakan untuk mengakses elemen array juga dapat digunakan untuk mengakses subarray dengan notasi slice yang ditandai dengan karakter titik dua (:). Sintaks pemotongan Numpy untuk mengakses sebuah Array \"x\" yaitu \n",
        "\n",
        "              x [Start: Stop: Step]\n",
        "\n",
        "Jika salah satu di antaranya tidak ditentukan, nilai defaultnya Start = 0, Stop = ukuran dimensi, Step = 1. \n",
        "Pada dasarnya slicing sama seperti indexing, yang membedakan adalah slicing mengambil lebih dari 1 value, sedangkan indexing hanya mengambil satu saja."
      ]
    },
    {
      "cell_type": "code",
      "metadata": {
        "id": "1SGpt3BYqHy2"
      },
      "source": [
        "import numpy as np"
      ],
      "execution_count": null,
      "outputs": []
    },
    {
      "cell_type": "code",
      "metadata": {
        "id": "K5EiCnsJpl7M",
        "colab": {
          "base_uri": "https://localhost:8080/"
        },
        "outputId": "f0ab4526-aaae-4d21-ac5c-dd52e54df02f"
      },
      "source": [
        "# One-Dimensional Array Slicing\n",
        "x = np.arange(10)\n",
        "print(x)\n",
        "print(x[2:8]) # membuat array dari anggota elemen array x dengan index 2 hingga sebelum index 8\n",
        "              # (tidak termasuk elemen dengan index 8, dalam hal ini hanya index 2-7)\n",
        "print(x[:5]) # membuat array dari anggota elemen array x paling awal hingga sebelum index 5 \n",
        "             # (tidak termasuk elemen dengan index 5, dalam hal ini hanya index 0-4)\n",
        "print(x[5:]) # membuat array dari anggota elemen array x mulai index 5 sampai index terakhir \n",
        "print(x[::2]) \n",
        "print(x[1::2]) \n",
        "print(x[1:7:2]) # membuat array dari anggota elemen array x dengan index 1 hingga sebelum index 7, \n",
        "                # dengan \"step\" 2 (dalam hal ini hanya index 1, 3, 5).\n",
        "print(x[::-1]) "
      ],
      "execution_count": null,
      "outputs": [
        {
          "output_type": "stream",
          "name": "stdout",
          "text": [
            "[0 1 2 3 4 5 6 7 8 9]\n",
            "[2 3 4 5 6 7]\n",
            "[0 1 2 3 4]\n",
            "[5 6 7 8 9]\n",
            "[0 2 4 6 8]\n",
            "[1 3 5 7 9]\n",
            "[1 3 5]\n",
            "[9 8 7 6 5 4 3 2 1 0]\n"
          ]
        }
      ]
    },
    {
      "cell_type": "code",
      "metadata": {
        "id": "pfV3vGU7poHn",
        "colab": {
          "base_uri": "https://localhost:8080/"
        },
        "outputId": "c05bc9ce-e7c9-4665-983e-06f6d0757cd7"
      },
      "source": [
        "# Multi-Dimensional Array Slicing\n",
        "print(array2)\n",
        "print(array2[:2, :3])\n",
        "print(array2[:3, ::2])\n",
        "print(array2[::-1, ::-1])"
      ],
      "execution_count": null,
      "outputs": [
        {
          "output_type": "stream",
          "name": "stdout",
          "text": [
            "[[3 5 2 4]\n",
            " [7 6 8 8]\n",
            " [1 6 7 7]]\n",
            "[[3 5 2]\n",
            " [7 6 8]]\n",
            "[[3 2]\n",
            " [7 8]\n",
            " [1 7]]\n",
            "[[7 7 6 1]\n",
            " [8 8 6 7]\n",
            " [4 2 5 3]]\n"
          ]
        }
      ]
    },
    {
      "cell_type": "markdown",
      "metadata": {
        "id": "Y6uZ62PhpqRI"
      },
      "source": [
        "### **3. Iterasi Numpy Array**"
      ]
    },
    {
      "cell_type": "markdown",
      "metadata": {
        "id": "iig-WESZptK5"
      },
      "source": [
        "Jika melakukan iterasi pada array satu dimensi maka iterasi akan melewati setiap elemen satu per satu. Sedangkan dalam array dua dimensi maka iterasi akan melewati semua baris, jika ingin membuat iterasi elemen demi elemen maka dapat menggunakan perulangan for pada namaarray.flat ."
      ]
    },
    {
      "cell_type": "code",
      "metadata": {
        "id": "dR0ZoawGqLLX"
      },
      "source": [
        "import numpy as np"
      ],
      "execution_count": null,
      "outputs": []
    },
    {
      "cell_type": "code",
      "metadata": {
        "id": "aJNjo4Lnpvco",
        "colab": {
          "base_uri": "https://localhost:8080/"
        },
        "outputId": "3c4054c8-85d2-4ac4-d834-7dbdb02388a4"
      },
      "source": [
        "# Iterasi Array One-Dimensional\n",
        "for i in array1 :\n",
        "  print(i)"
      ],
      "execution_count": null,
      "outputs": [
        {
          "output_type": "stream",
          "name": "stdout",
          "text": [
            "5\n",
            "0\n",
            "3\n",
            "3\n",
            "7\n",
            "9\n"
          ]
        }
      ]
    },
    {
      "cell_type": "code",
      "metadata": {
        "id": "cB7JqJC0pxcP",
        "colab": {
          "base_uri": "https://localhost:8080/"
        },
        "outputId": "5a82a0da-ea85-42a1-b32f-912106d898ba"
      },
      "source": [
        "# Iterasi Array Multi-Dimensional\n",
        "for row in array2 :\n",
        "  print(row)\n",
        "\n",
        "for item in array2.flat :\n",
        "  print(item)"
      ],
      "execution_count": null,
      "outputs": [
        {
          "output_type": "stream",
          "name": "stdout",
          "text": [
            "[3 5 2 4]\n",
            "[7 6 8 8]\n",
            "[1 6 7 7]\n",
            "3\n",
            "5\n",
            "2\n",
            "4\n",
            "7\n",
            "6\n",
            "8\n",
            "8\n",
            "1\n",
            "6\n",
            "7\n",
            "7\n"
          ]
        }
      ]
    },
    {
      "cell_type": "markdown",
      "metadata": {
        "id": "BbwS9PemeBK_"
      },
      "source": [
        "##**Modifikasi Numpy(tambah, hapus, ubah elemen)**\n"
      ]
    },
    {
      "cell_type": "code",
      "metadata": {
        "id": "-aYh2dIXeg7Z"
      },
      "source": [
        "import numpy as np"
      ],
      "execution_count": null,
      "outputs": []
    },
    {
      "cell_type": "code",
      "metadata": {
        "id": "xkO5Gi6xeoQe"
      },
      "source": [
        "#list\n",
        "x = [0,1,2,3,4,5,6,7,8,9]"
      ],
      "execution_count": null,
      "outputs": []
    },
    {
      "cell_type": "code",
      "metadata": {
        "id": "d-Q31cCze7Tm"
      },
      "source": [
        "xnp = np.array([0,1,2,3,4,5,6,7,8,9])"
      ],
      "execution_count": null,
      "outputs": []
    },
    {
      "cell_type": "markdown",
      "metadata": {
        "id": "OnIlnaezfO1F"
      },
      "source": [
        "###**Mengubah nilai elemen**"
      ]
    },
    {
      "cell_type": "code",
      "metadata": {
        "colab": {
          "base_uri": "https://localhost:8080/"
        },
        "id": "2fPoLwycfT3_",
        "outputId": "741935b2-44a7-44bc-c4ad-164166576d95"
      },
      "source": [
        "xnp[4] = '11'\n",
        "xnp"
      ],
      "execution_count": null,
      "outputs": [
        {
          "output_type": "execute_result",
          "data": {
            "text/plain": [
              "array([ 0,  1,  2,  3, 11,  5,  6,  7,  8,  9])"
            ]
          },
          "metadata": {},
          "execution_count": 25
        }
      ]
    },
    {
      "cell_type": "code",
      "metadata": {
        "colab": {
          "base_uri": "https://localhost:8080/"
        },
        "id": "vp8bGdm0gAD6",
        "outputId": "5ee0f1c8-ca05-4dad-e33f-340c044ed182"
      },
      "source": [
        "xnp[0] = '12'\n",
        "xnp"
      ],
      "execution_count": null,
      "outputs": [
        {
          "output_type": "execute_result",
          "data": {
            "text/plain": [
              "array([12,  1,  2,  3, 11,  5,  6,  7,  8,  9])"
            ]
          },
          "metadata": {},
          "execution_count": 26
        }
      ]
    },
    {
      "cell_type": "markdown",
      "metadata": {
        "id": "EHJahYXZgQfQ"
      },
      "source": [
        "###**Menambahkan elemen baru**\n",
        "\n",
        "####**Menggunakan metode (method)**\n",
        "\n",
        "Ada 2 method yang dapat digunakan untuk menambahkan item baru:\n",
        "\n",
        "*   np.append\n",
        "*   np.hstack\n",
        "*   np.vstack"
      ]
    },
    {
      "cell_type": "code",
      "metadata": {
        "colab": {
          "base_uri": "https://localhost:8080/"
        },
        "id": "jbgP3dkapgoQ",
        "outputId": "905123b5-d9e9-4874-b413-6300f02572b5"
      },
      "source": [
        "#np.append\n",
        "xnp=np.array([1,2,3])\n",
        "xnp=np.append(xnp,np.array([7, 8, 9]))\n",
        "xnp"
      ],
      "execution_count": null,
      "outputs": [
        {
          "output_type": "execute_result",
          "data": {
            "text/plain": [
              "array([1, 2, 3, 7, 8, 9])"
            ]
          },
          "metadata": {},
          "execution_count": 27
        }
      ]
    },
    {
      "cell_type": "code",
      "metadata": {
        "colab": {
          "base_uri": "https://localhost:8080/"
        },
        "id": "pm_hBVXnjQRI",
        "outputId": "46363539-910d-4bab-91c4-b53d33772ebe"
      },
      "source": [
        "#np.hstack\n",
        "xnp=np.array([1,  2,  3])\n",
        "xnp=np.hstack((xnp,np.array([4, 5, 6])))\n",
        "xnp\n"
      ],
      "execution_count": null,
      "outputs": [
        {
          "output_type": "execute_result",
          "data": {
            "text/plain": [
              "array([1, 2, 3, 4, 5, 6])"
            ]
          },
          "metadata": {},
          "execution_count": 28
        }
      ]
    },
    {
      "cell_type": "code",
      "metadata": {
        "colab": {
          "base_uri": "https://localhost:8080/"
        },
        "id": "H15HlgNsrAtt",
        "outputId": "65d7dc41-cd0f-4507-feeb-59a594ff2923"
      },
      "source": [
        "#np.vstack\n",
        "#digunakan untuk menggabungkan array \n",
        "xnp=np.array([1,  2,  3])\n",
        "xnp=np.vstack((xnp,np.array([11, 12, 13])))\n",
        "xnp"
      ],
      "execution_count": null,
      "outputs": [
        {
          "output_type": "execute_result",
          "data": {
            "text/plain": [
              "array([[ 1,  2,  3],\n",
              "       [11, 12, 13]])"
            ]
          },
          "metadata": {},
          "execution_count": 29
        }
      ]
    },
    {
      "cell_type": "markdown",
      "metadata": {
        "id": "81z8hIERr23D"
      },
      "source": [
        "###**Menghapus elemen**"
      ]
    },
    {
      "cell_type": "code",
      "metadata": {
        "colab": {
          "base_uri": "https://localhost:8080/"
        },
        "id": "oObPOthBsXUC",
        "outputId": "271be607-0e43-4762-8e4d-e0dc83a59dc4"
      },
      "source": [
        "#np.delete\n",
        "#berdasarkan indeks\n",
        "xnp=np.array([1,  2,  3, 4, 5, 6])\n",
        "xnp=np.delete(xnp, ([2,5]))\n",
        "xnp"
      ],
      "execution_count": null,
      "outputs": [
        {
          "output_type": "execute_result",
          "data": {
            "text/plain": [
              "array([1, 2, 4, 5])"
            ]
          },
          "metadata": {},
          "execution_count": 30
        }
      ]
    },
    {
      "cell_type": "code",
      "metadata": {
        "colab": {
          "base_uri": "https://localhost:8080/"
        },
        "id": "ui0qnN8Ou5g8",
        "outputId": "228c9062-97cd-4ae6-cf93-4821d4a6f529"
      },
      "source": [
        "#np.setdiff1d\n",
        "xnp=np.array([1,  2,  3, 4, 5, 6])\n",
        "ynp=np.array([2,4,6])\n",
        "znp=np.setdiff1d(xnp, ynp)\n",
        "znp"
      ],
      "execution_count": null,
      "outputs": [
        {
          "output_type": "execute_result",
          "data": {
            "text/plain": [
              "array([1, 3, 5])"
            ]
          },
          "metadata": {},
          "execution_count": 31
        }
      ]
    },
    {
      "cell_type": "markdown",
      "metadata": {
        "id": "_eq74rAWO6ue"
      },
      "source": [
        "## **Operasi Aritmatika Array**"
      ]
    },
    {
      "cell_type": "markdown",
      "metadata": {
        "id": "yxbXBh2yPETF"
      },
      "source": [
        "### **Aritmatika Dasar**\n",
        "\n",
        "Pada Numpy bisa juga menggunakan operasi aritmatika dasar seperti penjumlahan, pengurangan, perkalian, pembagian, perpangkatan dan sisa bagi. Operator yang biasa digunakan adalah +, -, * , / , ** dan %\n",
        "\n",
        "![operator aritmatika.png](data:image/png;base64,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)\n",
        "\n",
        "Berikut contoh operasi aritmatika pada array:\n"
      ]
    },
    {
      "cell_type": "code",
      "metadata": {
        "id": "avQaWOGTPTl-"
      },
      "source": [
        "import numpy as np"
      ],
      "execution_count": null,
      "outputs": []
    },
    {
      "cell_type": "code",
      "metadata": {
        "id": "5GSeK17zPYRB"
      },
      "source": [
        "#list python\n",
        "a=[1,2,3,4,5]\n",
        "b=[6,7,8,9,10]"
      ],
      "execution_count": null,
      "outputs": []
    },
    {
      "cell_type": "code",
      "metadata": {
        "id": "wfMiK2SNPaLY"
      },
      "source": [
        "#array numpy\n",
        "anp=np.array([1,2,3,4,5])\n",
        "bnp=np.array([6,7,8,9,10])"
      ],
      "execution_count": null,
      "outputs": []
    },
    {
      "cell_type": "markdown",
      "metadata": {
        "id": "DGdsG4lBPdrM"
      },
      "source": [
        "#### **1. Penjumlahan**\n",
        "\n",
        "Berfungsi untuk menjumlahkan dua array dan mengembalikan hasilnya dalam array baru."
      ]
    },
    {
      "cell_type": "code",
      "metadata": {
        "id": "iFxZBUIcPq0U",
        "colab": {
          "base_uri": "https://localhost:8080/"
        },
        "outputId": "e34f61e8-2e8a-4679-8c4a-8423eef8ef7c"
      },
      "source": [
        "#ELEMENTWISE operation\n",
        "#penjumlahan\n",
        "hasil=anp+bnp\n",
        "print(hasil)"
      ],
      "execution_count": null,
      "outputs": [
        {
          "output_type": "stream",
          "name": "stdout",
          "text": [
            "[ 7  9 11 13 15]\n"
          ]
        }
      ]
    },
    {
      "cell_type": "markdown",
      "metadata": {
        "id": "EP8JkFLrPsOH"
      },
      "source": [
        "#### **2. Pengurangan**\n",
        "\n",
        "Berfungsi untuk mengurangi nilai dari satu array dengan nilai dari array lain, dan mengembalikan hasilnya dalam array baru."
      ]
    },
    {
      "cell_type": "code",
      "metadata": {
        "id": "TFFxWQXzPyjf",
        "colab": {
          "base_uri": "https://localhost:8080/"
        },
        "outputId": "e2c17b3e-d59c-4f0c-95f0-203ee1ff4513"
      },
      "source": [
        "#pengurangan\n",
        "hasil=anp-bnp\n",
        "print(hasil)"
      ],
      "execution_count": null,
      "outputs": [
        {
          "output_type": "stream",
          "name": "stdout",
          "text": [
            "[-5 -5 -5 -5 -5]\n"
          ]
        }
      ]
    },
    {
      "cell_type": "markdown",
      "metadata": {
        "id": "UTS_OPZRP1s5"
      },
      "source": [
        "#### **3. Perkalian**\n",
        "\n",
        "Berfungsi untuk mengalikkan nilai dari satu array dengan nilai dari array lain, dan mengembalikkan hasilnya dalam array baru."
      ]
    },
    {
      "cell_type": "code",
      "metadata": {
        "id": "KRJpA6I5QAET",
        "colab": {
          "base_uri": "https://localhost:8080/"
        },
        "outputId": "f5835ffd-2828-49a9-ca9f-6602b1cf3464"
      },
      "source": [
        "#perkalian\n",
        "hasil=anp*bnp\n",
        "print(hasil)"
      ],
      "execution_count": null,
      "outputs": [
        {
          "output_type": "stream",
          "name": "stdout",
          "text": [
            "[ 6 14 24 36 50]\n"
          ]
        }
      ]
    },
    {
      "cell_type": "markdown",
      "metadata": {
        "id": "oE6AePOsQDgl"
      },
      "source": [
        "#### **4. Pembagian**\n",
        "Berfungsi untuk membagi nilai dari satu array dengan nilai dari array lain, dan mengembalikkan hasilnya dalam array baru."
      ]
    },
    {
      "cell_type": "code",
      "metadata": {
        "id": "4Cd_IXIoQG5U",
        "colab": {
          "base_uri": "https://localhost:8080/"
        },
        "outputId": "ba20174b-4734-4dde-ebba-6e33d81916ef"
      },
      "source": [
        "#pembagian\n",
        "hasil=anp/bnp\n",
        "print(hasil)"
      ],
      "execution_count": null,
      "outputs": [
        {
          "output_type": "stream",
          "name": "stdout",
          "text": [
            "[0.16666667 0.28571429 0.375      0.44444444 0.5       ]\n"
          ]
        }
      ]
    },
    {
      "cell_type": "markdown",
      "metadata": {
        "id": "jGiVXbvmQUTO"
      },
      "source": [
        "#### **5. Sisa Bagi**\n",
        "Berfungsi untuk mengembalikan sisa nilai dalam array pertama yang berhubungan dengan nilai dalam array kedua, dan mengembalikan hasilnya dalam array baru.\n"
      ]
    },
    {
      "cell_type": "code",
      "metadata": {
        "id": "T0DeqMzrQduo",
        "colab": {
          "base_uri": "https://localhost:8080/"
        },
        "outputId": "743c9a35-6909-40cf-a2e2-908b063be0ee"
      },
      "source": [
        "#SisaBagi\n",
        "hasil=bnp%anp\n",
        "print(hasil)"
      ],
      "execution_count": null,
      "outputs": [
        {
          "output_type": "stream",
          "name": "stdout",
          "text": [
            "[0 1 2 1 0]\n"
          ]
        }
      ]
    },
    {
      "cell_type": "markdown",
      "metadata": {
        "id": "5DSxbW1KQhJt"
      },
      "source": [
        "#### **6. Perpangkatan**\n",
        "Berfungsi untuk memangkatkan nilai array pertama menjadi pangkat nilai dari array kedua, dan mengembalikkan hasilnya dalam array baru."
      ]
    },
    {
      "cell_type": "code",
      "metadata": {
        "id": "I_SzqwwhQpGR",
        "colab": {
          "base_uri": "https://localhost:8080/"
        },
        "outputId": "c948ab2a-719c-4b62-c04e-0a48c39f22b2"
      },
      "source": [
        "#Perpangkatan\n",
        "hasil=anp**2\n",
        "print(hasil)"
      ],
      "execution_count": null,
      "outputs": [
        {
          "output_type": "stream",
          "name": "stdout",
          "text": [
            "[ 1  4  9 16 25]\n"
          ]
        }
      ]
    },
    {
      "cell_type": "markdown",
      "metadata": {
        "id": "OUZqBjk0QsRE"
      },
      "source": [
        "### **Perkalian Dot dan Cross**"
      ]
    },
    {
      "cell_type": "markdown",
      "metadata": {
        "id": "YrFHLbGTQx1I"
      },
      "source": [
        "#### Perkalian Dot\n",
        "\n",
        "adalah perkalian titik dari dua vektor"
      ]
    },
    {
      "cell_type": "code",
      "metadata": {
        "id": "6m2xEln7Q4sT"
      },
      "source": [
        "a1 = np.array([1,3])\n",
        "b1 = np.array([3,0])"
      ],
      "execution_count": null,
      "outputs": []
    },
    {
      "cell_type": "code",
      "metadata": {
        "id": "ttdnrgk4Q6-9",
        "colab": {
          "base_uri": "https://localhost:8080/"
        },
        "outputId": "3c3d0c0d-4a22-4651-e55b-ff7b2c519845"
      },
      "source": [
        "#perkalian dot\n",
        "c1 = np.dot(a1,b1)\n",
        "print(c1)"
      ],
      "execution_count": null,
      "outputs": [
        {
          "output_type": "stream",
          "name": "stdout",
          "text": [
            "3\n"
          ]
        }
      ]
    },
    {
      "cell_type": "markdown",
      "metadata": {
        "id": "RR3FtrejQ9Ay"
      },
      "source": [
        "#### **Perkalian Cross**\n",
        "\n",
        "hasil kali antara dua vektor di ruang dimensi 3 yang menghasilkan vektor yang tegak lurus terhadap kedua vektor yang dikalikan tersebut"
      ]
    },
    {
      "cell_type": "code",
      "metadata": {
        "id": "gUqdVp65SIV9"
      },
      "source": [
        "# perkalian cross\n",
        "a2 = np.array([1,2,0])\n",
        "b2 = np.array([2,1,0])\n"
      ],
      "execution_count": null,
      "outputs": []
    },
    {
      "cell_type": "code",
      "metadata": {
        "id": "k_9ip-y4SN-A",
        "colab": {
          "base_uri": "https://localhost:8080/"
        },
        "outputId": "17fa2665-71ad-42ff-e520-d6406a4a9f13"
      },
      "source": [
        "c2 = np.cross(b2,a2)\n",
        "print(c2)"
      ],
      "execution_count": null,
      "outputs": [
        {
          "output_type": "stream",
          "name": "stdout",
          "text": [
            "[0 0 3]\n"
          ]
        }
      ]
    },
    {
      "cell_type": "markdown",
      "metadata": {
        "id": "pX6SkaFgvzc5"
      },
      "source": [
        "##**Array Broadcasting**\n",
        "\n",
        "Array Broadcasting adalah mekanisme yang memungkinkan numpy untuk melakukan operasi aritmetika pada vektor antara array dengan bentuk yang tidak sama, tetapi kompatibel. Secara khusus, array akan diperlakukan seolah-olah isinya telah direplikasi sepanjang dimensi yang sesuai, sehingga bentuk array baru yang lebih tinggi ini sesuai dengan operasi matematika yang dilakukan. Nilai (misal: array 1x2) yang dikalikan pada array vektor (4x1), maka setiap elemen vektor tersebut akan dikalikan dengan nilai tadi (array 1x2).\n",
        "\n",
        "![image](https://www.sainshack.com/wp-content/uploads/2021/01/Screenshot-from-2021-01-15-10-42-46.png)\n"
      ]
    },
    {
      "cell_type": "markdown",
      "metadata": {
        "id": "jqSe5mn1wFyM"
      },
      "source": [
        "Teknik yang digunakan adalah broadcasting yang paling sederhana adalah vektorisasi pada Numpy. Ketika menambahkan matrik a dengan skalar '1', broadcasting digunakan untuk vektorisasi skalar '1' tersebut menjadi matrik yang seukuran dengan a. Untuk operasi perkalian perhatikan contoh di bawah ini berdasarkan gambar di atas."
      ]
    },
    {
      "cell_type": "code",
      "metadata": {
        "colab": {
          "base_uri": "https://localhost:8080/"
        },
        "id": "soEmDY_PwYn5",
        "outputId": "aad8361a-bc73-4111-c5da-a967671415c3"
      },
      "source": [
        "e = np.array([[0], [3], [6], [9]])\n",
        "e * np.array(*[[1, 2]])"
      ],
      "execution_count": null,
      "outputs": [
        {
          "output_type": "execute_result",
          "data": {
            "text/plain": [
              "array([[ 0,  0],\n",
              "       [ 3,  6],\n",
              "       [ 6, 12],\n",
              "       [ 9, 18]])"
            ]
          },
          "metadata": {},
          "execution_count": 45
        }
      ]
    },
    {
      "cell_type": "markdown",
      "metadata": {
        "id": "26Dy7auqwfzr"
      },
      "source": [
        "Untuk operasi broadcasting, setidaknya harus ada kompatibilitas antar aksisnya, bisa kolomnya, bisa barisnya, atau skalar. Seperti perkalian matrik, jika kedua matrik tidak kompatibel, maka tidak bisa dikalikan. Jika tidak memenuhi kriteria tersebut akan menyebabkan error. unruk lebih jelasnya sebagai berikut:"
      ]
    },
    {
      "cell_type": "code",
      "metadata": {
        "id": "htiGIC_4wk4q"
      },
      "source": [
        "a = np.array([[0, 1], [3, 4], [6, 7], [9, 10]])\n",
        "b = np.array([[1, 1], [1, 1], [1, 1], [1, 1]])"
      ],
      "execution_count": null,
      "outputs": []
    },
    {
      "cell_type": "code",
      "metadata": {
        "colab": {
          "base_uri": "https://localhost:8080/"
        },
        "id": "TpZJt5Znxcba",
        "outputId": "aca3cb72-d3b0-4d90-9bb8-988f270c1bc2"
      },
      "source": [
        "a + b"
      ],
      "execution_count": null,
      "outputs": [
        {
          "output_type": "execute_result",
          "data": {
            "text/plain": [
              "array([[ 1,  2],\n",
              "       [ 4,  5],\n",
              "       [ 7,  8],\n",
              "       [10, 11]])"
            ]
          },
          "metadata": {},
          "execution_count": 47
        }
      ]
    },
    {
      "cell_type": "code",
      "metadata": {
        "colab": {
          "base_uri": "https://localhost:8080/"
        },
        "id": "SpGUBnWNxhYE",
        "outputId": "9ba827f1-2050-4931-ba47-a84a3f83fe55"
      },
      "source": [
        "a + 1"
      ],
      "execution_count": null,
      "outputs": [
        {
          "output_type": "execute_result",
          "data": {
            "text/plain": [
              "array([[ 1,  2],\n",
              "       [ 4,  5],\n",
              "       [ 7,  8],\n",
              "       [10, 11]])"
            ]
          },
          "metadata": {},
          "execution_count": 48
        }
      ]
    },
    {
      "cell_type": "markdown",
      "metadata": {
        "id": "mtPIalUAxoB8"
      },
      "source": [
        "a+b dan a+1 hasilnya sama, cara ke-2 dengan vektorisasi lebih simpel. Vektorisasi menggunakan broadcasting. Broadcasting: menyeber 'pesan' ke semua elemen vektor/matrik. Misalnya pada vektorisasi di atas. lebih jelasnya pada operasi perkalian di bawah ini"
      ]
    },
    {
      "cell_type": "code",
      "metadata": {
        "colab": {
          "base_uri": "https://localhost:8080/"
        },
        "id": "Z9YOeiA0xrNS",
        "outputId": "d2727eb0-d9ca-4de3-ad5c-753929cd1174"
      },
      "source": [
        "e = np.array([[0], [3], [6], [9]])\n",
        "e "
      ],
      "execution_count": null,
      "outputs": [
        {
          "output_type": "execute_result",
          "data": {
            "text/plain": [
              "array([[0],\n",
              "       [3],\n",
              "       [6],\n",
              "       [9]])"
            ]
          },
          "metadata": {},
          "execution_count": 49
        }
      ]
    },
    {
      "cell_type": "code",
      "metadata": {
        "colab": {
          "base_uri": "https://localhost:8080/"
        },
        "id": "gdHDvgIxxvGL",
        "outputId": "033cece0-feef-4bb0-df85-58f6b8b47d06"
      },
      "source": [
        " e * np.array([[1, 2]])"
      ],
      "execution_count": null,
      "outputs": [
        {
          "output_type": "execute_result",
          "data": {
            "text/plain": [
              "array([[ 0,  0],\n",
              "       [ 3,  6],\n",
              "       [ 6, 12],\n",
              "       [ 9, 18]])"
            ]
          },
          "metadata": {},
          "execution_count": 50
        }
      ]
    },
    {
      "cell_type": "markdown",
      "metadata": {
        "id": "Omd8WYT7x-qr"
      },
      "source": [
        "Matrik [1, 2] di sebar (broadcast!) ke semua baris e, karena ukuran baris masih sama dengan kolom maka operasi sukses. Maka,"
      ]
    },
    {
      "cell_type": "code",
      "metadata": {
        "colab": {
          "base_uri": "https://localhost:8080/"
        },
        "id": "MXs8CglFyCWg",
        "outputId": "bad03dc6-3bab-4b59-c2b6-08b60a884d8b"
      },
      "source": [
        "e * np.array([[1, 2, 3]])"
      ],
      "execution_count": null,
      "outputs": [
        {
          "output_type": "execute_result",
          "data": {
            "text/plain": [
              "array([[ 0,  0,  0],\n",
              "       [ 3,  6,  9],\n",
              "       [ 6, 12, 18],\n",
              "       [ 9, 18, 27]])"
            ]
          },
          "metadata": {},
          "execution_count": 51
        }
      ]
    },
    {
      "cell_type": "markdown",
      "metadata": {
        "id": "Ny0QOp55yInr"
      },
      "source": [
        "karena ukuran barisnya kompatibel, maka operasi sukses. Kemudian dilakukan percobaan sebagai berikut :"
      ]
    },
    {
      "cell_type": "code",
      "metadata": {
        "colab": {
          "base_uri": "https://localhost:8080/",
          "height": 163
        },
        "id": "vVyidYIZyJvo",
        "outputId": "1eff8994-ef8e-4fd5-908d-dc749eed0760"
      },
      "source": [
        "e * np.array([[1, 2], [3, 4]])"
      ],
      "execution_count": null,
      "outputs": [
        {
          "output_type": "error",
          "ename": "ValueError",
          "evalue": "ignored",
          "traceback": [
            "\u001b[0;31m---------------------------------------------------------------------------\u001b[0m",
            "\u001b[0;31mValueError\u001b[0m                                Traceback (most recent call last)",
            "\u001b[0;32m<ipython-input-54-1c3ab7be0ac5>\u001b[0m in \u001b[0;36m<module>\u001b[0;34m()\u001b[0m\n\u001b[0;32m----> 1\u001b[0;31m \u001b[0me\u001b[0m \u001b[0;34m*\u001b[0m \u001b[0mnp\u001b[0m\u001b[0;34m.\u001b[0m\u001b[0marray\u001b[0m\u001b[0;34m(\u001b[0m\u001b[0;34m[\u001b[0m\u001b[0;34m[\u001b[0m\u001b[0;36m1\u001b[0m\u001b[0;34m,\u001b[0m \u001b[0;36m2\u001b[0m\u001b[0;34m]\u001b[0m\u001b[0;34m,\u001b[0m \u001b[0;34m[\u001b[0m\u001b[0;36m3\u001b[0m\u001b[0;34m,\u001b[0m \u001b[0;36m4\u001b[0m\u001b[0;34m]\u001b[0m\u001b[0;34m]\u001b[0m\u001b[0;34m)\u001b[0m\u001b[0;34m\u001b[0m\u001b[0;34m\u001b[0m\u001b[0m\n\u001b[0m",
            "\u001b[0;31mValueError\u001b[0m: operands could not be broadcast together with shapes (4,1) (2,2) "
          ]
        }
      ]
    },
    {
      "cell_type": "markdown",
      "metadata": {
        "id": "zmd1uz6ZyV-q"
      },
      "source": [
        "Ternyata hasilnya error karena ukuran tidak kompatibel, kemudian dilakukan percobaan sebagai berikut :"
      ]
    },
    {
      "cell_type": "code",
      "metadata": {
        "colab": {
          "base_uri": "https://localhost:8080/"
        },
        "id": "OOztQU6jydy3",
        "outputId": "00eddb11-3b9c-4f89-93c6-a020cab866f9"
      },
      "source": [
        "e * np.array([[1], [2], [3], [4]])"
      ],
      "execution_count": null,
      "outputs": [
        {
          "output_type": "execute_result",
          "data": {
            "text/plain": [
              "array([[ 0],\n",
              "       [ 6],\n",
              "       [18],\n",
              "       [36]])"
            ]
          },
          "metadata": {},
          "execution_count": 55
        }
      ]
    },
    {
      "cell_type": "markdown",
      "metadata": {
        "id": "Ry5mrzNrybsx"
      },
      "source": [
        "dan hasilnya sukses! karena ukuran barisnya sama. maka disebut hal tersebut adalah broadcasting!"
      ]
    },
    {
      "cell_type": "markdown",
      "metadata": {
        "id": "maulh9c1sIaZ"
      },
      "source": [
        "## **Operasi Matriks Pada Numpy Array**"
      ]
    },
    {
      "cell_type": "markdown",
      "metadata": {
        "id": "NSUNo-arsOAT"
      },
      "source": [
        "### **Representasi Matriks Pada Python**"
      ]
    },
    {
      "cell_type": "markdown",
      "metadata": {
        "id": "RdzACqkhsUOL"
      },
      "source": [
        "Matriks adalah array 2 dimensi khusus yang mempertahankan sifat 2 dimensinnya melalui operasi. Matriks memiliki operator khusus tertentu, seperti perkalian matriks dan pemangkatan matriks.\n",
        "\n",
        "Untuk mendefinisikan suatu array dan menggunakan fungsi-fungsi operasi matriks, kita akan menggunakan modul numpy pada python. Pertama kita import numpy dengan alias np."
      ]
    },
    {
      "cell_type": "markdown",
      "metadata": {
        "id": "4q3JP_lisYmV"
      },
      "source": [
        "Berikut contoh penulisan matriks pada python:"
      ]
    },
    {
      "cell_type": "code",
      "metadata": {
        "id": "rUoxQmCussdg"
      },
      "source": [
        "import numpy as np"
      ],
      "execution_count": null,
      "outputs": []
    },
    {
      "cell_type": "code",
      "metadata": {
        "id": "RWErroJFsyGL",
        "colab": {
          "base_uri": "https://localhost:8080/"
        },
        "outputId": "b7f2abe4-76be-40db-cae6-1140609d0457"
      },
      "source": [
        "A = np.array([[1, 3], [5, 7]]) \n",
        "A"
      ],
      "execution_count": null,
      "outputs": [
        {
          "output_type": "execute_result",
          "data": {
            "text/plain": [
              "array([[1, 3],\n",
              "       [5, 7]])"
            ]
          },
          "metadata": {},
          "execution_count": 57
        }
      ]
    },
    {
      "cell_type": "markdown",
      "metadata": {
        "id": "s8TaIVd2s4Ca"
      },
      "source": [
        "### **Operasi Matriks Pada Python**"
      ]
    },
    {
      "cell_type": "code",
      "metadata": {
        "id": "Kd_e_R6cs8sl",
        "colab": {
          "base_uri": "https://localhost:8080/"
        },
        "outputId": "bc739567-3818-42cf-f996-1736a3f742b7"
      },
      "source": [
        "S = np.array([[1, 3], [5, 7]]) \n",
        "S"
      ],
      "execution_count": null,
      "outputs": [
        {
          "output_type": "execute_result",
          "data": {
            "text/plain": [
              "array([[1, 3],\n",
              "       [5, 7]])"
            ]
          },
          "metadata": {},
          "execution_count": 59
        }
      ]
    },
    {
      "cell_type": "code",
      "metadata": {
        "id": "iuZ3AM66s_2s",
        "colab": {
          "base_uri": "https://localhost:8080/"
        },
        "outputId": "f82e86f9-f26d-4f32-da7d-4f5bd5dbb1ec"
      },
      "source": [
        "F = np.array([[3, 7], [9, 15]]) \n",
        "F"
      ],
      "execution_count": null,
      "outputs": [
        {
          "output_type": "execute_result",
          "data": {
            "text/plain": [
              "array([[ 3,  7],\n",
              "       [ 9, 15]])"
            ]
          },
          "metadata": {},
          "execution_count": 60
        }
      ]
    },
    {
      "cell_type": "code",
      "metadata": {
        "id": "3FQb8xsItDnb",
        "colab": {
          "base_uri": "https://localhost:8080/"
        },
        "outputId": "38f60f04-689f-47dd-e917-fd02d253713b"
      },
      "source": [
        "a = 10\n",
        "a"
      ],
      "execution_count": null,
      "outputs": [
        {
          "output_type": "execute_result",
          "data": {
            "text/plain": [
              "10"
            ]
          },
          "metadata": {},
          "execution_count": 61
        }
      ]
    },
    {
      "cell_type": "markdown",
      "metadata": {
        "id": "l5g8lo0HtIiB"
      },
      "source": [
        "**1. Penjumlahan Matriks**"
      ]
    },
    {
      "cell_type": "markdown",
      "metadata": {
        "id": "wGinXm9YtfUK"
      },
      "source": [
        "Operasi untuk menghitung dua matriks dengan cara menjumlahkan setiap komponen yang memiliki letak yang sama."
      ]
    },
    {
      "cell_type": "code",
      "metadata": {
        "id": "j1Wjxnp3tilN",
        "colab": {
          "base_uri": "https://localhost:8080/"
        },
        "outputId": "fedee060-0cd6-4f5a-9b70-474cc081edb3"
      },
      "source": [
        "np.add(S,F)"
      ],
      "execution_count": null,
      "outputs": [
        {
          "output_type": "execute_result",
          "data": {
            "text/plain": [
              "array([[ 4, 10],\n",
              "       [14, 22]])"
            ]
          },
          "metadata": {},
          "execution_count": 62
        }
      ]
    },
    {
      "cell_type": "markdown",
      "metadata": {
        "id": "PSWrAK6JtnQJ"
      },
      "source": [
        "**2. Pengurangan Matriks**"
      ]
    },
    {
      "cell_type": "markdown",
      "metadata": {
        "id": "fx4sRwE2twq1"
      },
      "source": [
        "Operasi untuk menghitung dua matriks dengan cara mengurangkan setiap komponen yang memiliki letak yang sama"
      ]
    },
    {
      "cell_type": "code",
      "metadata": {
        "id": "QE8ppxz5t3aD",
        "colab": {
          "base_uri": "https://localhost:8080/"
        },
        "outputId": "2093b114-5482-4670-c91b-0eb9ab388209"
      },
      "source": [
        "np.subtract(S,F)"
      ],
      "execution_count": null,
      "outputs": [
        {
          "output_type": "execute_result",
          "data": {
            "text/plain": [
              "array([[-2, -4],\n",
              "       [-4, -8]])"
            ]
          },
          "metadata": {},
          "execution_count": 63
        }
      ]
    },
    {
      "cell_type": "markdown",
      "metadata": {
        "id": "-NRvt6-NuFex"
      },
      "source": [
        "**3. Perkalian Skalar Matriks**"
      ]
    },
    {
      "cell_type": "code",
      "metadata": {
        "id": "_M_xNHT1uRdt",
        "colab": {
          "base_uri": "https://localhost:8080/"
        },
        "outputId": "db599e0e-faea-4cd1-f6c0-dda0f5f07abc"
      },
      "source": [
        "a*S"
      ],
      "execution_count": null,
      "outputs": [
        {
          "output_type": "execute_result",
          "data": {
            "text/plain": [
              "array([[10, 30],\n",
              "       [50, 70]])"
            ]
          },
          "metadata": {},
          "execution_count": 64
        }
      ]
    },
    {
      "cell_type": "markdown",
      "metadata": {
        "id": "Vg46ACxaudSv"
      },
      "source": [
        "**4. Perkalian Matriks**"
      ]
    },
    {
      "cell_type": "code",
      "metadata": {
        "id": "N1Hk1vS7ujHD",
        "colab": {
          "base_uri": "https://localhost:8080/"
        },
        "outputId": "b35b50ff-d414-4b66-954d-bea40059a521"
      },
      "source": [
        "np.multiply(S,F)"
      ],
      "execution_count": null,
      "outputs": [
        {
          "output_type": "execute_result",
          "data": {
            "text/plain": [
              "array([[  3,  21],\n",
              "       [ 45, 105]])"
            ]
          },
          "metadata": {},
          "execution_count": 65
        }
      ]
    },
    {
      "cell_type": "markdown",
      "metadata": {
        "id": "dJIP161QuoLz"
      },
      "source": [
        "**5. Perkalian Titik Matriks (Dot Product)**"
      ]
    },
    {
      "cell_type": "code",
      "metadata": {
        "id": "3cts0hlKutmE",
        "colab": {
          "base_uri": "https://localhost:8080/"
        },
        "outputId": "ebfbe636-1a1c-4a84-f077-26c8a67cc821"
      },
      "source": [
        "np.dot(S,F)"
      ],
      "execution_count": null,
      "outputs": [
        {
          "output_type": "execute_result",
          "data": {
            "text/plain": [
              "array([[ 30,  52],\n",
              "       [ 78, 140]])"
            ]
          },
          "metadata": {},
          "execution_count": 66
        }
      ]
    },
    {
      "cell_type": "markdown",
      "metadata": {
        "id": "m2ucsAN9uzJz"
      },
      "source": [
        "**6. Transpose Matriks**"
      ]
    },
    {
      "cell_type": "code",
      "metadata": {
        "id": "pjD_dEKZu3Da",
        "colab": {
          "base_uri": "https://localhost:8080/"
        },
        "outputId": "834c5234-1d57-4284-a39f-87ed0404c4f4"
      },
      "source": [
        "S.T"
      ],
      "execution_count": null,
      "outputs": [
        {
          "output_type": "execute_result",
          "data": {
            "text/plain": [
              "array([[1, 5],\n",
              "       [3, 7]])"
            ]
          },
          "metadata": {},
          "execution_count": 67
        }
      ]
    },
    {
      "cell_type": "markdown",
      "metadata": {
        "id": "Cod0afSGvBlM"
      },
      "source": [
        "**7. Operasi Fungsi Pada Setiap Elemen Matriks - Akar Kuadrat**"
      ]
    },
    {
      "cell_type": "code",
      "metadata": {
        "id": "VdYGxioZvEqu",
        "colab": {
          "base_uri": "https://localhost:8080/"
        },
        "outputId": "27a05bab-1f29-4c8c-fd69-c5743ec92a0f"
      },
      "source": [
        "np.sqrt(S)"
      ],
      "execution_count": null,
      "outputs": [
        {
          "output_type": "execute_result",
          "data": {
            "text/plain": [
              "array([[1.        , 1.73205081],\n",
              "       [2.23606798, 2.64575131]])"
            ]
          },
          "metadata": {},
          "execution_count": 68
        }
      ]
    },
    {
      "cell_type": "code",
      "metadata": {
        "id": "xYHCzcqWvH9o",
        "colab": {
          "base_uri": "https://localhost:8080/"
        },
        "outputId": "a85f8801-6bbd-4a9a-8a8c-07eff8732614"
      },
      "source": [
        "np.sqrt(F)"
      ],
      "execution_count": null,
      "outputs": [
        {
          "output_type": "execute_result",
          "data": {
            "text/plain": [
              "array([[1.73205081, 2.64575131],\n",
              "       [3.        , 3.87298335]])"
            ]
          },
          "metadata": {},
          "execution_count": 69
        }
      ]
    },
    {
      "cell_type": "markdown",
      "metadata": {
        "id": "Fnor3hovvJnY"
      },
      "source": [
        "**8. Menjumlahkan Semua Elemen Kolom Sebuah Matriks**"
      ]
    },
    {
      "cell_type": "code",
      "metadata": {
        "id": "DReWJqEfvQwI",
        "colab": {
          "base_uri": "https://localhost:8080/"
        },
        "outputId": "f7a06204-3ffb-4966-9447-2fc676fc27b8"
      },
      "source": [
        "S"
      ],
      "execution_count": null,
      "outputs": [
        {
          "output_type": "execute_result",
          "data": {
            "text/plain": [
              "array([[1, 3],\n",
              "       [5, 7]])"
            ]
          },
          "metadata": {},
          "execution_count": 70
        }
      ]
    },
    {
      "cell_type": "code",
      "metadata": {
        "id": "LldXtlWbvUyu",
        "colab": {
          "base_uri": "https://localhost:8080/"
        },
        "outputId": "1ee8a0fe-f672-4c83-840b-4eaf9a87d765"
      },
      "source": [
        "np.sum(S,axis=1)"
      ],
      "execution_count": null,
      "outputs": [
        {
          "output_type": "execute_result",
          "data": {
            "text/plain": [
              "array([ 4, 12])"
            ]
          },
          "metadata": {},
          "execution_count": 71
        }
      ]
    },
    {
      "cell_type": "code",
      "metadata": {
        "id": "T4OU_17WvV5D",
        "colab": {
          "base_uri": "https://localhost:8080/"
        },
        "outputId": "796e6639-9e58-4261-bb3d-0a3d3f09baf9"
      },
      "source": [
        "F"
      ],
      "execution_count": null,
      "outputs": [
        {
          "output_type": "execute_result",
          "data": {
            "text/plain": [
              "array([[ 3,  7],\n",
              "       [ 9, 15]])"
            ]
          },
          "metadata": {},
          "execution_count": 72
        }
      ]
    },
    {
      "cell_type": "code",
      "metadata": {
        "id": "TYkYO04GvW49",
        "colab": {
          "base_uri": "https://localhost:8080/"
        },
        "outputId": "8aab36b4-c6d9-406e-a2d4-5260ac9ec1ce"
      },
      "source": [
        "np.sum(F,axis=1)"
      ],
      "execution_count": null,
      "outputs": [
        {
          "output_type": "execute_result",
          "data": {
            "text/plain": [
              "array([10, 24])"
            ]
          },
          "metadata": {},
          "execution_count": 73
        }
      ]
    },
    {
      "cell_type": "markdown",
      "metadata": {
        "id": "4FaAO7eqvfpd"
      },
      "source": [
        "**9. Menjumlahkan Semua Elemen Baris Sebuah Matriks**"
      ]
    },
    {
      "cell_type": "code",
      "metadata": {
        "id": "Lx_AK78svla1",
        "colab": {
          "base_uri": "https://localhost:8080/"
        },
        "outputId": "1d1479be-bdda-4f41-fec1-0f63e1eb0069"
      },
      "source": [
        "np.sum(S,axis=0)"
      ],
      "execution_count": null,
      "outputs": [
        {
          "output_type": "execute_result",
          "data": {
            "text/plain": [
              "array([ 6, 10])"
            ]
          },
          "metadata": {},
          "execution_count": 74
        }
      ]
    },
    {
      "cell_type": "code",
      "metadata": {
        "id": "Qg6EvaCuvmMv",
        "colab": {
          "base_uri": "https://localhost:8080/"
        },
        "outputId": "21202e79-06bb-45b6-e350-cbeb24985359"
      },
      "source": [
        "np.sum(F,axis=0)"
      ],
      "execution_count": null,
      "outputs": [
        {
          "output_type": "execute_result",
          "data": {
            "text/plain": [
              "array([12, 22])"
            ]
          },
          "metadata": {},
          "execution_count": 75
        }
      ]
    }
  ]
}