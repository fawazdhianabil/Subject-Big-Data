{
  "nbformat": 4,
  "nbformat_minor": 0,
  "metadata": {
    "colab": {
      "name": "Kelompok1_Basic Python.ipynb",
      "provenance": [],
      "collapsed_sections": []
    },
    "kernelspec": {
      "name": "python3",
      "display_name": "Python 3"
    },
    "language_info": {
      "name": "python"
    }
  },
  "cells": [
    {
      "cell_type": "markdown",
      "metadata": {
        "id": "5df3A1Mf_ZjY"
      },
      "source": [
        "# **Kelompok 1**\n",
        "1. Ferna Marestiani         1800015008\n",
        "2. Mirza Yuniar Renardi     1800015063\n",
        "3. Resti Pamuji             1800015071\n",
        "4. Shinta Nurul K           1800015100\n",
        "5. Hanifah Septianingrum    1800015101\n",
        "6. Winda Anggraeni          1800015108\n",
        "\n",
        "---\n",
        "\n"
      ]
    },
    {
      "cell_type": "markdown",
      "metadata": {
        "id": "-MmVzZNX1vxQ"
      },
      "source": [
        "#**BASIC PYTHON**"
      ]
    },
    {
      "cell_type": "markdown",
      "metadata": {
        "id": "cWOnsJmS1yc-"
      },
      "source": [
        "# **TIPE DATA**"
      ]
    },
    {
      "cell_type": "markdown",
      "metadata": {
        "id": "QN72ONoF16sa"
      },
      "source": [
        "**Python**"
      ]
    },
    {
      "cell_type": "markdown",
      "metadata": {
        "id": "_JZsPx5u1_YQ"
      },
      "source": [
        "Python adalah bahasa pemrograman interpretatif multiguna yang sederhana dan mudah dimengerti. Python dapat di gunakan dalam pengembangan web, machine learning, pemrosesan statistik, dan banyak lagi."
      ]
    },
    {
      "cell_type": "markdown",
      "metadata": {
        "id": "PlqMVSkj2FKS"
      },
      "source": [
        "**Tipe Data**"
      ]
    },
    {
      "cell_type": "markdown",
      "metadata": {
        "id": "MVkmtdH02PP2"
      },
      "source": [
        "Tipe data adalah kumpulan suatu media yang menampung informasi dan ditemukan di semua data. Dengan memahami tipe data, kita dapat menentukan nilai data yang dimiliki dari data tersebut."
      ]
    },
    {
      "cell_type": "markdown",
      "metadata": {
        "id": "uJZsxQA52UgN"
      },
      "source": [
        "**Mengenal Beberapa Tipe Data Pada Python:**"
      ]
    },
    {
      "cell_type": "code",
      "metadata": {
        "colab": {
          "base_uri": "https://localhost:8080/"
        },
        "id": "IbaHfSm32YrH",
        "outputId": "da67ff32-5485-420b-8b7f-699dfbc1df67"
      },
      "source": [
        "#Tipe Data Boolean\n",
        "print(True)"
      ],
      "execution_count": null,
      "outputs": [
        {
          "output_type": "stream",
          "name": "stdout",
          "text": [
            "True\n"
          ]
        }
      ]
    },
    {
      "cell_type": "code",
      "metadata": {
        "colab": {
          "base_uri": "https://localhost:8080/"
        },
        "id": "Qh1NXWB_2dE3",
        "outputId": "e869c0b8-b761-47a0-855e-8f99a0bfbc86"
      },
      "source": [
        "#Tipe Data String\n",
        "print(\"Ayo belajar Python\")\n",
        "print('Belajar Python Bersama Kelompok 1')"
      ],
      "execution_count": null,
      "outputs": [
        {
          "output_type": "stream",
          "name": "stdout",
          "text": [
            "Ayo belajar Python\n",
            "Belajar Python Bersama Kelompok 1\n"
          ]
        }
      ]
    },
    {
      "cell_type": "code",
      "metadata": {
        "colab": {
          "base_uri": "https://localhost:8080/"
        },
        "id": "Eyr-BDxH2gZf",
        "outputId": "6b584cf8-491e-47de-abd0-9e48dcf4c429"
      },
      "source": [
        "#Tipe Data Integer\n",
        "print(14)"
      ],
      "execution_count": null,
      "outputs": [
        {
          "output_type": "stream",
          "name": "stdout",
          "text": [
            "14\n"
          ]
        }
      ]
    },
    {
      "cell_type": "code",
      "metadata": {
        "colab": {
          "base_uri": "https://localhost:8080/"
        },
        "id": "zeQHXc3L2jf_",
        "outputId": "05877c99-d093-47a0-d490-c037a8ca0f47"
      },
      "source": [
        "#Tipe Data Float\n",
        "print(3.14)"
      ],
      "execution_count": null,
      "outputs": [
        {
          "output_type": "stream",
          "name": "stdout",
          "text": [
            "3.14\n"
          ]
        }
      ]
    },
    {
      "cell_type": "code",
      "metadata": {
        "colab": {
          "base_uri": "https://localhost:8080/"
        },
        "id": "d6eCZYbY2nvv",
        "outputId": "21686240-ba85-4533-faac-096e5c6c670e"
      },
      "source": [
        "#Tipe Data List\n",
        "print([1,2,3,4,5])\n",
        "print([\"satu\", \"dua\", \"tiga\"])"
      ],
      "execution_count": null,
      "outputs": [
        {
          "output_type": "stream",
          "name": "stdout",
          "text": [
            "[1, 2, 3, 4, 5]\n",
            "['satu', 'dua', 'tiga']\n"
          ]
        }
      ]
    },
    {
      "cell_type": "code",
      "metadata": {
        "colab": {
          "base_uri": "https://localhost:8080/"
        },
        "id": "L_iGJs-i2rvl",
        "outputId": "546cea0b-6ef0-4265-e5be-f717ccef7645"
      },
      "source": [
        "#Tipe Data Tuple\n",
        "print((1,3,5,7,9))\n",
        "print((\"satu\", \"dua\", \"tiga\"))"
      ],
      "execution_count": null,
      "outputs": [
        {
          "output_type": "stream",
          "name": "stdout",
          "text": [
            "(1, 3, 5, 7, 9)\n",
            "('satu', 'dua', 'tiga')\n"
          ]
        }
      ]
    },
    {
      "cell_type": "code",
      "metadata": {
        "colab": {
          "base_uri": "https://localhost:8080/"
        },
        "id": "MyTR4mhp2vHF",
        "outputId": "564f1cec-cdc9-4412-cd3d-fa06c0dc57f1"
      },
      "source": [
        "#Tipe Data Dictionary\n",
        "print({\"nama\":\"Budi\", 'umur':20})"
      ],
      "execution_count": null,
      "outputs": [
        {
          "output_type": "stream",
          "name": "stdout",
          "text": [
            "{'nama': 'Budi', 'umur': 20}\n"
          ]
        }
      ]
    },
    {
      "cell_type": "markdown",
      "metadata": {
        "id": "h8_mIDQjNflM"
      },
      "source": [
        "# **List Pada Python**\n",
        "List adalah jenis kumpulan data yang terurut (ordered sequence). Elemen List pada Python tidak harus memiliki tipe data yang sama. Mendeklarasikan List cukup mudah dengan kurung siku dan elemen yang dipisahkan dengan tanda koma. "
      ]
    },
    {
      "cell_type": "markdown",
      "metadata": {
        "id": "jNuWGwsQN5rX"
      },
      "source": [
        "**Membuat List**\n",
        "\n",
        "List dapat diisi dengan tipe data apa saja, string, integer, float, double, boolean, object, dan sebagainya."
      ]
    },
    {
      "cell_type": "code",
      "metadata": {
        "colab": {
          "base_uri": "https://localhost:8080/"
        },
        "id": "0-IBtFL5N2O8",
        "outputId": "08b8b4a0-fb81-4dcc-8b32-b85a2e0572fa"
      },
      "source": [
        "# contoh 1\n",
        "bunga = [\"mawar\", \"melati\", \"kenanga\", \"matahari\", \"anggrek\"]\n",
        "print(bunga)\n",
        "\n",
        "#contoh 2\n",
        "umur = [\"Ayah\", 48, True, 19.68]\n",
        "print(umur)"
      ],
      "execution_count": null,
      "outputs": [
        {
          "output_type": "stream",
          "name": "stdout",
          "text": [
            "['mawar', 'melati', 'kenanga', 'matahari', 'anggrek']\n",
            "['Ayah', 48, True, 19.68]\n"
          ]
        }
      ]
    },
    {
      "cell_type": "markdown",
      "metadata": {
        "id": "-jnogfpbNgkN"
      },
      "source": [
        "**Mengakses elemen list** \n",
        "\n",
        "Elemen list dapat diakses dengan indeks. Untuk mengakses elemen list, gunakan fungsi print"
      ]
    },
    {
      "cell_type": "code",
      "metadata": {
        "colab": {
          "base_uri": "https://localhost:8080/"
        },
        "id": "hn4uIAWTPbFw",
        "outputId": "97ecddb3-9c36-424c-fb1b-1e5365b40769"
      },
      "source": [
        "bunga = [\"mawar\", \"melati\", \"kenanga\", \"matahari\", \"anggrek\"]\n",
        "print(bunga[1])\n",
        "print(bunga[-4])\n",
        "print(bunga[2:])\n",
        "print(bunga[0:3:2])\n",
        "print(bunga[-3:-1])"
      ],
      "execution_count": null,
      "outputs": [
        {
          "output_type": "stream",
          "name": "stdout",
          "text": [
            "melati\n",
            "melati\n",
            "['kenanga', 'matahari', 'anggrek']\n",
            "['mawar', 'kenanga']\n",
            "['kenanga', 'matahari']\n"
          ]
        }
      ]
    },
    {
      "cell_type": "markdown",
      "metadata": {
        "id": "1C1uKqcFQyRM"
      },
      "source": [
        "**Mengubah elemen list**\n"
      ]
    },
    {
      "cell_type": "code",
      "metadata": {
        "colab": {
          "base_uri": "https://localhost:8080/"
        },
        "id": "vq1UtPzfRUgm",
        "outputId": "ee31cfba-96ff-4bee-c41d-1aaf83f6c826"
      },
      "source": [
        "bunga = [\"mawar\", \"melati\", \"kenanga\", \"matahari\", \"anggrek\"]\n",
        "bunga[2] = \"sepatu\"\n",
        "print(bunga)"
      ],
      "execution_count": null,
      "outputs": [
        {
          "output_type": "stream",
          "name": "stdout",
          "text": [
            "['mawar', 'melati', 'sepatu', 'matahari', 'anggrek']\n"
          ]
        }
      ]
    },
    {
      "cell_type": "markdown",
      "metadata": {
        "id": "uTUGf_ikRjqA"
      },
      "source": [
        "**Looping di dalam list **"
      ]
    },
    {
      "cell_type": "code",
      "metadata": {
        "colab": {
          "base_uri": "https://localhost:8080/"
        },
        "id": "4A-PAEHomhNe",
        "outputId": "7cde16cc-c770-4afb-c154-1cea3c22499a"
      },
      "source": [
        "bunga = [\"mawar\", \"melati\", \"kenanga\", \"matahari\", \"anggrek\"]\n",
        "for y in bunga:\n",
        "  print(y)"
      ],
      "execution_count": null,
      "outputs": [
        {
          "output_type": "stream",
          "name": "stdout",
          "text": [
            "mawar\n",
            "melati\n",
            "kenanga\n",
            "matahari\n",
            "anggrek\n"
          ]
        }
      ]
    },
    {
      "cell_type": "markdown",
      "metadata": {
        "id": "-6P_-6RQm2nz"
      },
      "source": [
        "**Cek elemen list**\n",
        "\n",
        "akan dicek, apakah elemen termasuk kedalam list"
      ]
    },
    {
      "cell_type": "code",
      "metadata": {
        "colab": {
          "base_uri": "https://localhost:8080/"
        },
        "id": "IxlADre6nGhY",
        "outputId": "18252d73-0c2c-465f-9f88-df4e1e39a604"
      },
      "source": [
        "bunga = [\"mawar\", \"melati\", \"kenanga\", \"matahari\", \"anggrek\"]\n",
        "if \"anggrek\" in bunga:\n",
        "  print(\"ada dalam bunga\")"
      ],
      "execution_count": null,
      "outputs": [
        {
          "output_type": "stream",
          "name": "stdout",
          "text": [
            "ada dalam bunga\n"
          ]
        }
      ]
    },
    {
      "cell_type": "markdown",
      "metadata": {
        "id": "sttpABwhnVQR"
      },
      "source": [
        "**Menghitung jumlah elemen list** \n"
      ]
    },
    {
      "cell_type": "code",
      "metadata": {
        "colab": {
          "base_uri": "https://localhost:8080/"
        },
        "id": "fRSgV6HluV7g",
        "outputId": "cfce230d-b7b4-494f-804a-a9839299a498"
      },
      "source": [
        "bunga = [\"mawar\", \"melati\", \"kenanga\", \"matahari\", \"anggrek\"]\n",
        "print(len(bunga))"
      ],
      "execution_count": null,
      "outputs": [
        {
          "output_type": "stream",
          "name": "stdout",
          "text": [
            "5\n"
          ]
        }
      ]
    },
    {
      "cell_type": "markdown",
      "metadata": {
        "id": "MfzcoqbnufBS"
      },
      "source": [
        "# Metode List Pada Python "
      ]
    },
    {
      "cell_type": "markdown",
      "metadata": {
        "id": "o4rl6Sl_ulmN"
      },
      "source": [
        "**Menambah elemen list**\n",
        "\n",
        "Terdapat 3 cara untuk menambahkan elemen pada list, yaitu :\n",
        "1. menggunakan metode append() \n",
        "2. menggunakan metode extend([])\n",
        "2. menggunakan metode insert()\n"
      ]
    },
    {
      "cell_type": "markdown",
      "metadata": {
        "id": "GCT6due-u9oN"
      },
      "source": [
        "1. Metode append() yaitu menambahkan elemen baru di akhir list."
      ]
    },
    {
      "cell_type": "code",
      "metadata": {
        "colab": {
          "base_uri": "https://localhost:8080/"
        },
        "id": "jdyEcWMvwnRz",
        "outputId": "01f9a370-22fc-43da-afcf-dc7bcbefaea3"
      },
      "source": [
        "bunga = [\"mawar\", \"melati\", \"kenanga\", \"matahari\", \"anggrek\"]\n",
        "bunga.append('kamboja')\n",
        "print(bunga)"
      ],
      "execution_count": null,
      "outputs": [
        {
          "output_type": "stream",
          "name": "stdout",
          "text": [
            "['mawar', 'melati', 'kenanga', 'matahari', 'anggrek', 'kamboja']\n"
          ]
        }
      ]
    },
    {
      "cell_type": "markdown",
      "metadata": {
        "id": "g7Q_TW6_xKD7"
      },
      "source": [
        "2. Method extend() berfungsi sama seperti append() yakni untuk menambahkan elemen baru pada list namun elemen tersebut ditambahkan secara individual. Agar hasilnya tidak terpisah, kita dapat membatasi string tersebut dengan tanda kurung siku ([])"
      ]
    },
    {
      "cell_type": "code",
      "metadata": {
        "colab": {
          "base_uri": "https://localhost:8080/"
        },
        "id": "5abWhUZIyRcQ",
        "outputId": "e1da9643-8cfa-481a-a877-fa78494c6c37"
      },
      "source": [
        "bunga = [\"mawar\", \"melati\", \"kenanga\", \"matahari\", \"anggrek\"]\n",
        "bunga.extend('kamboja')\n",
        "print(bunga)"
      ],
      "execution_count": null,
      "outputs": [
        {
          "output_type": "stream",
          "name": "stdout",
          "text": [
            "['mawar', 'melati', 'kenanga', 'matahari', 'anggrek', 'k', 'a', 'm', 'b', 'o', 'j', 'a']\n"
          ]
        }
      ]
    },
    {
      "cell_type": "code",
      "metadata": {
        "colab": {
          "base_uri": "https://localhost:8080/"
        },
        "id": "P4Dj5kfAyfNP",
        "outputId": "93a96b76-0ada-4916-fc0c-4673cfac6cef"
      },
      "source": [
        "bunga = [\"mawar\", \"melati\", \"kenanga\", \"matahari\", \"anggrek\"]\n",
        "bunga.extend(['kamboja'])\n",
        "print(bunga)"
      ],
      "execution_count": null,
      "outputs": [
        {
          "output_type": "stream",
          "name": "stdout",
          "text": [
            "['mawar', 'melati', 'kenanga', 'matahari', 'anggrek', 'kamboja']\n"
          ]
        }
      ]
    },
    {
      "cell_type": "markdown",
      "metadata": {
        "id": "HNMCv-65ypsC"
      },
      "source": [
        "3. Method insert() digunakan apabila kita ingin menyisipkan elemen baru di list pada indeks tertentu.\n",
        "\n",
        "  misalkan, saya ingin menambahkan bunga sepatu pada indeks ke-2, maka "
      ]
    },
    {
      "cell_type": "code",
      "metadata": {
        "colab": {
          "base_uri": "https://localhost:8080/"
        },
        "id": "AkS_kFz8yz9F",
        "outputId": "9b9f15a1-4afe-4913-842e-70dbbf9e8563"
      },
      "source": [
        "bunga = [\"mawar\", \"melati\", \"kenanga\", \"matahari\", \"anggrek\"]\n",
        "bunga.insert(2, 'sepatu')\n",
        "print(bunga)"
      ],
      "execution_count": null,
      "outputs": [
        {
          "output_type": "stream",
          "name": "stdout",
          "text": [
            "['mawar', 'melati', 'sepatu', 'kenanga', 'matahari', 'anggrek']\n"
          ]
        }
      ]
    },
    {
      "cell_type": "markdown",
      "metadata": {
        "id": "_Qxj-fJIzaPF"
      },
      "source": [
        "**Menghapus elemen List**"
      ]
    },
    {
      "cell_type": "markdown",
      "metadata": {
        "id": "fLBTbDC_zm3L"
      },
      "source": [
        "Terdapat beberapa cara untuk menghapus elemen list, diantaranya :\n",
        "1. menggunakan keyword del\n",
        "2. menggunakan metode remove()\n",
        "3. menggunakan metode pop()\n",
        "4. menggunakan metode clear()"
      ]
    },
    {
      "cell_type": "markdown",
      "metadata": {
        "id": "5nWqLlnWzwzW"
      },
      "source": [
        "1. Menggunakan keyword del. Perintah del merupakan salah satu cara menghapus list berdasarkan indeks ."
      ]
    },
    {
      "cell_type": "code",
      "metadata": {
        "colab": {
          "base_uri": "https://localhost:8080/"
        },
        "id": "0TXn8S5Sz5g-",
        "outputId": "41824af9-6189-4fcf-b752-8d1955511196"
      },
      "source": [
        "bunga = [\"mawar\", \"melati\", \"kenanga\", \"matahari\", \"anggrek\"]\n",
        "del bunga [3]\n",
        "print(bunga)"
      ],
      "execution_count": null,
      "outputs": [
        {
          "output_type": "stream",
          "name": "stdout",
          "text": [
            "['mawar', 'melati', 'kenanga', 'anggrek']\n"
          ]
        }
      ]
    },
    {
      "cell_type": "markdown",
      "metadata": {
        "id": "xqQEn8DR0EVf"
      },
      "source": [
        "2. Metode remove. Method remove() akan menghapus item di dalam sebuah list berdasarkan nama item atau elemen tersebut. "
      ]
    },
    {
      "cell_type": "code",
      "metadata": {
        "colab": {
          "base_uri": "https://localhost:8080/"
        },
        "id": "5fT43P_e0QbG",
        "outputId": "6780426f-b3d5-44e2-dc3a-a87380173fbf"
      },
      "source": [
        "bunga = [\"mawar\", \"melati\", \"kenanga\", \"matahari\", \"anggrek\"]\n",
        "bunga.remove(\"kenanga\")\n",
        "print(bunga)"
      ],
      "execution_count": null,
      "outputs": [
        {
          "output_type": "stream",
          "name": "stdout",
          "text": [
            "['mawar', 'melati', 'matahari', 'anggrek']\n"
          ]
        }
      ]
    },
    {
      "cell_type": "markdown",
      "metadata": {
        "id": "-lmE0nno01hb"
      },
      "source": [
        "3. jika kita ingin menghapus elemen list berdasarkan indeks, kita bisa menggunakan method pop()."
      ]
    },
    {
      "cell_type": "code",
      "metadata": {
        "colab": {
          "base_uri": "https://localhost:8080/"
        },
        "id": "6Hc3WCZW1DwR",
        "outputId": "c5103f54-b90c-4de1-a46a-0fc66e636909"
      },
      "source": [
        "bunga = [\"mawar\", \"melati\", \"kenanga\", \"matahari\", \"anggrek\"]\n",
        "bunga.pop(3)\n",
        "bunga.pop()\n",
        "print(bunga)"
      ],
      "execution_count": null,
      "outputs": [
        {
          "output_type": "stream",
          "name": "stdout",
          "text": [
            "['mawar', 'melati', 'kenanga']\n"
          ]
        }
      ]
    },
    {
      "cell_type": "markdown",
      "metadata": {
        "id": "2uOkdR_J1poE"
      },
      "source": [
        "4. jika ingin menghapus seluruh elemen pada list, dapat digunakan methode clear()"
      ]
    },
    {
      "cell_type": "code",
      "metadata": {
        "colab": {
          "base_uri": "https://localhost:8080/"
        },
        "id": "URrYWB45126v",
        "outputId": "5166b8fd-4fb3-44c1-cc74-0b476fb52fe3"
      },
      "source": [
        "bunga = [\"mawar\", \"melati\", \"kenanga\", \"matahari\", \"anggrek\"]\n",
        "bunga.clear()\n",
        "print(bunga)"
      ],
      "execution_count": null,
      "outputs": [
        {
          "output_type": "stream",
          "name": "stdout",
          "text": [
            "[]\n"
          ]
        }
      ]
    },
    {
      "cell_type": "markdown",
      "metadata": {
        "id": "27-BwL092I08"
      },
      "source": [
        "**Mengcopy List**"
      ]
    },
    {
      "cell_type": "markdown",
      "metadata": {
        "id": "1jGtgkry2NTn"
      },
      "source": [
        "copy list\n",
        "ada 2 cara untuk copy list\n",
        "1. menggunakan metode copy()\n",
        "2. menggunakan metode list()"
      ]
    },
    {
      "cell_type": "code",
      "metadata": {
        "colab": {
          "base_uri": "https://localhost:8080/"
        },
        "id": "x_KLvPny2TrU",
        "outputId": "c86c9329-782e-4fbb-aac9-55918cbb909b"
      },
      "source": [
        "# COPY\n",
        "bunga = [\"mawar\", \"melati\", \"kenanga\", \"matahari\", \"anggrek\"]\n",
        "flower = bunga.copy()\n",
        "print(bunga)"
      ],
      "execution_count": null,
      "outputs": [
        {
          "output_type": "stream",
          "name": "stdout",
          "text": [
            "['mawar', 'melati', 'kenanga', 'matahari', 'anggrek']\n"
          ]
        }
      ]
    },
    {
      "cell_type": "code",
      "metadata": {
        "colab": {
          "base_uri": "https://localhost:8080/"
        },
        "id": "H3FduSIX2oaB",
        "outputId": "fb5c5b6e-7ef8-4879-a02b-13634e36ddf1"
      },
      "source": [
        "# LIST\n",
        "bunga = [\"mawar\", \"melati\", \"kenanga\", \"matahari\", \"anggrek\"]\n",
        "flower = list(bunga)\n",
        "print(bunga)"
      ],
      "execution_count": null,
      "outputs": [
        {
          "output_type": "stream",
          "name": "stdout",
          "text": [
            "['mawar', 'melati', 'kenanga', 'matahari', 'anggrek']\n"
          ]
        }
      ]
    },
    {
      "cell_type": "markdown",
      "metadata": {
        "id": "lOt5f3D427LM"
      },
      "source": [
        "**Menggabung List**"
      ]
    },
    {
      "cell_type": "markdown",
      "metadata": {
        "id": "e3OKyGGz28Sp"
      },
      "source": [
        "cara menggabungkan 2 list\n",
        "1. menggunakan tanda +\n",
        "2. menggunakan metode append()\n",
        "3. menggunakan metode extend()"
      ]
    },
    {
      "cell_type": "code",
      "metadata": {
        "colab": {
          "base_uri": "https://localhost:8080/"
        },
        "id": "wPGsfEgPFZjf",
        "outputId": "0d34848a-298f-4275-be90-1f62cb758371"
      },
      "source": [
        "#menggnakan tanda +\n",
        "nama = [\"Nana\", \"Nabi\", \"Nina\"]\n",
        "berat_badan = [45, 39, 50]\n",
        "hasil = nama + berat_badan\n",
        "print(hasil)"
      ],
      "execution_count": null,
      "outputs": [
        {
          "output_type": "stream",
          "name": "stdout",
          "text": [
            "['Nana', 'Nabi', 'Nina', 45, 39, 50]\n"
          ]
        }
      ]
    },
    {
      "cell_type": "code",
      "metadata": {
        "id": "CFkLclAv3enj",
        "colab": {
          "base_uri": "https://localhost:8080/"
        },
        "outputId": "01ecb6c6-9d25-4f8a-aa81-d8b14b53de17"
      },
      "source": [
        "#menggunakan metode append\n",
        "nama = [\"Nana\", \"Nabi\", \"Nina\"]\n",
        "berat_badan = [45, 39, 50]\n",
        "for x in berat_badan:\n",
        "  nama.append(x)\n",
        "print(nama)"
      ],
      "execution_count": null,
      "outputs": [
        {
          "output_type": "stream",
          "name": "stdout",
          "text": [
            "['Nana', 'Nabi', 'Nina', 45, 39, 50]\n"
          ]
        }
      ]
    },
    {
      "cell_type": "code",
      "metadata": {
        "colab": {
          "base_uri": "https://localhost:8080/"
        },
        "id": "xF2iKykQF0g2",
        "outputId": "98438d31-bc31-4016-e2d6-80284a82cbca"
      },
      "source": [
        "#menggunakan metode extend\n",
        "nama = [\"Nana\", \"Nabi\", \"Nina\"]\n",
        "berat_badan = [45, 39, 50]\n",
        "nama.extend(berat_badan)\n",
        "print(nama)"
      ],
      "execution_count": null,
      "outputs": [
        {
          "output_type": "stream",
          "name": "stdout",
          "text": [
            "['Nana', 'Nabi', 'Nina', 45, 39, 50]\n"
          ]
        }
      ]
    },
    {
      "cell_type": "markdown",
      "metadata": {
        "id": "kUQTK6Rg_JkC"
      },
      "source": [
        "#**String Python**"
      ]
    },
    {
      "cell_type": "markdown",
      "metadata": {
        "id": "JOo_CTTWAdCX"
      },
      "source": [
        "**String Literal**\n",
        "\n",
        "\n",
        "\n"
      ]
    },
    {
      "cell_type": "markdown",
      "metadata": {
        "id": "OqClJO7GAwq4"
      },
      "source": [
        "String literal dalam python dikelilingi oleh tanda kutip tunggal, atau tanda kutip ganda.\n",
        "\n",
        "‘Hello’ sama dengan “Hello”."
      ]
    },
    {
      "cell_type": "markdown",
      "metadata": {
        "id": "A5wpPGZfA5uz"
      },
      "source": [
        "Untuk menampilkan literal string dapat dilakukan dengan fungsi print()."
      ]
    },
    {
      "cell_type": "code",
      "metadata": {
        "id": "cs2p9GFLBAGL"
      },
      "source": [
        "#Kita dapat menggunakan tanda kutip ganda atau tunggal:\n",
        "\n",
        "print(\"Hello\")\n",
        "print('Hello')"
      ],
      "execution_count": null,
      "outputs": []
    },
    {
      "cell_type": "markdown",
      "metadata": {
        "id": "DG_yd5ZTBSAa"
      },
      "source": [
        "**Tetapkan String ke Variabel**"
      ]
    },
    {
      "cell_type": "markdown",
      "metadata": {
        "id": "y8dLUYkyBXZw"
      },
      "source": [
        "Menetapkan string ke variabel dilakukan dengan nama variabel diikuti dengan tanda sama dengan dan string."
      ]
    },
    {
      "cell_type": "code",
      "metadata": {
        "colab": {
          "base_uri": "https://localhost:8080/"
        },
        "id": "ArzEVh4pBk11",
        "outputId": "760ed295-d573-458c-a562-db457531a22f"
      },
      "source": [
        "a = \"Hello\"\n",
        "print(a)"
      ],
      "execution_count": null,
      "outputs": [
        {
          "output_type": "stream",
          "name": "stdout",
          "text": [
            "Hello\n"
          ]
        }
      ]
    },
    {
      "cell_type": "markdown",
      "metadata": {
        "id": "W0AXpXwgBuWO"
      },
      "source": [
        "**String Multiline**"
      ]
    },
    {
      "cell_type": "markdown",
      "metadata": {
        "id": "ZELvEwdJB150"
      },
      "source": [
        "Untuk menetapkan string multiline ke variabel dapat dilakukan dengan menggunakan tiga tanda kutip."
      ]
    },
    {
      "cell_type": "markdown",
      "metadata": {
        "id": "VCueHRQ_CBLG"
      },
      "source": [
        "Contoh:\n",
        "Kita dapat menggunakan tiga tanda kutip ganda atau tiga tanda kutip tunggal\n",
        "\n"
      ]
    },
    {
      "cell_type": "code",
      "metadata": {
        "colab": {
          "base_uri": "https://localhost:8080/"
        },
        "id": "jaKueLG6CGuz",
        "outputId": "bc46da65-6214-419e-a2b7-1968c4b50371"
      },
      "source": [
        "a = \"\"\"Lorem ipsum dolor sit amet,\n",
        "consectetur adipiscing elit,\n",
        "sed do eiusmod tempor incididunt\n",
        "ut labore et dolore magna aliqua.\"\"\"\n",
        "print(a)"
      ],
      "execution_count": null,
      "outputs": [
        {
          "output_type": "stream",
          "name": "stdout",
          "text": [
            "Lorem ipsum dolor sit amet,\n",
            "consectetur adipiscing elit,\n",
            "sed do eiusmod tempor incididunt\n",
            "ut labore et dolore magna aliqua.\n"
          ]
        }
      ]
    },
    {
      "cell_type": "code",
      "metadata": {
        "colab": {
          "base_uri": "https://localhost:8080/"
        },
        "id": "OpZ3B6tfC6UN",
        "outputId": "93a866d9-bb16-4ab8-9c7c-e34cf12f764a"
      },
      "source": [
        "a = '''Lorem ipsum dolor sit amet,\n",
        "consectetur adipiscing elit,\n",
        "sed do eiusmod tempor incididunt\n",
        "ut labore et dolore magna aliqua.'''\n",
        "print(a)"
      ],
      "execution_count": null,
      "outputs": [
        {
          "output_type": "stream",
          "name": "stdout",
          "text": [
            "Lorem ipsum dolor sit amet,\n",
            "consectetur adipiscing elit,\n",
            "sed do eiusmod tempor incididunt\n",
            "ut labore et dolore magna aliqua.\n"
          ]
        }
      ]
    },
    {
      "cell_type": "markdown",
      "metadata": {
        "id": "yHuyMS4GDEX9"
      },
      "source": [
        "Catatan: Hasilnya jeda baris disisipkan pada posisi yang sama seperti di kode."
      ]
    },
    {
      "cell_type": "markdown",
      "metadata": {
        "id": "u-FOSliyBxlO"
      },
      "source": [
        "**String adalah Array**"
      ]
    },
    {
      "cell_type": "markdown",
      "metadata": {
        "id": "ZZvWiAnqDPfw"
      },
      "source": [
        "Seperti kebanyakan bahasa pemrograman populer lainnya, string dalam Python adalah array byte yang mewakili karakter unicode. Namun, Python tidak memiliki tipe data karakter, satu karakter hanyalah string dengan panjang 1.\n",
        "\n",
        "Tanda kurung siku dapat digunakan untuk mengakses elemen string."
      ]
    },
    {
      "cell_type": "markdown",
      "metadata": {
        "id": "h-GqfcDfDW58"
      },
      "source": [
        "Contoh:\n",
        "Dapatkan karakter di posisi 1 (ingat bahwa karakter pertama memiliki posisi 0)."
      ]
    },
    {
      "cell_type": "code",
      "metadata": {
        "colab": {
          "base_uri": "https://localhost:8080/"
        },
        "id": "S70UvoakDhTy",
        "outputId": "1e485ce6-fe93-4495-cdfe-e67f69722781"
      },
      "source": [
        "a = \"Hello, World!\"\n",
        "print(a[1])"
      ],
      "execution_count": null,
      "outputs": [
        {
          "output_type": "stream",
          "name": "stdout",
          "text": [
            "e\n"
          ]
        }
      ]
    },
    {
      "cell_type": "markdown",
      "metadata": {
        "id": "3PMIqLE_DlZ3"
      },
      "source": [
        "**Mengiris**"
      ]
    },
    {
      "cell_type": "markdown",
      "metadata": {
        "id": "JH0cY1RsDn32"
      },
      "source": [
        "Python dapat mengembalikan berbagai karakter dengan menggunakan sintaks slice.\n",
        "\n",
        "Tentukan indeks awal dan indeks akhir, dipisahkan oleh titik dua, untuk mengembalikan bagian dari string."
      ]
    },
    {
      "cell_type": "markdown",
      "metadata": {
        "id": "GMGdxo_hDvPz"
      },
      "source": [
        "Contoh:\n",
        "Dapatkan karakter dari posisi 2 ke posisi 5 (tidak termasuk)"
      ]
    },
    {
      "cell_type": "code",
      "metadata": {
        "colab": {
          "base_uri": "https://localhost:8080/"
        },
        "id": "bQUgi7RGDzuX",
        "outputId": "cc24c76c-58a4-4fb1-b42e-fc9ea683f9be"
      },
      "source": [
        "b = \"Hello, World!\"\n",
        "print(b[2:5])"
      ],
      "execution_count": null,
      "outputs": [
        {
          "output_type": "stream",
          "name": "stdout",
          "text": [
            "llo\n"
          ]
        }
      ]
    },
    {
      "cell_type": "markdown",
      "metadata": {
        "id": "pEqILARHD4_n"
      },
      "source": [
        "Pengindeksan Negatif\n",
        "\n",
        "Gunakan indeks negatif untuk memulai potongan dari ujung string"
      ]
    },
    {
      "cell_type": "markdown",
      "metadata": {
        "id": "l9L-x_kBD5v4"
      },
      "source": [
        "Contoh:\n",
        "Dapatkan karakter dari posisi 5 ke posisi 1 (tidak termasuk), mulai hitungan dari akhir string"
      ]
    },
    {
      "cell_type": "code",
      "metadata": {
        "colab": {
          "base_uri": "https://localhost:8080/"
        },
        "id": "9nnjbb98D9Yn",
        "outputId": "004d0b17-e2c0-443f-824c-9f881fc554d1"
      },
      "source": [
        "b = \"Hello, World!\"\n",
        "print(b[-5:-2])"
      ],
      "execution_count": null,
      "outputs": [
        {
          "output_type": "stream",
          "name": "stdout",
          "text": [
            "orl\n"
          ]
        }
      ]
    },
    {
      "cell_type": "markdown",
      "metadata": {
        "id": "YJiGk_TfDlWS"
      },
      "source": [
        "**Panjang String**"
      ]
    },
    {
      "cell_type": "markdown",
      "metadata": {
        "id": "mLrrqth4EanH"
      },
      "source": [
        "Untuk mendapatkan panjang string, gunakan fungsi len().\n",
        "\n",
        "Contoh:\n",
        "Fungsi len() mengembalikan panjang string"
      ]
    },
    {
      "cell_type": "code",
      "metadata": {
        "colab": {
          "base_uri": "https://localhost:8080/"
        },
        "id": "rGSq4fiMEbX2",
        "outputId": "9c9f2c3b-5be5-4fa5-bfa3-c2f79a3997ba"
      },
      "source": [
        "a = \"Hello, World!\"\n",
        "print(len(a))"
      ],
      "execution_count": null,
      "outputs": [
        {
          "output_type": "stream",
          "name": "stdout",
          "text": [
            "13\n"
          ]
        }
      ]
    },
    {
      "cell_type": "markdown",
      "metadata": {
        "id": "nBzE64D7EgpY"
      },
      "source": [
        "**Metode String**"
      ]
    },
    {
      "cell_type": "markdown",
      "metadata": {
        "id": "3MFi4stYEjJ3"
      },
      "source": [
        "Python memiliki seperangkat metode bawaan yang dapat digunakan pada string.\n",
        "\n",
        "Contoh:\n",
        "Metode strip() menghapus spasi apa pun dari awal atau akhir"
      ]
    },
    {
      "cell_type": "code",
      "metadata": {
        "colab": {
          "base_uri": "https://localhost:8080/"
        },
        "id": "ykK2WJlTEmHa",
        "outputId": "f204e4ee-dda0-4143-866f-9b332ff10968"
      },
      "source": [
        "a = \" Hello, World! \"\n",
        "print(a.strip())"
      ],
      "execution_count": null,
      "outputs": [
        {
          "output_type": "stream",
          "name": "stdout",
          "text": [
            "Hello, World!\n"
          ]
        }
      ]
    },
    {
      "cell_type": "markdown",
      "metadata": {
        "id": "iLuV6ep3Euha"
      },
      "source": [
        "Metode lower() mengembalikan string dalam huruf kecil"
      ]
    },
    {
      "cell_type": "code",
      "metadata": {
        "colab": {
          "base_uri": "https://localhost:8080/"
        },
        "id": "oGbytg7zEvNv",
        "outputId": "97f6c44d-41ae-458c-b920-c72e42c69feb"
      },
      "source": [
        "a = \" Hello, World! \"\n",
        "print(a.lower())"
      ],
      "execution_count": null,
      "outputs": [
        {
          "output_type": "stream",
          "name": "stdout",
          "text": [
            " hello, world! \n"
          ]
        }
      ]
    },
    {
      "cell_type": "markdown",
      "metadata": {
        "id": "M2oCewUCE0W7"
      },
      "source": [
        "Metode upper() mengembalikan string dalam huruf besar"
      ]
    },
    {
      "cell_type": "code",
      "metadata": {
        "colab": {
          "base_uri": "https://localhost:8080/"
        },
        "id": "ZzRyoEPSE2kg",
        "outputId": "8963804c-1d4a-499f-f176-5109c1dfcb39"
      },
      "source": [
        "a = \" Hello, World! \"\n",
        "print(a.upper())"
      ],
      "execution_count": null,
      "outputs": [
        {
          "output_type": "stream",
          "name": "stdout",
          "text": [
            " HELLO, WORLD! \n"
          ]
        }
      ]
    },
    {
      "cell_type": "markdown",
      "metadata": {
        "id": "QLC7Mx8xE7QT"
      },
      "source": [
        "Metode replace() menggantikan string dengan string lain"
      ]
    },
    {
      "cell_type": "code",
      "metadata": {
        "colab": {
          "base_uri": "https://localhost:8080/"
        },
        "id": "fcv3ZxitE8co",
        "outputId": "bee48f6e-2ad9-4a94-f123-2e10afbbfada"
      },
      "source": [
        "a = \"Hello, World!\"\n",
        "print(a.replace(\"H\", \"J\"))"
      ],
      "execution_count": null,
      "outputs": [
        {
          "output_type": "stream",
          "name": "stdout",
          "text": [
            "Jello, World!\n"
          ]
        }
      ]
    },
    {
      "cell_type": "markdown",
      "metadata": {
        "id": "NHJXV7HdFDHW"
      },
      "source": [
        "Metode split() membagi string menjadi beberapa substring jika menemukan contoh pemisah"
      ]
    },
    {
      "cell_type": "code",
      "metadata": {
        "colab": {
          "base_uri": "https://localhost:8080/"
        },
        "id": "X76fC5HEFD8B",
        "outputId": "3ca6e7a4-ba06-4ad7-a0be-9b2ad0576cd8"
      },
      "source": [
        "a = \"Hello, World!\"\n",
        "b = a.split(\",\")\n",
        "print(b)"
      ],
      "execution_count": null,
      "outputs": [
        {
          "output_type": "stream",
          "name": "stdout",
          "text": [
            "['Hello', ' World!']\n"
          ]
        }
      ]
    },
    {
      "cell_type": "markdown",
      "metadata": {
        "id": "VgZ3kk8JFK27"
      },
      "source": [
        "**Periksa String**"
      ]
    },
    {
      "cell_type": "markdown",
      "metadata": {
        "id": "BvwPwLfqFNig"
      },
      "source": [
        "Untuk memeriksa apakah frase atau karakter tertentu ada dalam sebuah string, kita dapat menggunakan kata kunci in atau not in."
      ]
    },
    {
      "cell_type": "markdown",
      "metadata": {
        "id": "mbJpPdSaFR40"
      },
      "source": [
        "Contoh:\n",
        "Periksa apakah frase “an” ada dalam teks berikut"
      ]
    },
    {
      "cell_type": "code",
      "metadata": {
        "colab": {
          "base_uri": "https://localhost:8080/"
        },
        "id": "UbAJar8cFY53",
        "outputId": "ae88153f-8cc0-4e00-c2b8-e0aa171ea75f"
      },
      "source": [
        "txt = \"Hujan di Spanyol umumnya tetap di dataran\"\n",
        "x = \"an\" in txt\n",
        "print(x) "
      ],
      "execution_count": null,
      "outputs": [
        {
          "output_type": "stream",
          "name": "stdout",
          "text": [
            "True\n"
          ]
        }
      ]
    },
    {
      "cell_type": "markdown",
      "metadata": {
        "id": "dbBT80qvFegW"
      },
      "source": [
        "Periksa apakah frase “an” TIDAK ada dalam teks berikut"
      ]
    },
    {
      "cell_type": "code",
      "metadata": {
        "colab": {
          "base_uri": "https://localhost:8080/"
        },
        "id": "KspmxyTxFikg",
        "outputId": "eeffa9ec-4417-4b52-b811-32f12a035106"
      },
      "source": [
        "txt = \"Hujan di Spanyol umumnya tetap di dataran\"\n",
        "x = \"an\" in txt\n",
        "print(x) "
      ],
      "execution_count": null,
      "outputs": [
        {
          "output_type": "stream",
          "name": "stdout",
          "text": [
            "True\n"
          ]
        }
      ]
    },
    {
      "cell_type": "markdown",
      "metadata": {
        "id": "Iv0EuppxFzwZ"
      },
      "source": [
        "**Penggabungan String**"
      ]
    },
    {
      "cell_type": "markdown",
      "metadata": {
        "id": "PjCTcC4XF5ri"
      },
      "source": [
        "Untuk menggabungkan dua string dapat menggunakan operator +."
      ]
    },
    {
      "cell_type": "markdown",
      "metadata": {
        "id": "oyge240iF8i5"
      },
      "source": [
        "Contoh:\n",
        "Gabungkan variabel a dengan variabel b menjadi variabel c"
      ]
    },
    {
      "cell_type": "code",
      "metadata": {
        "colab": {
          "base_uri": "https://localhost:8080/"
        },
        "id": "zQZg-oJwF-LZ",
        "outputId": "abd26596-79a3-48c4-fd9e-284ffa14b60c"
      },
      "source": [
        "a = \"Hello\"\n",
        "b = \"World\"\n",
        "c = a + b\n",
        "print(c)"
      ],
      "execution_count": null,
      "outputs": [
        {
          "output_type": "stream",
          "name": "stdout",
          "text": [
            "HelloWorld\n"
          ]
        }
      ]
    },
    {
      "cell_type": "markdown",
      "metadata": {
        "id": "9CrGKJ7rGBwS"
      },
      "source": [
        "Untuk menambahkan spasi di antara keduanya, tambahkan “”"
      ]
    },
    {
      "cell_type": "code",
      "metadata": {
        "colab": {
          "base_uri": "https://localhost:8080/"
        },
        "id": "7AcCVdz3GCjX",
        "outputId": "d9efc6e6-eab8-41b6-a118-2b313a287abb"
      },
      "source": [
        "a = \"Hello\"\n",
        "b = \"World\"\n",
        "c = a + \" \" + b\n",
        "print(c)"
      ],
      "execution_count": null,
      "outputs": [
        {
          "output_type": "stream",
          "name": "stdout",
          "text": [
            "Hello World\n"
          ]
        }
      ]
    },
    {
      "cell_type": "markdown",
      "metadata": {
        "id": "LrtPR1G5GJjA"
      },
      "source": [
        "**Format String**"
      ]
    },
    {
      "cell_type": "markdown",
      "metadata": {
        "id": "a8AdXANFGQHD"
      },
      "source": [
        "Seperti yang kita pelajari di bab Variabel Python, kita tidak bisa menggabungkan string dan angka seperti ini."
      ]
    },
    {
      "cell_type": "code",
      "metadata": {
        "id": "o-8VcjhmGSLB"
      },
      "source": [
        "usia = 36\n",
        "txt = \"Namaku John dan aku\" + age\n",
        "print(txt) "
      ],
      "execution_count": null,
      "outputs": []
    },
    {
      "cell_type": "markdown",
      "metadata": {
        "id": "ST5Tx3MsGXz8"
      },
      "source": [
        "Tapi kita bisa menggabungkan string dan angka dengan menggunakan metode format()!\n",
        "\n",
        "Metode format() mengambil argumen yang diteruskan, memformatnya, dan menempatkannya dalam string di mana placeholder {} berada."
      ]
    },
    {
      "cell_type": "markdown",
      "metadata": {
        "id": "SSLWk4FiGbg0"
      },
      "source": [
        "Contoh:\n",
        "Gunakan metode format() untuk memasukkan angka ke dalam string"
      ]
    },
    {
      "cell_type": "code",
      "metadata": {
        "colab": {
          "base_uri": "https://localhost:8080/"
        },
        "id": "xyJFhDlWGcJZ",
        "outputId": "723b36b3-eaaf-4eb9-a558-129eab35591d"
      },
      "source": [
        "age = 36\n",
        "txt = \"Namaku John, dan aku {}\"\n",
        "print(txt.format(age))"
      ],
      "execution_count": null,
      "outputs": [
        {
          "output_type": "stream",
          "name": "stdout",
          "text": [
            "Namaku John, dan aku 36\n"
          ]
        }
      ]
    },
    {
      "cell_type": "markdown",
      "metadata": {
        "id": "PgG8gt1DGiFC"
      },
      "source": [
        "Metode format() mengambil jumlah argumen yang tidak terbatas, dan ditempatkan ke dalam placeholder masing-masing"
      ]
    },
    {
      "cell_type": "code",
      "metadata": {
        "colab": {
          "base_uri": "https://localhost:8080/"
        },
        "id": "H4yWCDoLGjxE",
        "outputId": "560c90c1-dbb6-4c40-db4c-5491b6ae3ab7"
      },
      "source": [
        "quantity = 3\n",
        "itemno = 567\n",
        "price = 49.95\n",
        "myorder = \"Aku ingin {} pasang barang {} untuk {} dollars.\"\n",
        "print(myorder.format(quantity, itemno, price)) "
      ],
      "execution_count": null,
      "outputs": [
        {
          "output_type": "stream",
          "name": "stdout",
          "text": [
            "Aku ingin 3 pasang barang 567 untuk 49.95 dollars.\n"
          ]
        }
      ]
    },
    {
      "cell_type": "markdown",
      "metadata": {
        "id": "PceMPl-NGoCu"
      },
      "source": [
        "Anda bisa menggunakan nomor indeks {0} untuk memastikan argumen ditempatkan di placeholder yang benar:"
      ]
    },
    {
      "cell_type": "code",
      "metadata": {
        "colab": {
          "base_uri": "https://localhost:8080/"
        },
        "id": "Vf5JuPQrGqi9",
        "outputId": "6b560817-fb69-4660-bf95-274ec36ec022"
      },
      "source": [
        "quantity = 3\n",
        "itemno = 567\n",
        "price = 49.95\n",
        "myorder = \"Aku ingin membayar {2} dollars untuk {0} pasang barangg {1}.\"\n",
        "print(myorder.format(quantity, itemno, price)) "
      ],
      "execution_count": null,
      "outputs": [
        {
          "output_type": "stream",
          "name": "stdout",
          "text": [
            "Aku ingin membayar 49.95 dollars untuk 3 pasang barangg 567.\n"
          ]
        }
      ]
    },
    {
      "cell_type": "markdown",
      "metadata": {
        "id": "p2u4Weu2Gv0K"
      },
      "source": [
        "**Karakter Escape**"
      ]
    },
    {
      "cell_type": "markdown",
      "metadata": {
        "id": "43tn7BjxGyAL"
      },
      "source": [
        "Untuk menyisipkan karakter yang ilegal dalam sebuah string, gunakan karakter escape.\n",
        "\n",
        "Karakter escape adalah backslash \\ diikuti dengan karakter yang ingin disisipkan.\n",
        "\n",
        "Contoh karakter ilegal adalah tanda kutip ganda di dalam string yang diapit tanda kutip ganda."
      ]
    },
    {
      "cell_type": "markdown",
      "metadata": {
        "id": "MT__YcR7G2tL"
      },
      "source": [
        "Contoh:\n",
        "Ini akan menghasilkan kesalahan jika kita menggunakan tanda kutip ganda di dalam string yang dikelilingi oleh tanda kutip ganda."
      ]
    },
    {
      "cell_type": "code",
      "metadata": {
        "id": "7eBr26yKG6eF"
      },
      "source": [
        "txt = \"Kita adalah yang bernama \"Vikings\" dari utara.\"\n",
        "\n",
        "\n",
        "#Ini akan menghasilkan kesalahan jika kita menggunakan tanda kutip ganda di dalam string yang dikelilingi oleh tanda kutip ganda.\n"
      ],
      "execution_count": null,
      "outputs": []
    },
    {
      "cell_type": "markdown",
      "metadata": {
        "id": "c1Ac0Dl8HAhr"
      },
      "source": [
        "Untuk memperbaiki masalah ini, gunakan karakter escape \\ “:"
      ]
    },
    {
      "cell_type": "code",
      "metadata": {
        "id": "6rUrrPqBHCNb"
      },
      "source": [
        "txt = \"Kita adalah yang bernama \\\"Vikings\\\" dari utara.\"\n"
      ],
      "execution_count": null,
      "outputs": []
    },
    {
      "cell_type": "markdown",
      "metadata": {
        "id": "r3c5KnD2HKI7"
      },
      "source": [
        "Karakter escape lain yang digunakan di Python:\n",
        "\n",
        "![Capture1.PNG](data:image/png;base64,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)"
      ]
    },
    {
      "cell_type": "markdown",
      "metadata": {
        "id": "6y6qgHaA24K3"
      },
      "source": [
        "#**Tuple**"
      ]
    },
    {
      "cell_type": "markdown",
      "metadata": {
        "id": "2LlkpwJe28Ae"
      },
      "source": [
        "Tuple adalah jenis dari list yang tidak dapat diubah elemennya. Umumnya tuple digunakan untuk data yang bersifat sekali tulis, dan dapat dieksekusi lebih cepat. Tuple didefinisikan dengan kurung dan elemen yang dipisahkan dengan koma."
      ]
    },
    {
      "cell_type": "code",
      "metadata": {
        "colab": {
          "base_uri": "https://localhost:8080/"
        },
        "id": "ij8azx0w2_C4",
        "outputId": "a9ca1766-1c46-4719-e1d6-7555ebd243d9"
      },
      "source": [
        "b = (5,'BIGDATA', 1+3j)\n",
        "b"
      ],
      "execution_count": null,
      "outputs": [
        {
          "output_type": "execute_result",
          "data": {
            "text/plain": [
              "(5, 'BIGDATA', (1+3j))"
            ]
          },
          "metadata": {},
          "execution_count": 8
        }
      ]
    },
    {
      "cell_type": "markdown",
      "metadata": {
        "id": "AqcS4_C53Cng"
      },
      "source": [
        "Seperti list, kita dapat melakukan slicing, namun pada tuple kita tidak dapat melakukan perubahan:"
      ]
    },
    {
      "cell_type": "code",
      "metadata": {
        "colab": {
          "base_uri": "https://localhost:8080/"
        },
        "id": "LfksLk4L2_gv",
        "outputId": "bbd3c9ef-d1fe-478b-ac62-f24a42aa3675"
      },
      "source": [
        "b = (5,'BIGDATA', 1+3j)\n",
        "print(b[1])\n",
        "print(b[0:3])"
      ],
      "execution_count": null,
      "outputs": [
        {
          "output_type": "stream",
          "name": "stdout",
          "text": [
            "BIGDATA\n",
            "(5, 'BIGDATA', (1+3j))\n"
          ]
        }
      ]
    },
    {
      "cell_type": "code",
      "metadata": {
        "colab": {
          "base_uri": "https://localhost:8080/"
        },
        "id": "1dXAKDw63GI5",
        "outputId": "3f34c46d-17dd-4dc3-b882-5601a2a6c942"
      },
      "source": [
        "b = (5, 6, 7,'BIGDATA')\n",
        "print (b)\n",
        "print(b[1])\n",
        "del[]"
      ],
      "execution_count": null,
      "outputs": [
        {
          "output_type": "stream",
          "name": "stdout",
          "text": [
            "(5, 6, 7, 'BIGDATA')\n",
            "6\n"
          ]
        }
      ]
    },
    {
      "cell_type": "code",
      "metadata": {
        "colab": {
          "base_uri": "https://localhost:8080/"
        },
        "id": "BixMPrrC3Jx5",
        "outputId": "626d469f-497e-407a-ec2f-25ad93742303"
      },
      "source": [
        "b = (5, 6, 7,'BIGDATA')\n",
        "print (b)\n",
        "print(b[2])\n",
        "del[]"
      ],
      "execution_count": null,
      "outputs": [
        {
          "output_type": "stream",
          "name": "stdout",
          "text": [
            "(5, 6, 7, 'BIGDATA')\n",
            "7\n"
          ]
        }
      ]
    },
    {
      "cell_type": "code",
      "metadata": {
        "colab": {
          "base_uri": "https://localhost:8080/"
        },
        "id": "c_m_i10m3Msf",
        "outputId": "70f4e244-3fcb-46e7-a8ce-ba9a9e54e78c"
      },
      "source": [
        "b = (7,'BIGDATA', 1+5j)\n",
        "b"
      ],
      "execution_count": null,
      "outputs": [
        {
          "output_type": "execute_result",
          "data": {
            "text/plain": [
              "(7, 'BIGDATA', (1+5j))"
            ]
          },
          "metadata": {},
          "execution_count": 12
        }
      ]
    },
    {
      "cell_type": "code",
      "metadata": {
        "colab": {
          "base_uri": "https://localhost:8080/"
        },
        "id": "SjY4I6UN3QAJ",
        "outputId": "c06c7283-65e3-46ae-8138-8ddad806fd05"
      },
      "source": [
        "b = (7,'BIGDATA', 1+5j)\n",
        "print(b[1])\n",
        "print(b[0:5])"
      ],
      "execution_count": null,
      "outputs": [
        {
          "output_type": "stream",
          "name": "stdout",
          "text": [
            "BIGDATA\n",
            "(7, 'BIGDATA', (1+5j))\n"
          ]
        }
      ]
    },
    {
      "cell_type": "code",
      "metadata": {
        "colab": {
          "base_uri": "https://localhost:8080/"
        },
        "id": "6RYPPhJP3Sfz",
        "outputId": "a6d78d97-2c72-4610-b08c-4b350fa280ec"
      },
      "source": [
        "b = (7, 8, 9,'BIGDATA')\n",
        "print (b)\n",
        "print(b[1])\n",
        "del[]"
      ],
      "execution_count": null,
      "outputs": [
        {
          "output_type": "stream",
          "name": "stdout",
          "text": [
            "(7, 8, 9, 'BIGDATA')\n",
            "8\n"
          ]
        }
      ]
    },
    {
      "cell_type": "markdown",
      "metadata": {
        "id": "ck22-_sf3k_n"
      },
      "source": [
        "# **Dictionary Python**"
      ]
    },
    {
      "cell_type": "markdown",
      "metadata": {
        "id": "7jiYHT7_3uhR"
      },
      "source": [
        "**Pengertian Dictionary**"
      ]
    },
    {
      "cell_type": "markdown",
      "metadata": {
        "id": "r_U-6xpB3ygU"
      },
      "source": [
        "Dictionary adalah tipe data pada python yang berfungsi untuk menyimpan kumpulan data/nilai dengan pendekatan “key-value”."
      ]
    },
    {
      "cell_type": "markdown",
      "metadata": {
        "id": "Ab0xZIpk31y3"
      },
      "source": [
        "**Sifat Dictionary Item**"
      ]
    },
    {
      "cell_type": "markdown",
      "metadata": {
        "id": "X4AT8JG337AX"
      },
      "source": [
        "Dictionary items memiliki 3 sifat, yaitu:\n",
        "\n",
        "1.   Unordered ( Tidak Berurutan)\n",
        "2.   Changeable ( Dapat Diubah)\n",
        "3.   Unique ( Tidak Bisa Menerima Dua Key yang Sama )"
      ]
    },
    {
      "cell_type": "markdown",
      "metadata": {
        "id": "Dtvfj3qq3_HH"
      },
      "source": [
        "Contoh :"
      ]
    },
    {
      "cell_type": "code",
      "metadata": {
        "colab": {
          "base_uri": "https://localhost:8080/"
        },
        "id": "yYzusuSg4CsY",
        "outputId": "0d51b0c2-ad44-4d04-e047-43fd6c6a5222"
      },
      "source": [
        "artikel = {\n",
        "  \"judul\": \"Menu Masakan Enak\",\n",
        "  \"judul\": \"Menu Masakan Enak Tradisional\"\n",
        "}\n",
        "\n",
        "print(artikel.get(\"judul\"))"
      ],
      "execution_count": null,
      "outputs": [
        {
          "output_type": "stream",
          "name": "stdout",
          "text": [
            "Menu Masakan Enak Tradisional\n"
          ]
        }
      ]
    },
    {
      "cell_type": "markdown",
      "metadata": {
        "id": "LUk5aJBf5a09"
      },
      "source": [
        "**Tipe Data pada Items Dictionary**"
      ]
    },
    {
      "cell_type": "markdown",
      "metadata": {
        "id": "VDddgP035eXg"
      },
      "source": [
        "Selain 3 sifat yang telah disebutkan, item pada dictionary juga bisa menerima berbagai macam tipe data, mulai dari tipe data asli mau pun tipe data terusan seperti objek.\n",
        "\n",
        "Yang artinya, dictionary juga bisa memiliki value berupa dictionary juga."
      ]
    },
    {
      "cell_type": "code",
      "metadata": {
        "id": "enCEETYv4DVR"
      },
      "source": [
        "pertemuan_hari_ini = {\n",
        "  \"judul\": \"Belajar Dictionary Pada Python \",\n",
        "  \"tanggal\": \"22 Oktober 2021\",\n",
        "  \"kategori\": [\n",
        "    \"Python\", \"Python Dasar\"\n",
        "  ],\n",
        "}"
      ],
      "execution_count": null,
      "outputs": []
    },
    {
      "cell_type": "markdown",
      "metadata": {
        "id": "JQP6qsQP5lcD"
      },
      "source": [
        "**Cara Membuat Dictionary**"
      ]
    },
    {
      "cell_type": "code",
      "metadata": {
        "id": "4cAoRAfe5oym"
      },
      "source": [
        "# cara pertama\n",
        "senam = {\n",
        "  \"judul\": \"Senam Poco-Poco\",\n",
        "  \"instruktur\": \"Resti\"\n",
        "}\n",
        "\n",
        "# cara kedua\n",
        "senam = dict(\n",
        "  judul=\"Senam Poco-Poco\",\n",
        "  instruktur=\"Resti\"\n",
        ")"
      ],
      "execution_count": null,
      "outputs": []
    },
    {
      "cell_type": "markdown",
      "metadata": {
        "id": "1ZrWwUn-5sL0"
      },
      "source": [
        "**Cara Mengakses Item pada Dictionary**"
      ]
    },
    {
      "cell_type": "code",
      "metadata": {
        "id": "06Ggp_rs5vSP"
      },
      "source": [
        "dict = {\n",
        "    \"Nama\" : \"Resti Pamuji\",\n",
        "    \"Prodi\": \"Matematika\",\n",
        "    \"NIM\"  : \"1800015071\"\n",
        "    }\n",
        "\n",
        "print ('Nama :', dict.get('Nama'))\n",
        "#atau\n",
        "print ('Prodi :', dict['Prodi'])"
      ],
      "execution_count": null,
      "outputs": []
    },
    {
      "cell_type": "markdown",
      "metadata": {
        "id": "GmS7JtWA5ye3"
      },
      "source": [
        "**Perulangan Untuk Dictionary**"
      ]
    },
    {
      "cell_type": "code",
      "metadata": {
        "id": "ZMSlD3_R51fx"
      },
      "source": [
        "buku = {\n",
        "  'judul': 'Jika Kita Tak Pernah Jadi Apa-Apa ',\n",
        "  'penulis': 'Alvi Syahrin'\n",
        "}\n",
        "for key in buku:\n",
        "  print(key, '->', buku[key])"
      ],
      "execution_count": null,
      "outputs": []
    },
    {
      "cell_type": "markdown",
      "metadata": {
        "id": "HFZgTV_j55qA"
      },
      "source": [
        "Atau bisa juga memanggil fungsi dictionary.items()"
      ]
    },
    {
      "cell_type": "code",
      "metadata": {
        "id": "8SSmR02q5861"
      },
      "source": [
        "for nama_atribut, nilai in buku.items():\n",
        "  print(nama_atribut, '->', nilai)"
      ],
      "execution_count": null,
      "outputs": []
    },
    {
      "cell_type": "markdown",
      "metadata": {
        "id": "DoRnCbKR55kx"
      },
      "source": [
        "**Mengubah Nilai Item**"
      ]
    },
    {
      "cell_type": "code",
      "metadata": {
        "id": "JvwgGspZ6Grh"
      },
      "source": [
        "dict= {'Buah' : 'Pisang' , 'Sayur' : 'Kangkung' , 'Jumlah' : 10 }\n",
        "dict['Bukan Buah'] = 'Kangkung' #Mengubah entri atau value yang sudah ada\n",
        "dict['Buah'] = 'Jeruk' #Menambah entri atau value\n",
        "print(\"dict[Bukan Buah] =\", dict['Bukan Buah']);\n",
        "print(\"dict[Buah] =\", dict['Buah']);"
      ],
      "execution_count": null,
      "outputs": []
    },
    {
      "cell_type": "markdown",
      "metadata": {
        "id": "Yco5eOn66Jgn"
      },
      "source": [
        "**Menambah Item**"
      ]
    },
    {
      "cell_type": "code",
      "metadata": {
        "id": "il96Wi_Z6Mzs"
      },
      "source": [
        "thisdict = {'Nama': 'Zaza', 'Umur': 17}\n",
        "\n",
        "thisdict['Hobi'] = \"Menyanyi\" # Menambah entri baru pada thisdict\n",
        "\n",
        "print (thisdict)"
      ],
      "execution_count": null,
      "outputs": []
    },
    {
      "cell_type": "code",
      "metadata": {
        "id": "b7PXwp8a6Qq2"
      },
      "source": [
        "thisdict = {'Nama': 'Zaza', 'Umur': 17}\n",
        "\n",
        "thisdict.update ({\"Hobi\": \"Menyanyi\"}) # Menambah entri baru pada thisdict\n",
        "\n",
        "print (thisdict)"
      ],
      "execution_count": null,
      "outputs": []
    },
    {
      "cell_type": "markdown",
      "metadata": {
        "id": "5ndVMxJh6UFj"
      },
      "source": [
        "**Menghapus Item**"
      ]
    },
    {
      "cell_type": "markdown",
      "metadata": {
        "id": "p2_RNeLg6Ww5"
      },
      "source": [
        "Untuk menghapus item yang ada pada Dictionary, kita bisa menggunakan perintah del, method pop(), method popitem(), dan method clear().\n",
        "\n",
        "1. Fungsi del adalah fungsi untuk menghapus suatu variabel dari memori.\n",
        "\n",
        "2. Method pop() adalah method yang berfungsi untuk mengeluarkan item yang diinginkan dari dictionary.\n",
        "\n",
        "3. Method popitem() adalah method yang digunakan untuk menghapus item yang terakhir.\n",
        "\n",
        "4. Method clear() adalah method yang digunakan untuk mengosongkan dictionary."
      ]
    },
    {
      "cell_type": "code",
      "metadata": {
        "id": "04hJvTbF6a-K"
      },
      "source": [
        "# Menghapus item menggunakan del\n",
        "mahasiswa = {\n",
        "  'nama': 'Irva Rani',\n",
        "  'usia': 18,\n",
        "  'asal': 'Indonesia'\n",
        "}\n",
        "\n",
        "del mahasiswa[\"usia\"]\n",
        "\n",
        "print(mahasiswa)"
      ],
      "execution_count": null,
      "outputs": []
    },
    {
      "cell_type": "code",
      "metadata": {
        "id": "VVanp3m86d_t"
      },
      "source": [
        "# Menghapus item menggunakan method pop()\n",
        "mahasiswa = {\n",
        "  'nama': 'Irva Rani',\n",
        "  'usia': 18,\n",
        "  'asal': 'Indonesia'\n",
        "}\n",
        "\n",
        "mahasiswa.pop(\"asal\")\n",
        "\n",
        "print(mahasiswa)"
      ],
      "execution_count": null,
      "outputs": []
    },
    {
      "cell_type": "code",
      "metadata": {
        "id": "s65mC8Q26gkX"
      },
      "source": [
        "#Menghapus item menggunakan method popitem()\n",
        "mahasiswa = {\n",
        "  'nama': 'Irva Rani',\n",
        "  'usia': 18,\n",
        "  'asal': 'Indonesia'\n",
        "}\n",
        "\n",
        "mahasiswa.popitem()\n",
        "\n",
        "print(mahasiswa)"
      ],
      "execution_count": null,
      "outputs": []
    },
    {
      "cell_type": "code",
      "metadata": {
        "id": "P5gpRSbX6jUw"
      },
      "source": [
        "#Menghapus item menggunakan method clear()\n",
        "mahasiswa = {\n",
        "  'nama': 'Irva Rani',\n",
        "  'usia': 18,\n",
        "  'asal': 'Indonesia'\n",
        "}\n",
        "\n",
        "mahasiswa.clear()\n",
        "\n",
        "print(mahasiswa)"
      ],
      "execution_count": null,
      "outputs": []
    },
    {
      "cell_type": "markdown",
      "metadata": {
        "id": "y2eKsT-T6mjw"
      },
      "source": [
        "**Menyalin Dictionary**"
      ]
    },
    {
      "cell_type": "markdown",
      "metadata": {
        "id": "u8tly4gM6sEa"
      },
      "source": [
        "Untuk menyalin dictionary bisa menggunakan method copy()."
      ]
    },
    {
      "cell_type": "code",
      "metadata": {
        "id": "MH8stm346vZq"
      },
      "source": [
        "mahasiswa = {\n",
        "  'nama': 'Irva Rani',\n",
        "  'usia': 18,\n",
        "  'asal': 'Indonesia'\n",
        "}\n",
        "\n",
        "myname=mahasiswa.copy()\n",
        "\n",
        "print(myname)"
      ],
      "execution_count": null,
      "outputs": []
    },
    {
      "cell_type": "markdown",
      "metadata": {
        "id": "FeV7RVxr6ztd"
      },
      "source": [
        "**Nested Dictionary**"
      ]
    },
    {
      "cell_type": "markdown",
      "metadata": {
        "id": "SgQ7DWXY63nH"
      },
      "source": [
        "Nested Dictionary atau kamus bertingkat merupakan suatu kamus yang mana kamus tersebut bisa diisi dengan satu atau lebih kamus di dalamnya."
      ]
    },
    {
      "cell_type": "code",
      "metadata": {
        "id": "PmsRQpSl67J4"
      },
      "source": [
        "myfamily = {\n",
        "  \"anak1\" : {\n",
        "    \"nama\" : \"Resti\",\n",
        "    \"tahun\" : 2004\n",
        "  },\n",
        "  \"anak2\" : {\n",
        "    \"nama\" : \"Ferna\",\n",
        "    \"tahun\" : 2007\n",
        "  },\n",
        "  \"anak3\" : {\n",
        "    \"nama\" : \"Mirza\",\n",
        "    \"tahun\" : 2011\n",
        "  }\n",
        "}\n",
        "\n",
        "print(myfamily)"
      ],
      "execution_count": null,
      "outputs": []
    },
    {
      "cell_type": "markdown",
      "metadata": {
        "id": "Gm8MGmRA6-hF"
      },
      "source": [
        "atau membuat suatu Kamus yang akan berisi 3 kamus lainnya"
      ]
    },
    {
      "cell_type": "code",
      "metadata": {
        "id": "fIstp_GQ7B5r"
      },
      "source": [
        "child1 = {\n",
        "  \"name\" : \"Emil\",\n",
        "  \"year\" : 2004\n",
        "}\n",
        "child2 = {\n",
        "  \"name\" : \"Tobias\",\n",
        "  \"year\" : 2007\n",
        "}\n",
        "child3 = {\n",
        "  \"name\" : \"Linus\",\n",
        "  \"year\" : 2011\n",
        "}\n",
        "\n",
        "myfamily = {\n",
        "  \"child1\" : child1,\n",
        "  \"child2\" : child2,\n",
        "  \"child3\" : child3\n",
        "}\n",
        "print(myfamily)"
      ],
      "execution_count": null,
      "outputs": []
    },
    {
      "cell_type": "markdown",
      "metadata": {
        "id": "PXAayC1M6-dN"
      },
      "source": [
        "**Mengecek Keanggotaan Suatu Key**"
      ]
    },
    {
      "cell_type": "markdown",
      "metadata": {
        "id": "S_E-VU837JG4"
      },
      "source": [
        "Untuk menentukan apakah kunci tertentu ada dalam Dictionary gunakan in sebagai kunci"
      ]
    },
    {
      "cell_type": "code",
      "metadata": {
        "id": "poP4bC-N7MaC"
      },
      "source": [
        "anak = {\n",
        "  'anak1': 'Resti',\n",
        "  'anak2': 'Ferna',\n",
        "  'anak3': 'Mirza'\n",
        "}\n",
        "if \"anak2\" in anak :\n",
        "  print(\"Yes, 'anak2' adalah salah satu dari kunci dalam distict dictionary\")"
      ],
      "execution_count": null,
      "outputs": []
    },
    {
      "cell_type": "markdown",
      "metadata": {
        "id": "INhcjO4Y7PyX"
      },
      "source": [
        "**Panjang atau Banyak Key Pada Dictionary**"
      ]
    },
    {
      "cell_type": "markdown",
      "metadata": {
        "id": "-u1iWlrP7Tlm"
      },
      "source": [
        "kita bisa juga menghitung jumlah key yang terdapat pada sebuah dictionary dengan fungsi len()."
      ]
    },
    {
      "cell_type": "code",
      "metadata": {
        "id": "d6btRL1C7W80"
      },
      "source": [
        "sekolah = {\n",
        "  'nama': 'Sekolah Dasar Negeri Surabaya 1',\n",
        "  'jenjang': 'Sekolah Dasar',\n",
        "  'akreditasi': 'A'\n",
        "}\n",
        "\n",
        "print(\n",
        "  \"Jumlah atribut variabel sekolah adalah:\",\n",
        "  len(sekolah)\n",
        ")"
      ],
      "execution_count": null,
      "outputs": []
    },
    {
      "cell_type": "markdown",
      "metadata": {
        "id": "1w97VfFN7rd2"
      },
      "source": [
        "# **Operator Matematika**"
      ]
    },
    {
      "cell_type": "markdown",
      "metadata": {
        "id": "3uoS25Gv7uqe"
      },
      "source": [
        "**Operator Aritmatika**"
      ]
    },
    {
      "cell_type": "markdown",
      "metadata": {
        "id": "qF7fJs9q76qW"
      },
      "source": [
        "![aritmatik.png](data:image/png;base64,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)"
      ]
    },
    {
      "cell_type": "code",
      "metadata": {
        "id": "qg1ggNpP8A0v"
      },
      "source": [
        "# Ambil input untuk mengisi nilai\n",
        "a = int(input(\"Inputkan nilai a: \"))\n",
        "b = int(input(\"Inputkan nilai b: \"))\n",
        "# Menggunakan operator penjumlahan\n",
        "c = a + b\n",
        "print(\"Hasil %d + %d = %d\" % (a,b,c))\n",
        "\n",
        "# Operator Pengurangan\n",
        "c = a - b\n",
        "print(\"Hasil %d - %d = %d\" % (a,b,c))\n",
        "\n",
        "# Operator Perkalian\n",
        "c = a * b\n",
        "print(\"Hasil %d * %d = %d\" % (a,b,c))\n",
        "\n",
        "# Operator Pembagian\n",
        "c = a / b\n",
        "print(\"Hasil %d / %d = %d\" % (a,b,c))\n",
        "\n",
        "# Operator Sisa Bagi\n",
        "c = a % b\n",
        "print (\"Hasil %d %% %d = %d\" % (a,b,c))\n",
        "\n",
        "# Operator Pangkat\n",
        "c = a ** b\n",
        "print(\"Hasil %d ** %d = %d\" % (a,b,c))\n",
        "\n",
        "# Operator Pembagian Bulat\n",
        "c = a // b\n",
        "print(\"Hasil %d // %d = %d\" % (a,b,c))"
      ],
      "execution_count": null,
      "outputs": []
    },
    {
      "cell_type": "markdown",
      "metadata": {
        "id": "lmWwvgst8EWu"
      },
      "source": [
        "**Operator Penugasan**"
      ]
    },
    {
      "cell_type": "markdown",
      "metadata": {
        "id": "ek7AHI-98Hnr"
      },
      "source": [
        "Operator penugasan digunakan untuk memberikan atau memodifikasi nilai ke dalam sebuah variabel"
      ]
    },
    {
      "cell_type": "markdown",
      "metadata": {
        "id": "rreZTpCT8NFW"
      },
      "source": [
        "![penugasan.png](data:image/png;base64,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)"
      ]
    },
    {
      "cell_type": "code",
      "metadata": {
        "id": "IaI_n9ev8Rn-"
      },
      "source": [
        "# Ambil input untuk mengisi nilai\n",
        "a = int(input(\"Inputkan nilai a: \"))\n",
        "\n",
        "# tambahkan dengan 2\n",
        "a += 2\n",
        "print (\"Nilai a adalah %d\" % a)\n",
        "# kurangi 3\n",
        "a -= 3\n",
        "print (\"Nilai a adalah %d\" % a)\n",
        "# kali 10\n",
        "a *= 10\n",
        "print (\"Nilai a adalah %d\" % a)\n",
        "# bagi dengan 4\n",
        "a /= 4\n",
        "print (\"Nilai a adalah %d\" % a)\n",
        "# pangkat 10\n",
        "a **= 10\n",
        "print (\"Nilai a adalah %d\" % a)\n",
        "# Berapakah nilai a sekarang?\n",
        "print (\"Nilai a sekarang adalah %d\" % a)"
      ],
      "execution_count": null,
      "outputs": []
    },
    {
      "cell_type": "markdown",
      "metadata": {
        "id": "4XIVNaCM8VFM"
      },
      "source": [
        "**Operator Pembanding**"
      ]
    },
    {
      "cell_type": "markdown",
      "metadata": {
        "id": "cfg7cyL58Yiv"
      },
      "source": [
        "Operator perbandingan (comparison operators) digunakan untuk membandingkan suatu nilai dari masing-masing operan. Operator ini digunakan untuk membandingkan dua buah nilai. Operator ini juga dikenal dengan operator relasi dan sering digunakan untuk membuat sebuah logika atau kondisi"
      ]
    },
    {
      "cell_type": "markdown",
      "metadata": {
        "id": "8E6-FaCu8j_2"
      },
      "source": [
        "![pembanding.png](data:image/png;base64,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)"
      ]
    },
    {
      "cell_type": "code",
      "metadata": {
        "id": "1vhnFaGY8oOO"
      },
      "source": [
        "a = int(input(\"Inputkan nilai a: \"))\n",
        "b = int(input(\"Inputkan nilai b: \"))\n",
        "\n",
        "# apakah a sama dengan b?\n",
        "c = a == b\n",
        "print(\"Apakah %d == %d: %r\" % (a,b,c))\n",
        "\n",
        "# apakah a < b?\n",
        "c = a < b\n",
        "print(\"Apakah %d < %d: %r\" % (a,b,c))\n",
        "# apakah a > b?\n",
        "c = a > b\n",
        "print(\"Apakah %d > %d: %r\" % (a,b,c))\n",
        "\n",
        "# apakah a <= b?\n",
        "c = a <= b\n",
        "print(\"Apakah %d <= %d: %r\" % (a,b,c))\n",
        "\n",
        "# apakah a >= b?\n",
        "c = a >= b\n",
        "print(\"Apakah %d >= %d: %r\" % (a,b,c))\n",
        "\n",
        "# apakah a != b?\n",
        "c = a != b\n",
        "print (\"Apakah %d != %d: %r\" % (a,b,c))"
      ],
      "execution_count": null,
      "outputs": []
    },
    {
      "cell_type": "markdown",
      "metadata": {
        "id": "C5x9bW2h8rdr"
      },
      "source": [
        "**Operator Logika**"
      ]
    },
    {
      "cell_type": "markdown",
      "metadata": {
        "id": "m86O-1fX8uyb"
      },
      "source": [
        "Operator logika digunakan untuk membuat operasi logika, seperti logika AND, OR, dan NOT."
      ]
    },
    {
      "cell_type": "markdown",
      "metadata": {
        "id": "D2NsxLP88zY2"
      },
      "source": [
        "![logika.png](data:image/png;base64,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)"
      ]
    },
    {
      "cell_type": "code",
      "metadata": {
        "id": "hdcDmibt83Se"
      },
      "source": [
        "a = True\n",
        "b = False\n",
        "\n",
        "# Logika AND\n",
        "c = a and b\n",
        "print (\"%r and %r = %r\" % (a,b,c))\n",
        "\n",
        "# Logika OR\n",
        "c = a or b\n",
        "print (\"%r or %r = %r\" % (a,b,c))\n",
        "\n",
        "# Logika Not\n",
        "c = not a\n",
        "print (\"not %r  = %r\" % (a,c))"
      ],
      "execution_count": null,
      "outputs": []
    }
  ]
}