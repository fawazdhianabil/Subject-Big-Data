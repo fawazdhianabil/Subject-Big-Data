{
  "nbformat": 4,
  "nbformat_minor": 0,
  "metadata": {
    "colab": {
      "name": "Big Data Kel 3.ipynb",
      "provenance": [],
      "collapsed_sections": []
    },
    "kernelspec": {
      "name": "python3",
      "display_name": "Python 3"
    },
    "language_info": {
      "name": "python"
    }
  },
  "cells": [
    {
      "cell_type": "markdown",
      "metadata": {
        "id": "OMaqLG0bX_L1"
      },
      "source": [
        "#**Branching**#"
      ]
    },
    {
      "cell_type": "markdown",
      "metadata": {
        "id": "6XdHn-IcSYw3"
      },
      "source": [
        "##**IF Statement**##\n",
        "\n",
        "Percabangan if digunakan saat terdapat satu pilihan keputusan.\n",
        "\n",
        "Kondisi Python dan pernyataan If :\n",
        "\n",
        "Python mendukung kondisi logis yang biasa dari matematika:\n",
        "\n",
        "\n",
        "*   Sama dengan: a == b\n",
        "*   Tidak Sama dengan: a != b\n",
        "\n",
        "*   Kurang dari: a < b\n",
        "*   Kurang dari atau sama dengan: a <= b\n",
        "\n",
        "\n",
        "*   Lebih besar dari: a > b\n",
        "*   Lebih besar dari atau sama dengan: a >= b\n",
        "\n",
        "Kondisi ini dapat digunakan dalam beberapa cara, paling umum dalam \"pernyataan if\" dan loop.\n",
        "\n",
        "Sebuah \"pernyataan if\" ditulis dengan menggunakan kata kunci if ."
      ]
    },
    {
      "cell_type": "code",
      "metadata": {
        "id": "dzqm4KEpTBFc",
        "colab": {
          "base_uri": "https://localhost:8080/"
        },
        "outputId": "47c29a56-125c-473f-e036-5185e44b9494"
      },
      "source": [
        "a = 22\n",
        "b = 200\n",
        "if b > a:\n",
        "  print(\"b lebih besar dari a\")"
      ],
      "execution_count": null,
      "outputs": [
        {
          "output_type": "stream",
          "name": "stdout",
          "text": [
            "b lebih besar dari a\n"
          ]
        }
      ]
    },
    {
      "cell_type": "markdown",
      "metadata": {
        "id": "T_52CD0bTEFX"
      },
      "source": [
        "Dalam contoh ini kita menggunakan dua variabel, a dan b , yang digunakan sebagai bagian dari pernyataan if untuk menguji apakah b lebih besar dari a . Karena a adalah 22 , dan b adalah 200 , kita tahu bahwa 200 lebih besar dari 22, jadi kita mencetak ke layar bahwa \"b lebih besar dari a\"."
      ]
    },
    {
      "cell_type": "markdown",
      "metadata": {
        "id": "JvfepSv0Uh9I"
      },
      "source": [
        "###Indentation\n",
        "\n",
        "Python bergantung pada identation (spasi putih di awal baris) untuk menentukan ruang lingkup dalam kode. Penulisan blok If, harus diberikan indentasi tab atau spasi 2x.\n",
        "\n",
        "Jika pernyataan, tanpa indentation (akan menimbulkan kesalahan):"
      ]
    },
    {
      "cell_type": "code",
      "metadata": {
        "id": "OKENo-Y1UtHu",
        "colab": {
          "base_uri": "https://localhost:8080/"
        },
        "outputId": "338ae39e-85ab-4894-8d5f-be5dc5be72a9"
      },
      "source": [
        "a = 22\n",
        "b = 200\n",
        "if b > a:\n",
        " print(\"b lebih besar dari a\")"
      ],
      "execution_count": null,
      "outputs": [
        {
          "output_type": "stream",
          "name": "stdout",
          "text": [
            "b lebih besar dari a\n"
          ]
        }
      ]
    },
    {
      "cell_type": "markdown",
      "metadata": {
        "id": "4hbvnFa0VN6E"
      },
      "source": [
        "###Short Hand If\n",
        "\n",
        "Jika hanya memiliki satu pernyataan untuk dijalankan, maka dapat meletakkannya di baris yang sama dengan pernyataan if."
      ]
    },
    {
      "cell_type": "code",
      "metadata": {
        "id": "IDgIgQK1VOth",
        "colab": {
          "base_uri": "https://localhost:8080/"
        },
        "outputId": "e066e4a2-aceb-422f-d11b-339c213ce56c"
      },
      "source": [
        "a = 200\n",
        "b = 22\n",
        "if a > b: print(\"a is greater than b\")"
      ],
      "execution_count": null,
      "outputs": [
        {
          "output_type": "stream",
          "name": "stdout",
          "text": [
            "a is greater than b\n"
          ]
        }
      ]
    },
    {
      "cell_type": "markdown",
      "metadata": {
        "id": "7PffUnlAVVgR"
      },
      "source": [
        "###And\n",
        "\n",
        "Kata kunci and adalah operator logika, dan digunakan untuk menggabungkan pernyataan bersyarat:\n"
      ]
    },
    {
      "cell_type": "code",
      "metadata": {
        "colab": {
          "base_uri": "https://localhost:8080/"
        },
        "id": "d0WZ8tuLVWJJ",
        "outputId": "3ad022bd-55cb-42ca-d4d3-adc242773b36"
      },
      "source": [
        "a = 200\n",
        "b = 33\n",
        "c = 500\n",
        "if a > b and c > a:\n",
        "  print(\"kondisi tersebut benar\")"
      ],
      "execution_count": null,
      "outputs": [
        {
          "output_type": "stream",
          "name": "stdout",
          "text": [
            "kondisi tersebut benar\n"
          ]
        }
      ]
    },
    {
      "cell_type": "markdown",
      "metadata": {
        "id": "yxIYswOBVa1U"
      },
      "source": [
        "###OR\n",
        "\n",
        "Kata orkunci adalah operator logika, dan digunakan untuk menggabungkan pernyataan bersyarat:"
      ]
    },
    {
      "cell_type": "code",
      "metadata": {
        "colab": {
          "base_uri": "https://localhost:8080/"
        },
        "id": "ugx9gEujVbi3",
        "outputId": "ed83be67-14d2-46e8-a8c0-aa6fc1cb5faa"
      },
      "source": [
        "a = 200\n",
        "b = 33\n",
        "c = 500\n",
        "if a > b or a > c:\n",
        "  print(\"Salah satu kondisi tersebut benar\")"
      ],
      "execution_count": null,
      "outputs": [
        {
          "output_type": "stream",
          "name": "stdout",
          "text": [
            "Salah satu kondisi tersebut benar\n"
          ]
        }
      ]
    },
    {
      "cell_type": "markdown",
      "metadata": {
        "id": "EqZtnIU1VgaS"
      },
      "source": [
        "##**If Else Statement**##\n",
        "\n",
        "Percabangan If/Else digunakan saat terdapat dua pilihan keputusan.\n",
        "\n",
        "Kata kunci else menangkap apa pun yang tidak ditangkap oleh kondisi sebelumnya.\n",
        "\n",
        "Contoh:"
      ]
    },
    {
      "cell_type": "code",
      "metadata": {
        "colab": {
          "base_uri": "https://localhost:8080/"
        },
        "id": "nG7RAIVjVmdo",
        "outputId": "008dc199-a84a-43ad-c8f7-44001d297bbf"
      },
      "source": [
        "a = 200\n",
        "b = 33\n",
        "if b > a:\n",
        "  print(\"b is greater than a\")\n",
        "else:\n",
        "  print(\"b is not greater than a\")"
      ],
      "execution_count": null,
      "outputs": [
        {
          "output_type": "stream",
          "name": "stdout",
          "text": [
            "b is not greater than a\n"
          ]
        }
      ]
    },
    {
      "cell_type": "markdown",
      "metadata": {
        "id": "tO0gLrPBVxnD"
      },
      "source": [
        "###Short Hand If ... Else\n",
        "\n",
        "Jika kita hanya memiliki satu pernyataan untuk dijalankan, satu untuk jika, dan satu untuk yang lain, kita dapat meletakkan semuanya di baris yang sama:"
      ]
    },
    {
      "cell_type": "code",
      "metadata": {
        "colab": {
          "base_uri": "https://localhost:8080/"
        },
        "id": "zf8HegLYVyKK",
        "outputId": "c55858ba-fdba-4dc7-c15e-dce0e4477cfc"
      },
      "source": [
        "a = 2\n",
        "b = 330\n",
        "print(\"A\") if a > b else print(\"B\")"
      ],
      "execution_count": null,
      "outputs": [
        {
          "output_type": "stream",
          "name": "stdout",
          "text": [
            "B\n"
          ]
        }
      ]
    },
    {
      "cell_type": "markdown",
      "metadata": {
        "id": "kciPySibV0gW"
      },
      "source": [
        "Berikut contoh penggunaan if/else:"
      ]
    },
    {
      "cell_type": "code",
      "metadata": {
        "colab": {
          "base_uri": "https://localhost:8080/"
        },
        "id": "Y3YyIZAQV2PN",
        "outputId": "392e9295-5822-447a-912d-96f7612fcd72"
      },
      "source": [
        "# cek umur\n",
        "umur = int(input('Masukkan umur Anda: '))\n",
        "\n",
        "if umur >= 18:\n",
        "  print(\"kamu boleh membuat SIM\")\n",
        "else:\n",
        "  print(\"kamu belum boleh membuat SIM\")"
      ],
      "execution_count": null,
      "outputs": [
        {
          "output_type": "stream",
          "name": "stdout",
          "text": [
            "Masukkan umur Anda: 5\n",
            "kamu belum boleh membuat SIM\n"
          ]
        }
      ]
    },
    {
      "cell_type": "markdown",
      "metadata": {
        "id": "pBmBpmYgafoc"
      },
      "source": [
        "##**If Elif Statement**##\n",
        "\n",
        "if elif merupakan lanjutan/percabangan logika dari kondisi if. Dengan elif kita bisa membuat kode program yang akan menyeleksi beberapa kemungkinan yang bisa terjadi. Hampir sama dengan kondisi else, bedanya kondisi elif bisa banyak dan bisa hanya satu."
      ]
    },
    {
      "cell_type": "code",
      "metadata": {
        "colab": {
          "base_uri": "https://localhost:8080/"
        },
        "id": "kP_BUXqoao9F",
        "outputId": "0f66d46e-a91c-492d-d843-35b234694fa7"
      },
      "source": [
        "a = 33\n",
        "b = 33\n",
        "if b > a:\n",
        "  print (\"b lebih besar dari a\")\n",
        "elif a == b :\n",
        "  print (\"a dan b sama\")"
      ],
      "execution_count": null,
      "outputs": [
        {
          "output_type": "stream",
          "name": "stdout",
          "text": [
            "a dan b sama\n"
          ]
        }
      ]
    },
    {
      "cell_type": "markdown",
      "metadata": {
        "id": "0NMW4WZQaw2a"
      },
      "source": [
        "Dalam contoh ini a sama dengan b, jadi kondisi pertama tidak benar , tetapi kondisi elif benar sehingga dapat dicetak ke layar bahwa \"a dan b sama\""
      ]
    },
    {
      "cell_type": "code",
      "metadata": {
        "colab": {
          "base_uri": "https://localhost:8080/"
        },
        "id": "M65vmt1Ra4lr",
        "outputId": "cdf2f0b6-5e41-48f6-e79d-255b03399ccf"
      },
      "source": [
        "a = 200\n",
        "b = 33\n",
        "if b > a:\n",
        "  print (\"b lebih besar dari a\")\n",
        "elif a == b:\n",
        "  print (\"a dan b sama\")\n",
        "else:\n",
        "  print (\"a lebih besar dari b\")"
      ],
      "execution_count": null,
      "outputs": [
        {
          "output_type": "stream",
          "name": "stdout",
          "text": [
            "a lebih besar dari b\n"
          ]
        }
      ]
    },
    {
      "cell_type": "markdown",
      "metadata": {
        "id": "CiVmSe3la9MK"
      },
      "source": [
        "Dalam kondisi a lebih besar dari b, jadi kondisi pertama tidak benar, juga kondisi elif tidak benar, sehingga pergi ke kondisi lain dan mencetak layar bahwa \"a lebih besar dari b\""
      ]
    },
    {
      "cell_type": "markdown",
      "metadata": {
        "id": "S3xKSTCNa9tW"
      },
      "source": [
        "##**Nesting If**##"
      ]
    },
    {
      "cell_type": "markdown",
      "metadata": {
        "id": "IBaMyniRbL3l"
      },
      "source": [
        "Nesting If merupakan if didalam if. Bila kondisi pertama terpenuhi, maka kondisi didalamnya akan diperiksa dan bila kondisi didalam kondisi pertama terpenuhi, maka kode akan dieksekusi."
      ]
    },
    {
      "cell_type": "code",
      "metadata": {
        "colab": {
          "base_uri": "https://localhost:8080/"
        },
        "id": "-2lRg-IubOcC",
        "outputId": "961d7fc8-5dc3-45ff-cd51-770fcae45453"
      },
      "source": [
        "x = 41\n",
        "\n",
        "if x > 10: \n",
        "  print ( \"Diatas sepuluh,\" )\n",
        "  if x > 20 :\n",
        "    print ( \"dan juga diatas 20!\" )\n",
        "  else: \n",
        "      print ( \"tetapi tidak lebih dari 20.\" )"
      ],
      "execution_count": null,
      "outputs": [
        {
          "output_type": "stream",
          "name": "stdout",
          "text": [
            "Diatas sepuluh,\n",
            "dan juga diatas 20!\n"
          ]
        }
      ]
    },
    {
      "cell_type": "markdown",
      "metadata": {
        "id": "xmC6jps0Y3jL"
      },
      "source": [
        "#**Looping**#"
      ]
    },
    {
      "cell_type": "markdown",
      "metadata": {
        "id": "bpLzi6Tscfen"
      },
      "source": [
        "##**For Loop**##\n",
        "\n",
        "Perulangan for digunakan dalam kasus di mana Anda perlu mengeksekusi beberapa bagian kode sampai kondisi yang diberikan terpenuhi. Perulangan for juga disebut sebagai perulangan yang telah diuji. Lebih baik menggunakan for loop jika jumlah iterasi diketahui sebelumnya.\n",
        "Ini seperti kata kunci for dalam bahasa pemrograman lain, dan bekerja lebih seperti metode iterator seperti yang ditemukan dalam bahasa pemrograman berorientasi objek lainnya.\n",
        "\n",
        "Aturan penulisan :"
      ]
    },
    {
      "cell_type": "code",
      "metadata": {
        "id": "UEDzro4NclZ4"
      },
      "source": [
        "for item in items:\n",
        "  eksekusi perintah"
      ],
      "execution_count": null,
      "outputs": []
    },
    {
      "cell_type": "markdown",
      "metadata": {
        "id": "po3YXSBrcvej"
      },
      "source": [
        "contoh sederhana string:"
      ]
    },
    {
      "cell_type": "code",
      "metadata": {
        "colab": {
          "base_uri": "https://localhost:8080/"
        },
        "id": "-H_PJg-Hcw-l",
        "outputId": "380091f0-4196-436b-8987-ad2a51c52e9b"
      },
      "source": [
        "for a in 'saya suka makan':\n",
        "  print(a)"
      ],
      "execution_count": null,
      "outputs": [
        {
          "output_type": "stream",
          "name": "stdout",
          "text": [
            "s\n",
            "a\n",
            "y\n",
            "a\n",
            " \n",
            "s\n",
            "u\n",
            "k\n",
            "a\n",
            " \n",
            "m\n",
            "a\n",
            "k\n",
            "a\n",
            "n\n"
          ]
        }
      ]
    },
    {
      "cell_type": "markdown",
      "metadata": {
        "id": "EceKDq8Kc4cy"
      },
      "source": [
        "contoh iterasi list :"
      ]
    },
    {
      "cell_type": "code",
      "metadata": {
        "colab": {
          "base_uri": "https://localhost:8080/"
        },
        "id": "hGJIlePYc3Bq",
        "outputId": "1db24300-8680-47a8-8f3e-d62860a9a851"
      },
      "source": [
        "angka = [1,2,3,4,5,6,7,8]\n",
        "\n",
        "for a in angka:\n",
        "  print(a)"
      ],
      "execution_count": null,
      "outputs": [
        {
          "output_type": "stream",
          "name": "stdout",
          "text": [
            "1\n",
            "2\n",
            "3\n",
            "4\n",
            "5\n",
            "6\n",
            "7\n",
            "8\n"
          ]
        }
      ]
    },
    {
      "cell_type": "markdown",
      "metadata": {
        "id": "xRYD4-W3c_Jc"
      },
      "source": [
        "for loop juga bisa untuk mencari hasil penjumlahan tepat pada iterator itu berada.\n",
        "contoh :\n"
      ]
    },
    {
      "cell_type": "code",
      "metadata": {
        "colab": {
          "base_uri": "https://localhost:8080/"
        },
        "id": "BLdsEvJkdBTJ",
        "outputId": "adef72be-924b-498f-e3b8-3bce85c18deb"
      },
      "source": [
        "jumlah = 0\n",
        "\n",
        "for a in angka:\n",
        "  jumlah = jumlah + a\n",
        "  print('hasil penjumlahan pada iterator ke-{} adalah {}'.format(a,jumlah))"
      ],
      "execution_count": null,
      "outputs": [
        {
          "output_type": "stream",
          "name": "stdout",
          "text": [
            "hasil penjumlahan pada iterator ke-1 adalah 1\n",
            "hasil penjumlahan pada iterator ke-2 adalah 3\n",
            "hasil penjumlahan pada iterator ke-3 adalah 6\n",
            "hasil penjumlahan pada iterator ke-4 adalah 10\n",
            "hasil penjumlahan pada iterator ke-5 adalah 15\n",
            "hasil penjumlahan pada iterator ke-6 adalah 21\n",
            "hasil penjumlahan pada iterator ke-7 adalah 28\n",
            "hasil penjumlahan pada iterator ke-8 adalah 36\n"
          ]
        }
      ]
    },
    {
      "cell_type": "markdown",
      "metadata": {
        "id": "2heP1kaLdNES"
      },
      "source": [
        "###for loop dengan conditional"
      ]
    },
    {
      "cell_type": "code",
      "metadata": {
        "colab": {
          "base_uri": "https://localhost:8080/"
        },
        "id": "YpZmxJwpdIUM",
        "outputId": "745fbc2c-5ae3-49fe-ab87-fd182e11ae2a"
      },
      "source": [
        "for item in 'saya sedang lapar':\n",
        "  if (item == 'a'):\n",
        "    print('selamat ya buat A')"
      ],
      "execution_count": null,
      "outputs": [
        {
          "output_type": "stream",
          "name": "stdout",
          "text": [
            "selamat ya buat A\n",
            "selamat ya buat A\n",
            "selamat ya buat A\n",
            "selamat ya buat A\n",
            "selamat ya buat A\n"
          ]
        }
      ]
    },
    {
      "cell_type": "code",
      "metadata": {
        "colab": {
          "base_uri": "https://localhost:8080/"
        },
        "id": "BGDasflCdUfj",
        "outputId": "420d6bad-0ce8-4fad-eb65-fa5edb11eaeb"
      },
      "source": [
        "jumlah = 0\n",
        "for item in 'saya sedang lapar':\n",
        "  jumlah += 1\n",
        "  if (item == 'a'):\n",
        "    print('selamat ya buat A', jumlah)"
      ],
      "execution_count": null,
      "outputs": [
        {
          "output_type": "stream",
          "name": "stdout",
          "text": [
            "selamat ya buat A 2\n",
            "selamat ya buat A 4\n",
            "selamat ya buat A 9\n",
            "selamat ya buat A 14\n",
            "selamat ya buat A 16\n"
          ]
        }
      ]
    },
    {
      "cell_type": "markdown",
      "metadata": {
        "id": "xQUmDo9yda7z"
      },
      "source": [
        "for loop dengan tuple dan list multiple items"
      ]
    },
    {
      "cell_type": "markdown",
      "metadata": {
        "id": "uMlTJIipdbeP"
      },
      "source": [
        "contoh yang tuple:"
      ]
    },
    {
      "cell_type": "code",
      "metadata": {
        "colab": {
          "base_uri": "https://localhost:8080/"
        },
        "id": "Aqdds_39ddgY",
        "outputId": "29a81ee2-9719-408f-854a-cc578dc211bc"
      },
      "source": [
        "lokk1 = ((2,3),(4,5),(6,7))\n",
        "\n",
        "for item in lokk1:\n",
        "  print(item)"
      ],
      "execution_count": null,
      "outputs": [
        {
          "output_type": "stream",
          "name": "stdout",
          "text": [
            "(2, 3)\n",
            "(4, 5)\n",
            "(6, 7)\n"
          ]
        }
      ]
    },
    {
      "cell_type": "markdown",
      "metadata": {
        "id": "PI13VDLjdi3V"
      },
      "source": [
        "bisa juga melakukan tuple unpacking, seperti pasangan angka diatas bissa di pecah"
      ]
    },
    {
      "cell_type": "code",
      "metadata": {
        "colab": {
          "base_uri": "https://localhost:8080/"
        },
        "id": "lNRUFDVndhMT",
        "outputId": "6ced6b69-abb1-48d3-af51-8761d7959277"
      },
      "source": [
        "for a,b in lokk1:\n",
        "  print (a,b)"
      ],
      "execution_count": null,
      "outputs": [
        {
          "output_type": "stream",
          "name": "stdout",
          "text": [
            "2 3\n",
            "4 5\n",
            "6 7\n"
          ]
        }
      ]
    },
    {
      "cell_type": "markdown",
      "metadata": {
        "id": "Uvsmff3Qdp50"
      },
      "source": [
        "contoh yang list :"
      ]
    },
    {
      "cell_type": "code",
      "metadata": {
        "colab": {
          "base_uri": "https://localhost:8080/"
        },
        "id": "FvSPZguYdr4T",
        "outputId": "4719bede-7bca-44fa-ba20-b7e23b3de56c"
      },
      "source": [
        "lokk2 = [[2,3],[4,5],[6,7]]\n",
        "for a,b in lokk2:\n",
        "  print(a)\n",
        "  print(b)"
      ],
      "execution_count": null,
      "outputs": [
        {
          "output_type": "stream",
          "name": "stdout",
          "text": [
            "2\n",
            "3\n",
            "4\n",
            "5\n",
            "6\n",
            "7\n"
          ]
        }
      ]
    },
    {
      "cell_type": "markdown",
      "metadata": {
        "id": "e5q0e6hacUMW"
      },
      "source": [
        "##**While Loop**##\n",
        "\n",
        "Terdapat 3 argumen yang sering digunakan yaitu :\n",
        "\n",
        "\n",
        "1.   Break = menghentikan looping\n",
        "2.   Continue = melanjutkan looping ke iterator selanjutnya dan melewati iterator saat ini\n",
        "3.   Pass = tidak melakukan apa - apa"
      ]
    },
    {
      "cell_type": "markdown",
      "metadata": {
        "id": "1I6Kp09PAaZZ"
      },
      "source": [
        "Pengulangan While Loop di dalam bahasa pemrograman Python dieksesusi statement berkali-kali selama kondisi bernilai benar atau True."
      ]
    },
    {
      "cell_type": "markdown",
      "metadata": {
        "id": "ZBEgeqo5BLez"
      },
      "source": [
        "Format perulangan ditunjukkan di bawah ini:\n",
        "\n",
        "\n",
        "    \n",
        "    \n",
        "    while <expr>:\n",
        "      <statement(s)>"
      ]
    },
    {
      "cell_type": "code",
      "metadata": {
        "colab": {
          "base_uri": "https://localhost:8080/"
        },
        "id": "QBzXTO6aAfER",
        "outputId": "955b039a-f1cd-4c3a-c44b-0bd096141213"
      },
      "source": [
        "i = 1\n",
        "while i < 6:\n",
        "  print(i) #menampilkan nilai i\n",
        "  i += 1"
      ],
      "execution_count": null,
      "outputs": [
        {
          "output_type": "stream",
          "name": "stdout",
          "text": [
            "1\n",
            "2\n",
            "3\n",
            "4\n",
            "5\n"
          ]
        }
      ]
    },
    {
      "cell_type": "markdown",
      "metadata": {
        "id": "apOkXn_UAih5"
      },
      "source": [
        "##**While Zero Iterations**##\n",
        "\n",
        "Sama seperti for-loop, while-loop dapat melakukan iterasi nol kali. Itu terjadi jika tes boolean adalah False saat pertama kali diperiksa, contoh:"
      ]
    },
    {
      "cell_type": "code",
      "metadata": {
        "colab": {
          "base_uri": "https://localhost:8080/"
        },
        "id": "V3KUW6g_ApeN",
        "outputId": "18ae0b89-d3f8-4e1b-e177-64a340e1a80b"
      },
      "source": [
        "i = 99\n",
        "while i < 10:\n",
        "    print(i)\n",
        "    i += 1\n",
        "print('Selesai')  # (zero iterations - tidak ada angka yang tercetak sama sekali)"
      ],
      "execution_count": null,
      "outputs": [
        {
          "output_type": "stream",
          "name": "stdout",
          "text": [
            "Selesai\n"
          ]
        }
      ]
    },
    {
      "cell_type": "markdown",
      "metadata": {
        "id": "9CMb5or2zfae"
      },
      "source": [
        "###1. Break###\n",
        "\n",
        "Perulangan **While** juga dapat menggunakan perintah **break**. Jika perintah **break** dipanggil, maka perulangan akan dihentikan  secara paksa. Break digunakan untuk keluar dari for loop atau while loop.\n"
      ]
    },
    {
      "cell_type": "code",
      "metadata": {
        "colab": {
          "base_uri": "https://localhost:8080/"
        },
        "id": "IGCc28FRan9-",
        "outputId": "97f0a404-fa20-47cb-f021-2ac805be68bf"
      },
      "source": [
        "#Menjalankan break \n",
        "\n",
        "indeks = 0\n",
        "while True:\n",
        "  print('Saya mahasiswa pejuang skripsi')\n",
        "  indeks += 1\n",
        "  if indeks == 5:\n",
        "    break"
      ],
      "execution_count": null,
      "outputs": [
        {
          "output_type": "stream",
          "name": "stdout",
          "text": [
            "Saya mahasiswa pejuang skripsi\n",
            "Saya mahasiswa pejuang skripsi\n",
            "Saya mahasiswa pejuang skripsi\n",
            "Saya mahasiswa pejuang skripsi\n",
            "Saya mahasiswa pejuang skripsi\n"
          ]
        }
      ]
    },
    {
      "cell_type": "code",
      "metadata": {
        "colab": {
          "base_uri": "https://localhost:8080/"
        },
        "id": "X_0PPgfguf5F",
        "outputId": "06f833d1-54c6-4921-ecd0-0333ab853280"
      },
      "source": [
        "## Mencari bilangan prima dengan 'break'\n",
        "\n",
        "for n in range(2, 15):        #Digunakan untuk membuat membuat perulangan yang dilakukan dari rentang 2-15\n",
        "  for x in range(2, n):       \n",
        "     if n % x == 0:           #Digunakan untuk mengecek apakah nilai n dibagi x bernilai 0 atau tidak\n",
        "        print(n, '=', x, '*', n//x)\n",
        "        break                 #Digunakan untuk menghentikan perurulangan\n",
        "  else :\n",
        "     print(n, 'angka prima')"
      ],
      "execution_count": null,
      "outputs": [
        {
          "output_type": "stream",
          "name": "stdout",
          "text": [
            "2 angka prima\n",
            "3 angka prima\n",
            "4 = 2 * 2\n",
            "5 angka prima\n",
            "6 = 2 * 3\n",
            "7 angka prima\n",
            "8 = 2 * 4\n",
            "9 = 3 * 3\n",
            "10 = 2 * 5\n",
            "11 angka prima\n",
            "12 = 2 * 6\n",
            "13 angka prima\n",
            "14 = 2 * 7\n"
          ]
        }
      ]
    },
    {
      "cell_type": "code",
      "metadata": {
        "colab": {
          "base_uri": "https://localhost:8080/"
        },
        "id": "zTteCVJalXZm",
        "outputId": "697ece5a-2e65-4652-d525-c8af0a43005e"
      },
      "source": [
        "#Menjalankan while dengan pembandingan kondisi\n",
        "\n",
        "x = 0                                       #awal mulai nilai x=0\n",
        "while x < 100:                              #saat kondisi nilai x<100 \n",
        "     print('Nomor urutan antrian ke: ',x)\n",
        "     x += 5                                 #nilai yang ditampilkan dengan 5 kenaikan"
      ],
      "execution_count": null,
      "outputs": [
        {
          "output_type": "stream",
          "name": "stdout",
          "text": [
            "Nomor urutan antrian ke:  0\n",
            "Nomor urutan antrian ke:  5\n",
            "Nomor urutan antrian ke:  10\n",
            "Nomor urutan antrian ke:  15\n",
            "Nomor urutan antrian ke:  20\n",
            "Nomor urutan antrian ke:  25\n",
            "Nomor urutan antrian ke:  30\n",
            "Nomor urutan antrian ke:  35\n",
            "Nomor urutan antrian ke:  40\n",
            "Nomor urutan antrian ke:  45\n",
            "Nomor urutan antrian ke:  50\n",
            "Nomor urutan antrian ke:  55\n",
            "Nomor urutan antrian ke:  60\n",
            "Nomor urutan antrian ke:  65\n",
            "Nomor urutan antrian ke:  70\n",
            "Nomor urutan antrian ke:  75\n",
            "Nomor urutan antrian ke:  80\n",
            "Nomor urutan antrian ke:  85\n",
            "Nomor urutan antrian ke:  90\n",
            "Nomor urutan antrian ke:  95\n"
          ]
        }
      ]
    },
    {
      "cell_type": "markdown",
      "metadata": {
        "id": "s33JwFbm3AWJ"
      },
      "source": [
        "###2. Continue###\n",
        "\n",
        "Perulangan **While** juga dapat menggunakan perintah **continue**. Jika perintah **continue** dipanggil, maka iterasi akan *di skip* ke iterasi selanjutnya. Continue digunakan untuk melewati blok saat ini, dan kembali ke pernyataan \"for\" atau \"while\"\n"
      ]
    },
    {
      "cell_type": "code",
      "metadata": {
        "colab": {
          "base_uri": "https://localhost:8080/"
        },
        "id": "dIoyL1X7pX9U",
        "outputId": "6432b329-ae21-4f2e-ddda-6f0f3d6e4411"
      },
      "source": [
        "#Menjalankan Continue\n",
        "\n",
        "Nim = [1,2,3,4,5,6,7,8,9,10,11,12,13,14,15]\n",
        "for item in Nim:\n",
        "  if item%2 == 0:    #Digunakan untuk mengecek apakah nilai item dibagi 2 bernilai 0 atau tidak\n",
        "    continue\n",
        "  else :\n",
        "    print('Nim yang akan presentasi adalah nim ganjil',item)  "
      ],
      "execution_count": null,
      "outputs": [
        {
          "output_type": "stream",
          "name": "stdout",
          "text": [
            "Nim yang akan presentasi adalah nim ganjil 1\n",
            "Nim yang akan presentasi adalah nim ganjil 3\n",
            "Nim yang akan presentasi adalah nim ganjil 5\n",
            "Nim yang akan presentasi adalah nim ganjil 7\n",
            "Nim yang akan presentasi adalah nim ganjil 9\n",
            "Nim yang akan presentasi adalah nim ganjil 11\n",
            "Nim yang akan presentasi adalah nim ganjil 13\n",
            "Nim yang akan presentasi adalah nim ganjil 15\n"
          ]
        }
      ]
    },
    {
      "cell_type": "code",
      "metadata": {
        "colab": {
          "base_uri": "https://localhost:8080/"
        },
        "id": "SpB8FJbuxo-Q",
        "outputId": "c8c7a149-4f20-4177-8d9f-11c3c56baf3f"
      },
      "source": [
        "for number in range(2, 10):\n",
        "  if number % 2 == 0:           #Digunakan untuk mengecek apakah nilai num dibagi 2 bernilai 0 atau tidak\n",
        "    print(\"Angka genap\", number)\n",
        "    continue\n",
        "  print(\"Angka ganjil\", number)"
      ],
      "execution_count": null,
      "outputs": [
        {
          "output_type": "stream",
          "name": "stdout",
          "text": [
            "Angka genap 2\n",
            "Angka ganjil 3\n",
            "Angka genap 4\n",
            "Angka ganjil 5\n",
            "Angka genap 6\n",
            "Angka ganjil 7\n",
            "Angka genap 8\n",
            "Angka ganjil 9\n"
          ]
        }
      ]
    },
    {
      "cell_type": "markdown",
      "metadata": {
        "id": "eZfimbmu-MUs"
      },
      "source": [
        "###3. Pass###\n",
        "\n",
        "Sebenarnya **pass** ini tidak memiliki fungsi yang sangat penting, bahkan sangat jarang digunakan oleh programer. Jadi pass ini sebenarnya hanya mengisi kekosongan dari sebuah penyeleksian atau perulangan.Pass berguna saat kita tidak akan melakukan sesuatu pada sebuah perulangan maka agar program tidak eror nantinya ditambah **pass**."
      ]
    },
    {
      "cell_type": "code",
      "metadata": {
        "id": "FtsUrao1riUJ"
      },
      "source": [
        "#Menjalankan Pass\n",
        "\n",
        "for i in 'Saya mahasiswa yang sudah siap lulus':\n",
        "  if i == 'b':\n",
        "      pass \n",
        "  else:\n",
        "      continue"
      ],
      "execution_count": null,
      "outputs": []
    },
    {
      "cell_type": "code",
      "metadata": {
        "colab": {
          "base_uri": "https://localhost:8080/",
          "height": 129
        },
        "id": "9CTWlMt5tFwM",
        "outputId": "26e77c79-f170-4498-a20d-7ca3ecdb7900"
      },
      "source": [
        "#Jika tidak dicantumkan *pass* program akan error\n",
        "\n",
        "for i in 'qwerty':"
      ],
      "execution_count": null,
      "outputs": [
        {
          "output_type": "error",
          "ename": "SyntaxError",
          "evalue": "ignored",
          "traceback": [
            "\u001b[0;36m  File \u001b[0;32m\"<ipython-input-31-73f0e5e836e3>\"\u001b[0;36m, line \u001b[0;32m3\u001b[0m\n\u001b[0;31m    for i in 'qwerty':\u001b[0m\n\u001b[0m                      ^\u001b[0m\n\u001b[0;31mSyntaxError\u001b[0m\u001b[0;31m:\u001b[0m unexpected EOF while parsing\n"
          ]
        }
      ]
    },
    {
      "cell_type": "code",
      "metadata": {
        "id": "XdSz3c84tLmH"
      },
      "source": [
        "#Jika dicantumkan program akan berjalan atau tidak error\n",
        "\n",
        "for i in 'qwerty':\n",
        "    pass"
      ],
      "execution_count": null,
      "outputs": []
    },
    {
      "cell_type": "markdown",
      "metadata": {
        "id": "NTv0a0m1dwer"
      },
      "source": [
        "#**Nested Loop in Python**#"
      ]
    },
    {
      "cell_type": "markdown",
      "metadata": {
        "id": "NSXbWcVUd_M_"
      },
      "source": [
        "Nested loop adalah loop di dalam loop.\n",
        "\n",
        "\"Inner loop\" akan dieksekusi satu kali untuk setiap iterasi dari \"outer loop\".\n",
        "\n",
        "Ketika sebuah nested loop di dalam loop lain, inner loop melakukan iterasi berkali-kali di dalam outer loop. Inner loop harus menyelesaikan semua iterasinya sebelum outer loop dapat melanjutkan ke iterasi berikutnya. Dalam setiap iterasi outer loop, inner loop akan memulai iterasi kembali dari awal."
      ]
    },
    {
      "cell_type": "code",
      "metadata": {
        "id": "fM6pAEhVeHIy",
        "colab": {
          "base_uri": "https://localhost:8080/"
        },
        "outputId": "0908877b-3a95-43ae-956d-0033d2243145"
      },
      "source": [
        "adj = [\"red\", \"big\", \"tasty\"]\n",
        "fruits = [\"apple\", \"banana\", \"cherry\"]\n",
        "\n",
        "for x in adj:\n",
        "  for y in fruits:\n",
        "    print(x, y)"
      ],
      "execution_count": null,
      "outputs": [
        {
          "output_type": "stream",
          "name": "stdout",
          "text": [
            "red apple\n",
            "red banana\n",
            "red cherry\n",
            "big apple\n",
            "big banana\n",
            "big cherry\n",
            "tasty apple\n",
            "tasty banana\n",
            "tasty cherry\n"
          ]
        }
      ]
    },
    {
      "cell_type": "code",
      "metadata": {
        "id": "3NGvCocPeJwk",
        "colab": {
          "base_uri": "https://localhost:8080/"
        },
        "outputId": "41319ac8-6e60-41e0-fe57-1916c2297e23"
      },
      "source": [
        "# outer loop\n",
        "for i in range(1, 11):\n",
        "    # nested loop\n",
        "    # to iterate from 1 to 10\n",
        "    for j in range(1, 11):\n",
        "        # print multiplication\n",
        "        print(i * j, end=' ')\n",
        "    print()"
      ],
      "execution_count": null,
      "outputs": [
        {
          "output_type": "stream",
          "name": "stdout",
          "text": [
            "1 2 3 4 5 6 7 8 9 10 \n",
            "2 4 6 8 10 12 14 16 18 20 \n",
            "3 6 9 12 15 18 21 24 27 30 \n",
            "4 8 12 16 20 24 28 32 36 40 \n",
            "5 10 15 20 25 30 35 40 45 50 \n",
            "6 12 18 24 30 36 42 48 54 60 \n",
            "7 14 21 28 35 42 49 56 63 70 \n",
            "8 16 24 32 40 48 56 64 72 80 \n",
            "9 18 27 36 45 54 63 72 81 90 \n",
            "10 20 30 40 50 60 70 80 90 100 \n"
          ]
        }
      ]
    },
    {
      "cell_type": "markdown",
      "metadata": {
        "id": "u9e03DeJeMgB"
      },
      "source": [
        "- Dalam program ini, outer loop for adalah angka iterasi dari 1 hingga 10. Sehingga jumlah iterasi dari outer loop adalah 10.\n",
        "- Pada iterasi pertama dari nested loop, jumlahnya adalah 1. Pada iterasi berikutnya, itu 2. dan seterusnya hingga 10.\n",
        "- Selanjutnya, Untuk setiap iterasi outer loop, inner loop akan dieksekusi sepuluh kali. Inner loop juga akan dieksekusi sepuluh kali.\n",
        "- Dalam setiap iterasi inner loop, dihitung perkalian dua angka."
      ]
    }
  ]
}